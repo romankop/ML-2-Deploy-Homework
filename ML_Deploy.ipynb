{
  "nbformat": 4,
  "nbformat_minor": 0,
  "metadata": {
    "kernelspec": {
      "display_name": "Python 3",
      "language": "python",
      "name": "python3"
    },
    "language_info": {
      "codemirror_mode": {
        "name": "ipython",
        "version": 3
      },
      "file_extension": ".py",
      "mimetype": "text/x-python",
      "name": "python",
      "nbconvert_exporter": "python",
      "pygments_lexer": "ipython3",
      "version": "3.7.4"
    },
    "colab": {
      "provenance": []
    },
    "widgets": {
      "application/vnd.jupyter.widget-state+json": {
        "d293dee22b0447ae908953700d0e0d90": {
          "model_module": "@jupyter-widgets/controls",
          "model_name": "HBoxModel",
          "state": {
            "_view_name": "HBoxView",
            "_dom_classes": [],
            "_model_name": "HBoxModel",
            "_view_module": "@jupyter-widgets/controls",
            "_model_module_version": "1.5.0",
            "_view_count": null,
            "_view_module_version": "1.5.0",
            "box_style": "",
            "layout": "IPY_MODEL_8d86fb11ea16426fb2c7b2226253844c",
            "_model_module": "@jupyter-widgets/controls",
            "children": [
              "IPY_MODEL_ea7f40bffdd64e0996ee16300636b40a",
              "IPY_MODEL_5603b28c82634331921fd4064281d855"
            ]
          },
          "model_module_version": "1.5.0"
        },
        "8d86fb11ea16426fb2c7b2226253844c": {
          "model_module": "@jupyter-widgets/base",
          "model_name": "LayoutModel",
          "state": {
            "_view_name": "LayoutView",
            "grid_template_rows": null,
            "right": null,
            "justify_content": null,
            "_view_module": "@jupyter-widgets/base",
            "overflow": null,
            "_model_module_version": "1.2.0",
            "_view_count": null,
            "flex_flow": null,
            "width": null,
            "min_width": null,
            "border": null,
            "align_items": null,
            "bottom": null,
            "_model_module": "@jupyter-widgets/base",
            "top": null,
            "grid_column": null,
            "overflow_y": null,
            "overflow_x": null,
            "grid_auto_flow": null,
            "grid_area": null,
            "grid_template_columns": null,
            "flex": null,
            "_model_name": "LayoutModel",
            "justify_items": null,
            "grid_row": null,
            "max_height": null,
            "align_content": null,
            "visibility": null,
            "align_self": null,
            "height": null,
            "min_height": null,
            "padding": null,
            "grid_auto_rows": null,
            "grid_gap": null,
            "max_width": null,
            "order": null,
            "_view_module_version": "1.2.0",
            "grid_template_areas": null,
            "object_position": null,
            "object_fit": null,
            "grid_auto_columns": null,
            "margin": null,
            "display": null,
            "left": null
          },
          "model_module_version": "1.2.0"
        },
        "ea7f40bffdd64e0996ee16300636b40a": {
          "model_module": "@jupyter-widgets/controls",
          "model_name": "FloatProgressModel",
          "state": {
            "_view_name": "ProgressView",
            "style": "IPY_MODEL_ec47814ca71340eb97690b0d11ae032c",
            "_dom_classes": [],
            "description": "Downloading: 100%",
            "_model_name": "FloatProgressModel",
            "bar_style": "success",
            "max": 898823,
            "_view_module": "@jupyter-widgets/controls",
            "_model_module_version": "1.5.0",
            "value": 898823,
            "_view_count": null,
            "_view_module_version": "1.5.0",
            "orientation": "horizontal",
            "min": 0,
            "description_tooltip": null,
            "_model_module": "@jupyter-widgets/controls",
            "layout": "IPY_MODEL_8ba1849d8c674747be2a7441cf963f3a"
          },
          "model_module_version": "1.5.0"
        },
        "5603b28c82634331921fd4064281d855": {
          "model_module": "@jupyter-widgets/controls",
          "model_name": "HTMLModel",
          "state": {
            "_view_name": "HTMLView",
            "style": "IPY_MODEL_a766369a1a5d424cba7fec35416a1db8",
            "_dom_classes": [],
            "description": "",
            "_model_name": "HTMLModel",
            "placeholder": "​",
            "_view_module": "@jupyter-widgets/controls",
            "_model_module_version": "1.5.0",
            "value": " 899k/899k [00:00&lt;00:00, 2.04MB/s]",
            "_view_count": null,
            "_view_module_version": "1.5.0",
            "description_tooltip": null,
            "_model_module": "@jupyter-widgets/controls",
            "layout": "IPY_MODEL_e0ea2f0922574599814b97c073e1fed3"
          },
          "model_module_version": "1.5.0"
        },
        "ec47814ca71340eb97690b0d11ae032c": {
          "model_module": "@jupyter-widgets/controls",
          "model_name": "ProgressStyleModel",
          "state": {
            "_view_name": "StyleView",
            "_model_name": "ProgressStyleModel",
            "description_width": "initial",
            "_view_module": "@jupyter-widgets/base",
            "_model_module_version": "1.5.0",
            "_view_count": null,
            "_view_module_version": "1.2.0",
            "bar_color": null,
            "_model_module": "@jupyter-widgets/controls"
          },
          "model_module_version": "1.5.0"
        },
        "8ba1849d8c674747be2a7441cf963f3a": {
          "model_module": "@jupyter-widgets/base",
          "model_name": "LayoutModel",
          "state": {
            "_view_name": "LayoutView",
            "grid_template_rows": null,
            "right": null,
            "justify_content": null,
            "_view_module": "@jupyter-widgets/base",
            "overflow": null,
            "_model_module_version": "1.2.0",
            "_view_count": null,
            "flex_flow": null,
            "width": null,
            "min_width": null,
            "border": null,
            "align_items": null,
            "bottom": null,
            "_model_module": "@jupyter-widgets/base",
            "top": null,
            "grid_column": null,
            "overflow_y": null,
            "overflow_x": null,
            "grid_auto_flow": null,
            "grid_area": null,
            "grid_template_columns": null,
            "flex": null,
            "_model_name": "LayoutModel",
            "justify_items": null,
            "grid_row": null,
            "max_height": null,
            "align_content": null,
            "visibility": null,
            "align_self": null,
            "height": null,
            "min_height": null,
            "padding": null,
            "grid_auto_rows": null,
            "grid_gap": null,
            "max_width": null,
            "order": null,
            "_view_module_version": "1.2.0",
            "grid_template_areas": null,
            "object_position": null,
            "object_fit": null,
            "grid_auto_columns": null,
            "margin": null,
            "display": null,
            "left": null
          },
          "model_module_version": "1.2.0"
        },
        "a766369a1a5d424cba7fec35416a1db8": {
          "model_module": "@jupyter-widgets/controls",
          "model_name": "DescriptionStyleModel",
          "state": {
            "_view_name": "StyleView",
            "_model_name": "DescriptionStyleModel",
            "description_width": "",
            "_view_module": "@jupyter-widgets/base",
            "_model_module_version": "1.5.0",
            "_view_count": null,
            "_view_module_version": "1.2.0",
            "_model_module": "@jupyter-widgets/controls"
          },
          "model_module_version": "1.5.0"
        },
        "e0ea2f0922574599814b97c073e1fed3": {
          "model_module": "@jupyter-widgets/base",
          "model_name": "LayoutModel",
          "state": {
            "_view_name": "LayoutView",
            "grid_template_rows": null,
            "right": null,
            "justify_content": null,
            "_view_module": "@jupyter-widgets/base",
            "overflow": null,
            "_model_module_version": "1.2.0",
            "_view_count": null,
            "flex_flow": null,
            "width": null,
            "min_width": null,
            "border": null,
            "align_items": null,
            "bottom": null,
            "_model_module": "@jupyter-widgets/base",
            "top": null,
            "grid_column": null,
            "overflow_y": null,
            "overflow_x": null,
            "grid_auto_flow": null,
            "grid_area": null,
            "grid_template_columns": null,
            "flex": null,
            "_model_name": "LayoutModel",
            "justify_items": null,
            "grid_row": null,
            "max_height": null,
            "align_content": null,
            "visibility": null,
            "align_self": null,
            "height": null,
            "min_height": null,
            "padding": null,
            "grid_auto_rows": null,
            "grid_gap": null,
            "max_width": null,
            "order": null,
            "_view_module_version": "1.2.0",
            "grid_template_areas": null,
            "object_position": null,
            "object_fit": null,
            "grid_auto_columns": null,
            "margin": null,
            "display": null,
            "left": null
          },
          "model_module_version": "1.2.0"
        },
        "28ae8b47d1b9438eb467b6084f01036c": {
          "model_module": "@jupyter-widgets/controls",
          "model_name": "HBoxModel",
          "state": {
            "_view_name": "HBoxView",
            "_dom_classes": [],
            "_model_name": "HBoxModel",
            "_view_module": "@jupyter-widgets/controls",
            "_model_module_version": "1.5.0",
            "_view_count": null,
            "_view_module_version": "1.5.0",
            "box_style": "",
            "layout": "IPY_MODEL_0582b3e4528142cdb09f60ded2e04db7",
            "_model_module": "@jupyter-widgets/controls",
            "children": [
              "IPY_MODEL_38d6b2df2310444c9469219086be13ed",
              "IPY_MODEL_0669582b551348b4806120480b340183"
            ]
          },
          "model_module_version": "1.5.0"
        },
        "0582b3e4528142cdb09f60ded2e04db7": {
          "model_module": "@jupyter-widgets/base",
          "model_name": "LayoutModel",
          "state": {
            "_view_name": "LayoutView",
            "grid_template_rows": null,
            "right": null,
            "justify_content": null,
            "_view_module": "@jupyter-widgets/base",
            "overflow": null,
            "_model_module_version": "1.2.0",
            "_view_count": null,
            "flex_flow": null,
            "width": null,
            "min_width": null,
            "border": null,
            "align_items": null,
            "bottom": null,
            "_model_module": "@jupyter-widgets/base",
            "top": null,
            "grid_column": null,
            "overflow_y": null,
            "overflow_x": null,
            "grid_auto_flow": null,
            "grid_area": null,
            "grid_template_columns": null,
            "flex": null,
            "_model_name": "LayoutModel",
            "justify_items": null,
            "grid_row": null,
            "max_height": null,
            "align_content": null,
            "visibility": null,
            "align_self": null,
            "height": null,
            "min_height": null,
            "padding": null,
            "grid_auto_rows": null,
            "grid_gap": null,
            "max_width": null,
            "order": null,
            "_view_module_version": "1.2.0",
            "grid_template_areas": null,
            "object_position": null,
            "object_fit": null,
            "grid_auto_columns": null,
            "margin": null,
            "display": null,
            "left": null
          },
          "model_module_version": "1.2.0"
        },
        "38d6b2df2310444c9469219086be13ed": {
          "model_module": "@jupyter-widgets/controls",
          "model_name": "FloatProgressModel",
          "state": {
            "_view_name": "ProgressView",
            "style": "IPY_MODEL_f8fbc887a54140ba81f9ada389bbfb61",
            "_dom_classes": [],
            "description": "Downloading: 100%",
            "_model_name": "FloatProgressModel",
            "bar_style": "success",
            "max": 456318,
            "_view_module": "@jupyter-widgets/controls",
            "_model_module_version": "1.5.0",
            "value": 456318,
            "_view_count": null,
            "_view_module_version": "1.5.0",
            "orientation": "horizontal",
            "min": 0,
            "description_tooltip": null,
            "_model_module": "@jupyter-widgets/controls",
            "layout": "IPY_MODEL_8a52a8e3a117418cbb4b9970ed044d37"
          },
          "model_module_version": "1.5.0"
        },
        "0669582b551348b4806120480b340183": {
          "model_module": "@jupyter-widgets/controls",
          "model_name": "HTMLModel",
          "state": {
            "_view_name": "HTMLView",
            "style": "IPY_MODEL_0a4e510c3fff47e3b27282974a19add5",
            "_dom_classes": [],
            "description": "",
            "_model_name": "HTMLModel",
            "placeholder": "​",
            "_view_module": "@jupyter-widgets/controls",
            "_model_module_version": "1.5.0",
            "value": " 456k/456k [00:00&lt;00:00, 1.47MB/s]",
            "_view_count": null,
            "_view_module_version": "1.5.0",
            "description_tooltip": null,
            "_model_module": "@jupyter-widgets/controls",
            "layout": "IPY_MODEL_2abe38054a3b43708acd4755d100208e"
          },
          "model_module_version": "1.5.0"
        },
        "f8fbc887a54140ba81f9ada389bbfb61": {
          "model_module": "@jupyter-widgets/controls",
          "model_name": "ProgressStyleModel",
          "state": {
            "_view_name": "StyleView",
            "_model_name": "ProgressStyleModel",
            "description_width": "initial",
            "_view_module": "@jupyter-widgets/base",
            "_model_module_version": "1.5.0",
            "_view_count": null,
            "_view_module_version": "1.2.0",
            "bar_color": null,
            "_model_module": "@jupyter-widgets/controls"
          },
          "model_module_version": "1.5.0"
        },
        "8a52a8e3a117418cbb4b9970ed044d37": {
          "model_module": "@jupyter-widgets/base",
          "model_name": "LayoutModel",
          "state": {
            "_view_name": "LayoutView",
            "grid_template_rows": null,
            "right": null,
            "justify_content": null,
            "_view_module": "@jupyter-widgets/base",
            "overflow": null,
            "_model_module_version": "1.2.0",
            "_view_count": null,
            "flex_flow": null,
            "width": null,
            "min_width": null,
            "border": null,
            "align_items": null,
            "bottom": null,
            "_model_module": "@jupyter-widgets/base",
            "top": null,
            "grid_column": null,
            "overflow_y": null,
            "overflow_x": null,
            "grid_auto_flow": null,
            "grid_area": null,
            "grid_template_columns": null,
            "flex": null,
            "_model_name": "LayoutModel",
            "justify_items": null,
            "grid_row": null,
            "max_height": null,
            "align_content": null,
            "visibility": null,
            "align_self": null,
            "height": null,
            "min_height": null,
            "padding": null,
            "grid_auto_rows": null,
            "grid_gap": null,
            "max_width": null,
            "order": null,
            "_view_module_version": "1.2.0",
            "grid_template_areas": null,
            "object_position": null,
            "object_fit": null,
            "grid_auto_columns": null,
            "margin": null,
            "display": null,
            "left": null
          },
          "model_module_version": "1.2.0"
        },
        "0a4e510c3fff47e3b27282974a19add5": {
          "model_module": "@jupyter-widgets/controls",
          "model_name": "DescriptionStyleModel",
          "state": {
            "_view_name": "StyleView",
            "_model_name": "DescriptionStyleModel",
            "description_width": "",
            "_view_module": "@jupyter-widgets/base",
            "_model_module_version": "1.5.0",
            "_view_count": null,
            "_view_module_version": "1.2.0",
            "_model_module": "@jupyter-widgets/controls"
          },
          "model_module_version": "1.5.0"
        },
        "2abe38054a3b43708acd4755d100208e": {
          "model_module": "@jupyter-widgets/base",
          "model_name": "LayoutModel",
          "state": {
            "_view_name": "LayoutView",
            "grid_template_rows": null,
            "right": null,
            "justify_content": null,
            "_view_module": "@jupyter-widgets/base",
            "overflow": null,
            "_model_module_version": "1.2.0",
            "_view_count": null,
            "flex_flow": null,
            "width": null,
            "min_width": null,
            "border": null,
            "align_items": null,
            "bottom": null,
            "_model_module": "@jupyter-widgets/base",
            "top": null,
            "grid_column": null,
            "overflow_y": null,
            "overflow_x": null,
            "grid_auto_flow": null,
            "grid_area": null,
            "grid_template_columns": null,
            "flex": null,
            "_model_name": "LayoutModel",
            "justify_items": null,
            "grid_row": null,
            "max_height": null,
            "align_content": null,
            "visibility": null,
            "align_self": null,
            "height": null,
            "min_height": null,
            "padding": null,
            "grid_auto_rows": null,
            "grid_gap": null,
            "max_width": null,
            "order": null,
            "_view_module_version": "1.2.0",
            "grid_template_areas": null,
            "object_position": null,
            "object_fit": null,
            "grid_auto_columns": null,
            "margin": null,
            "display": null,
            "left": null
          },
          "model_module_version": "1.2.0"
        },
        "da8c19d1aaa74715b823e1667235b0d1": {
          "model_module": "@jupyter-widgets/controls",
          "model_name": "HBoxModel",
          "state": {
            "_view_name": "HBoxView",
            "_dom_classes": [],
            "_model_name": "HBoxModel",
            "_view_module": "@jupyter-widgets/controls",
            "_model_module_version": "1.5.0",
            "_view_count": null,
            "_view_module_version": "1.5.0",
            "box_style": "",
            "layout": "IPY_MODEL_9b620a0ba8b04b9a8f9e45964e3e8a00",
            "_model_module": "@jupyter-widgets/controls",
            "children": [
              "IPY_MODEL_84619e47d9da46edb0738caa5fe65f28",
              "IPY_MODEL_a2e8f2d8beb540b79c48c14f256b573d"
            ]
          },
          "model_module_version": "1.5.0"
        },
        "9b620a0ba8b04b9a8f9e45964e3e8a00": {
          "model_module": "@jupyter-widgets/base",
          "model_name": "LayoutModel",
          "state": {
            "_view_name": "LayoutView",
            "grid_template_rows": null,
            "right": null,
            "justify_content": null,
            "_view_module": "@jupyter-widgets/base",
            "overflow": null,
            "_model_module_version": "1.2.0",
            "_view_count": null,
            "flex_flow": null,
            "width": null,
            "min_width": null,
            "border": null,
            "align_items": null,
            "bottom": null,
            "_model_module": "@jupyter-widgets/base",
            "top": null,
            "grid_column": null,
            "overflow_y": null,
            "overflow_x": null,
            "grid_auto_flow": null,
            "grid_area": null,
            "grid_template_columns": null,
            "flex": null,
            "_model_name": "LayoutModel",
            "justify_items": null,
            "grid_row": null,
            "max_height": null,
            "align_content": null,
            "visibility": null,
            "align_self": null,
            "height": null,
            "min_height": null,
            "padding": null,
            "grid_auto_rows": null,
            "grid_gap": null,
            "max_width": null,
            "order": null,
            "_view_module_version": "1.2.0",
            "grid_template_areas": null,
            "object_position": null,
            "object_fit": null,
            "grid_auto_columns": null,
            "margin": null,
            "display": null,
            "left": null
          },
          "model_module_version": "1.2.0"
        },
        "84619e47d9da46edb0738caa5fe65f28": {
          "model_module": "@jupyter-widgets/controls",
          "model_name": "FloatProgressModel",
          "state": {
            "_view_name": "ProgressView",
            "style": "IPY_MODEL_8a707019fdac4ff6be96433cc8ef1299",
            "_dom_classes": [],
            "description": "Downloading: 100%",
            "_model_name": "FloatProgressModel",
            "bar_style": "success",
            "max": 1355863,
            "_view_module": "@jupyter-widgets/controls",
            "_model_module_version": "1.5.0",
            "value": 1355863,
            "_view_count": null,
            "_view_module_version": "1.5.0",
            "orientation": "horizontal",
            "min": 0,
            "description_tooltip": null,
            "_model_module": "@jupyter-widgets/controls",
            "layout": "IPY_MODEL_c99fdd1dcd80405e8282487a04c0eaa8"
          },
          "model_module_version": "1.5.0"
        },
        "a2e8f2d8beb540b79c48c14f256b573d": {
          "model_module": "@jupyter-widgets/controls",
          "model_name": "HTMLModel",
          "state": {
            "_view_name": "HTMLView",
            "style": "IPY_MODEL_10dae954380e43c882edb6f2aa16d6a7",
            "_dom_classes": [],
            "description": "",
            "_model_name": "HTMLModel",
            "placeholder": "​",
            "_view_module": "@jupyter-widgets/controls",
            "_model_module_version": "1.5.0",
            "value": " 1.36M/1.36M [00:00&lt;00:00, 11.3MB/s]",
            "_view_count": null,
            "_view_module_version": "1.5.0",
            "description_tooltip": null,
            "_model_module": "@jupyter-widgets/controls",
            "layout": "IPY_MODEL_d19eb1af767f4c0eba4460cb2a14eb57"
          },
          "model_module_version": "1.5.0"
        },
        "8a707019fdac4ff6be96433cc8ef1299": {
          "model_module": "@jupyter-widgets/controls",
          "model_name": "ProgressStyleModel",
          "state": {
            "_view_name": "StyleView",
            "_model_name": "ProgressStyleModel",
            "description_width": "initial",
            "_view_module": "@jupyter-widgets/base",
            "_model_module_version": "1.5.0",
            "_view_count": null,
            "_view_module_version": "1.2.0",
            "bar_color": null,
            "_model_module": "@jupyter-widgets/controls"
          },
          "model_module_version": "1.5.0"
        },
        "c99fdd1dcd80405e8282487a04c0eaa8": {
          "model_module": "@jupyter-widgets/base",
          "model_name": "LayoutModel",
          "state": {
            "_view_name": "LayoutView",
            "grid_template_rows": null,
            "right": null,
            "justify_content": null,
            "_view_module": "@jupyter-widgets/base",
            "overflow": null,
            "_model_module_version": "1.2.0",
            "_view_count": null,
            "flex_flow": null,
            "width": null,
            "min_width": null,
            "border": null,
            "align_items": null,
            "bottom": null,
            "_model_module": "@jupyter-widgets/base",
            "top": null,
            "grid_column": null,
            "overflow_y": null,
            "overflow_x": null,
            "grid_auto_flow": null,
            "grid_area": null,
            "grid_template_columns": null,
            "flex": null,
            "_model_name": "LayoutModel",
            "justify_items": null,
            "grid_row": null,
            "max_height": null,
            "align_content": null,
            "visibility": null,
            "align_self": null,
            "height": null,
            "min_height": null,
            "padding": null,
            "grid_auto_rows": null,
            "grid_gap": null,
            "max_width": null,
            "order": null,
            "_view_module_version": "1.2.0",
            "grid_template_areas": null,
            "object_position": null,
            "object_fit": null,
            "grid_auto_columns": null,
            "margin": null,
            "display": null,
            "left": null
          },
          "model_module_version": "1.2.0"
        },
        "10dae954380e43c882edb6f2aa16d6a7": {
          "model_module": "@jupyter-widgets/controls",
          "model_name": "DescriptionStyleModel",
          "state": {
            "_view_name": "StyleView",
            "_model_name": "DescriptionStyleModel",
            "description_width": "",
            "_view_module": "@jupyter-widgets/base",
            "_model_module_version": "1.5.0",
            "_view_count": null,
            "_view_module_version": "1.2.0",
            "_model_module": "@jupyter-widgets/controls"
          },
          "model_module_version": "1.5.0"
        },
        "d19eb1af767f4c0eba4460cb2a14eb57": {
          "model_module": "@jupyter-widgets/base",
          "model_name": "LayoutModel",
          "state": {
            "_view_name": "LayoutView",
            "grid_template_rows": null,
            "right": null,
            "justify_content": null,
            "_view_module": "@jupyter-widgets/base",
            "overflow": null,
            "_model_module_version": "1.2.0",
            "_view_count": null,
            "flex_flow": null,
            "width": null,
            "min_width": null,
            "border": null,
            "align_items": null,
            "bottom": null,
            "_model_module": "@jupyter-widgets/base",
            "top": null,
            "grid_column": null,
            "overflow_y": null,
            "overflow_x": null,
            "grid_auto_flow": null,
            "grid_area": null,
            "grid_template_columns": null,
            "flex": null,
            "_model_name": "LayoutModel",
            "justify_items": null,
            "grid_row": null,
            "max_height": null,
            "align_content": null,
            "visibility": null,
            "align_self": null,
            "height": null,
            "min_height": null,
            "padding": null,
            "grid_auto_rows": null,
            "grid_gap": null,
            "max_width": null,
            "order": null,
            "_view_module_version": "1.2.0",
            "grid_template_areas": null,
            "object_position": null,
            "object_fit": null,
            "grid_auto_columns": null,
            "margin": null,
            "display": null,
            "left": null
          },
          "model_module_version": "1.2.0"
        },
        "6949afa9dbda4ddd9a43329ee6e16857": {
          "model_module": "@jupyter-widgets/controls",
          "model_name": "HBoxModel",
          "state": {
            "_view_name": "HBoxView",
            "_dom_classes": [],
            "_model_name": "HBoxModel",
            "_view_module": "@jupyter-widgets/controls",
            "_model_module_version": "1.5.0",
            "_view_count": null,
            "_view_module_version": "1.5.0",
            "box_style": "",
            "layout": "IPY_MODEL_217771becd0740c4bcfc5b9adf0c6c04",
            "_model_module": "@jupyter-widgets/controls",
            "children": [
              "IPY_MODEL_4834b71a7004435b93d94353441b518d",
              "IPY_MODEL_3a630bbd2c144eb5a82f511654f270bb"
            ]
          },
          "model_module_version": "1.5.0"
        },
        "217771becd0740c4bcfc5b9adf0c6c04": {
          "model_module": "@jupyter-widgets/base",
          "model_name": "LayoutModel",
          "state": {
            "_view_name": "LayoutView",
            "grid_template_rows": null,
            "right": null,
            "justify_content": null,
            "_view_module": "@jupyter-widgets/base",
            "overflow": null,
            "_model_module_version": "1.2.0",
            "_view_count": null,
            "flex_flow": null,
            "width": null,
            "min_width": null,
            "border": null,
            "align_items": null,
            "bottom": null,
            "_model_module": "@jupyter-widgets/base",
            "top": null,
            "grid_column": null,
            "overflow_y": null,
            "overflow_x": null,
            "grid_auto_flow": null,
            "grid_area": null,
            "grid_template_columns": null,
            "flex": null,
            "_model_name": "LayoutModel",
            "justify_items": null,
            "grid_row": null,
            "max_height": null,
            "align_content": null,
            "visibility": null,
            "align_self": null,
            "height": null,
            "min_height": null,
            "padding": null,
            "grid_auto_rows": null,
            "grid_gap": null,
            "max_width": null,
            "order": null,
            "_view_module_version": "1.2.0",
            "grid_template_areas": null,
            "object_position": null,
            "object_fit": null,
            "grid_auto_columns": null,
            "margin": null,
            "display": null,
            "left": null
          },
          "model_module_version": "1.2.0"
        },
        "4834b71a7004435b93d94353441b518d": {
          "model_module": "@jupyter-widgets/controls",
          "model_name": "FloatProgressModel",
          "state": {
            "_view_name": "ProgressView",
            "style": "IPY_MODEL_a9a257884d164d66afdf8017f7e7cc9c",
            "_dom_classes": [],
            "description": "Downloading: 100%",
            "_model_name": "FloatProgressModel",
            "bar_style": "success",
            "max": 1627,
            "_view_module": "@jupyter-widgets/controls",
            "_model_module_version": "1.5.0",
            "value": 1627,
            "_view_count": null,
            "_view_module_version": "1.5.0",
            "orientation": "horizontal",
            "min": 0,
            "description_tooltip": null,
            "_model_module": "@jupyter-widgets/controls",
            "layout": "IPY_MODEL_9a8fd1caa155450db0890e85427aa320"
          },
          "model_module_version": "1.5.0"
        },
        "3a630bbd2c144eb5a82f511654f270bb": {
          "model_module": "@jupyter-widgets/controls",
          "model_name": "HTMLModel",
          "state": {
            "_view_name": "HTMLView",
            "style": "IPY_MODEL_b57f07f3a3a0462aa8ca73fcec310e22",
            "_dom_classes": [],
            "description": "",
            "_model_name": "HTMLModel",
            "placeholder": "​",
            "_view_module": "@jupyter-widgets/controls",
            "_model_module_version": "1.5.0",
            "value": " 1.63k/1.63k [00:12&lt;00:00, 126B/s]",
            "_view_count": null,
            "_view_module_version": "1.5.0",
            "description_tooltip": null,
            "_model_module": "@jupyter-widgets/controls",
            "layout": "IPY_MODEL_5e15bc51ac214803997b94bde8c508d1"
          },
          "model_module_version": "1.5.0"
        },
        "a9a257884d164d66afdf8017f7e7cc9c": {
          "model_module": "@jupyter-widgets/controls",
          "model_name": "ProgressStyleModel",
          "state": {
            "_view_name": "StyleView",
            "_model_name": "ProgressStyleModel",
            "description_width": "initial",
            "_view_module": "@jupyter-widgets/base",
            "_model_module_version": "1.5.0",
            "_view_count": null,
            "_view_module_version": "1.2.0",
            "bar_color": null,
            "_model_module": "@jupyter-widgets/controls"
          },
          "model_module_version": "1.5.0"
        },
        "9a8fd1caa155450db0890e85427aa320": {
          "model_module": "@jupyter-widgets/base",
          "model_name": "LayoutModel",
          "state": {
            "_view_name": "LayoutView",
            "grid_template_rows": null,
            "right": null,
            "justify_content": null,
            "_view_module": "@jupyter-widgets/base",
            "overflow": null,
            "_model_module_version": "1.2.0",
            "_view_count": null,
            "flex_flow": null,
            "width": null,
            "min_width": null,
            "border": null,
            "align_items": null,
            "bottom": null,
            "_model_module": "@jupyter-widgets/base",
            "top": null,
            "grid_column": null,
            "overflow_y": null,
            "overflow_x": null,
            "grid_auto_flow": null,
            "grid_area": null,
            "grid_template_columns": null,
            "flex": null,
            "_model_name": "LayoutModel",
            "justify_items": null,
            "grid_row": null,
            "max_height": null,
            "align_content": null,
            "visibility": null,
            "align_self": null,
            "height": null,
            "min_height": null,
            "padding": null,
            "grid_auto_rows": null,
            "grid_gap": null,
            "max_width": null,
            "order": null,
            "_view_module_version": "1.2.0",
            "grid_template_areas": null,
            "object_position": null,
            "object_fit": null,
            "grid_auto_columns": null,
            "margin": null,
            "display": null,
            "left": null
          },
          "model_module_version": "1.2.0"
        },
        "b57f07f3a3a0462aa8ca73fcec310e22": {
          "model_module": "@jupyter-widgets/controls",
          "model_name": "DescriptionStyleModel",
          "state": {
            "_view_name": "StyleView",
            "_model_name": "DescriptionStyleModel",
            "description_width": "",
            "_view_module": "@jupyter-widgets/base",
            "_model_module_version": "1.5.0",
            "_view_count": null,
            "_view_module_version": "1.2.0",
            "_model_module": "@jupyter-widgets/controls"
          },
          "model_module_version": "1.5.0"
        },
        "5e15bc51ac214803997b94bde8c508d1": {
          "model_module": "@jupyter-widgets/base",
          "model_name": "LayoutModel",
          "state": {
            "_view_name": "LayoutView",
            "grid_template_rows": null,
            "right": null,
            "justify_content": null,
            "_view_module": "@jupyter-widgets/base",
            "overflow": null,
            "_model_module_version": "1.2.0",
            "_view_count": null,
            "flex_flow": null,
            "width": null,
            "min_width": null,
            "border": null,
            "align_items": null,
            "bottom": null,
            "_model_module": "@jupyter-widgets/base",
            "top": null,
            "grid_column": null,
            "overflow_y": null,
            "overflow_x": null,
            "grid_auto_flow": null,
            "grid_area": null,
            "grid_template_columns": null,
            "flex": null,
            "_model_name": "LayoutModel",
            "justify_items": null,
            "grid_row": null,
            "max_height": null,
            "align_content": null,
            "visibility": null,
            "align_self": null,
            "height": null,
            "min_height": null,
            "padding": null,
            "grid_auto_rows": null,
            "grid_gap": null,
            "max_width": null,
            "order": null,
            "_view_module_version": "1.2.0",
            "grid_template_areas": null,
            "object_position": null,
            "object_fit": null,
            "grid_auto_columns": null,
            "margin": null,
            "display": null,
            "left": null
          },
          "model_module_version": "1.2.0"
        },
        "5f40a882a9d84cc38be1a7bdad8fc728": {
          "model_module": "@jupyter-widgets/controls",
          "model_name": "HBoxModel",
          "state": {
            "_view_name": "HBoxView",
            "_dom_classes": [],
            "_model_name": "HBoxModel",
            "_view_module": "@jupyter-widgets/controls",
            "_model_module_version": "1.5.0",
            "_view_count": null,
            "_view_module_version": "1.5.0",
            "box_style": "",
            "layout": "IPY_MODEL_6ba56e0c22434c20ab7788d8a5763b6a",
            "_model_module": "@jupyter-widgets/controls",
            "children": [
              "IPY_MODEL_d2e993cb054e4f8f8f9d14003c3d5d6a",
              "IPY_MODEL_74658b2a87df416ba48ca19349da9992"
            ]
          },
          "model_module_version": "1.5.0"
        },
        "6ba56e0c22434c20ab7788d8a5763b6a": {
          "model_module": "@jupyter-widgets/base",
          "model_name": "LayoutModel",
          "state": {
            "_view_name": "LayoutView",
            "grid_template_rows": null,
            "right": null,
            "justify_content": null,
            "_view_module": "@jupyter-widgets/base",
            "overflow": null,
            "_model_module_version": "1.2.0",
            "_view_count": null,
            "flex_flow": null,
            "width": null,
            "min_width": null,
            "border": null,
            "align_items": null,
            "bottom": null,
            "_model_module": "@jupyter-widgets/base",
            "top": null,
            "grid_column": null,
            "overflow_y": null,
            "overflow_x": null,
            "grid_auto_flow": null,
            "grid_area": null,
            "grid_template_columns": null,
            "flex": null,
            "_model_name": "LayoutModel",
            "justify_items": null,
            "grid_row": null,
            "max_height": null,
            "align_content": null,
            "visibility": null,
            "align_self": null,
            "height": null,
            "min_height": null,
            "padding": null,
            "grid_auto_rows": null,
            "grid_gap": null,
            "max_width": null,
            "order": null,
            "_view_module_version": "1.2.0",
            "grid_template_areas": null,
            "object_position": null,
            "object_fit": null,
            "grid_auto_columns": null,
            "margin": null,
            "display": null,
            "left": null
          },
          "model_module_version": "1.2.0"
        },
        "d2e993cb054e4f8f8f9d14003c3d5d6a": {
          "model_module": "@jupyter-widgets/controls",
          "model_name": "FloatProgressModel",
          "state": {
            "_view_name": "ProgressView",
            "style": "IPY_MODEL_9efd0ded66da4f6fac130113319f9c9f",
            "_dom_classes": [],
            "description": "Downloading: 100%",
            "_model_name": "FloatProgressModel",
            "bar_style": "success",
            "max": 557941479,
            "_view_module": "@jupyter-widgets/controls",
            "_model_module_version": "1.5.0",
            "value": 557941479,
            "_view_count": null,
            "_view_module_version": "1.5.0",
            "orientation": "horizontal",
            "min": 0,
            "description_tooltip": null,
            "_model_module": "@jupyter-widgets/controls",
            "layout": "IPY_MODEL_32b3872bfb1943bcbc83263180017169"
          },
          "model_module_version": "1.5.0"
        },
        "74658b2a87df416ba48ca19349da9992": {
          "model_module": "@jupyter-widgets/controls",
          "model_name": "HTMLModel",
          "state": {
            "_view_name": "HTMLView",
            "style": "IPY_MODEL_342371a46c5d41979e9e81800a99d321",
            "_dom_classes": [],
            "description": "",
            "_model_name": "HTMLModel",
            "placeholder": "​",
            "_view_module": "@jupyter-widgets/controls",
            "_model_module_version": "1.5.0",
            "value": " 558M/558M [00:11&lt;00:00, 49.2MB/s]",
            "_view_count": null,
            "_view_module_version": "1.5.0",
            "description_tooltip": null,
            "_model_module": "@jupyter-widgets/controls",
            "layout": "IPY_MODEL_e259687088ae4f0181d1c440abe6fb13"
          },
          "model_module_version": "1.5.0"
        },
        "9efd0ded66da4f6fac130113319f9c9f": {
          "model_module": "@jupyter-widgets/controls",
          "model_name": "ProgressStyleModel",
          "state": {
            "_view_name": "StyleView",
            "_model_name": "ProgressStyleModel",
            "description_width": "initial",
            "_view_module": "@jupyter-widgets/base",
            "_model_module_version": "1.5.0",
            "_view_count": null,
            "_view_module_version": "1.2.0",
            "bar_color": null,
            "_model_module": "@jupyter-widgets/controls"
          },
          "model_module_version": "1.5.0"
        },
        "32b3872bfb1943bcbc83263180017169": {
          "model_module": "@jupyter-widgets/base",
          "model_name": "LayoutModel",
          "state": {
            "_view_name": "LayoutView",
            "grid_template_rows": null,
            "right": null,
            "justify_content": null,
            "_view_module": "@jupyter-widgets/base",
            "overflow": null,
            "_model_module_version": "1.2.0",
            "_view_count": null,
            "flex_flow": null,
            "width": null,
            "min_width": null,
            "border": null,
            "align_items": null,
            "bottom": null,
            "_model_module": "@jupyter-widgets/base",
            "top": null,
            "grid_column": null,
            "overflow_y": null,
            "overflow_x": null,
            "grid_auto_flow": null,
            "grid_area": null,
            "grid_template_columns": null,
            "flex": null,
            "_model_name": "LayoutModel",
            "justify_items": null,
            "grid_row": null,
            "max_height": null,
            "align_content": null,
            "visibility": null,
            "align_self": null,
            "height": null,
            "min_height": null,
            "padding": null,
            "grid_auto_rows": null,
            "grid_gap": null,
            "max_width": null,
            "order": null,
            "_view_module_version": "1.2.0",
            "grid_template_areas": null,
            "object_position": null,
            "object_fit": null,
            "grid_auto_columns": null,
            "margin": null,
            "display": null,
            "left": null
          },
          "model_module_version": "1.2.0"
        },
        "342371a46c5d41979e9e81800a99d321": {
          "model_module": "@jupyter-widgets/controls",
          "model_name": "DescriptionStyleModel",
          "state": {
            "_view_name": "StyleView",
            "_model_name": "DescriptionStyleModel",
            "description_width": "",
            "_view_module": "@jupyter-widgets/base",
            "_model_module_version": "1.5.0",
            "_view_count": null,
            "_view_module_version": "1.2.0",
            "_model_module": "@jupyter-widgets/controls"
          },
          "model_module_version": "1.5.0"
        },
        "e259687088ae4f0181d1c440abe6fb13": {
          "model_module": "@jupyter-widgets/base",
          "model_name": "LayoutModel",
          "state": {
            "_view_name": "LayoutView",
            "grid_template_rows": null,
            "right": null,
            "justify_content": null,
            "_view_module": "@jupyter-widgets/base",
            "overflow": null,
            "_model_module_version": "1.2.0",
            "_view_count": null,
            "flex_flow": null,
            "width": null,
            "min_width": null,
            "border": null,
            "align_items": null,
            "bottom": null,
            "_model_module": "@jupyter-widgets/base",
            "top": null,
            "grid_column": null,
            "overflow_y": null,
            "overflow_x": null,
            "grid_auto_flow": null,
            "grid_area": null,
            "grid_template_columns": null,
            "flex": null,
            "_model_name": "LayoutModel",
            "justify_items": null,
            "grid_row": null,
            "max_height": null,
            "align_content": null,
            "visibility": null,
            "align_self": null,
            "height": null,
            "min_height": null,
            "padding": null,
            "grid_auto_rows": null,
            "grid_gap": null,
            "max_width": null,
            "order": null,
            "_view_module_version": "1.2.0",
            "grid_template_areas": null,
            "object_position": null,
            "object_fit": null,
            "grid_auto_columns": null,
            "margin": null,
            "display": null,
            "left": null
          },
          "model_module_version": "1.2.0"
        }
      }
    },
    "gpuClass": "standard",
    "accelerator": "GPU"
  },
  "cells": [
    {
      "cell_type": "markdown",
      "metadata": {
        "id": "Fd06vTCzqj3y"
      },
      "source": [
        "# Проект QA\n",
        "\n",
        "## Yes/No Questions\n",
        "\n",
        "Вы будете работать с корпусом BoolQ. Корпус состоит из вопросов, предполагающих бинарный ответ (да / нет), абзацев из Википедии,  содержащих ответ на вопрос, заголовка статьи, из которой извлечен абзац и непосредственно ответа (true / false).\n",
        "\n",
        "Корпус описан в статье:\n",
        "\n",
        "Christopher Clark, Kenton Lee, Ming-Wei Chang, Tom Kwiatkowski, Michael Collins, Kristina Toutanova\n",
        "BoolQ: Exploring the Surprising Difficulty of Natural Yes/No Questions\n",
        "\n",
        "https://arxiv.org/abs/1905.10044\n",
        "\n",
        "\n",
        "Корпус (train-dev split) доступен в репозитории проекта:  https://github.com/google-research-datasets/boolean-questions\n",
        "\n",
        "Используйте для обучения train часть корпуса, для валидации и тестирования – dev часть. \n",
        "\n",
        "Каждый бонус пункт оцениватся в 1 балл. Вывод являяется обязательным!"
      ]
    },
    {
      "cell_type": "code",
      "metadata": {
        "id": "FOup-Ca-q5Ay",
        "colab": {
          "base_uri": "https://localhost:8080/"
        },
        "outputId": "11db3c87-f414-453a-ba0b-e761ff173a35"
      },
      "source": [
        "!gsutil cp gs://boolq/train.jsonl .\n",
        "!gsutil cp gs://boolq/dev.jsonl ."
      ],
      "execution_count": 1,
      "outputs": [
        {
          "output_type": "stream",
          "name": "stdout",
          "text": [
            "Copying gs://boolq/train.jsonl...\n",
            "- [1 files][  6.2 MiB/  6.2 MiB]                                                \n",
            "Operation completed over 1 objects/6.2 MiB.                                      \n",
            "Copying gs://boolq/dev.jsonl...\n",
            "- [1 files][  2.1 MiB/  2.1 MiB]                                                \n",
            "Operation completed over 1 objects/2.1 MiB.                                      \n"
          ]
        }
      ]
    },
    {
      "cell_type": "markdown",
      "metadata": {
        "id": "yDEsCCkoqj34"
      },
      "source": [
        "### Пример вопроса: \n",
        "question: is batman and robin a sequel to batman forever\n",
        "\n",
        "title: Batman & Robin (film)\n",
        "\n",
        "answer: true\n",
        "\n",
        "passage: With the box office success of Batman Forever in June 1995, Warner Bros. immediately commissioned a sequel. They hired director Joel Schumacher and writer Akiva Goldsman to reprise their duties the following August, and decided it was best to fast track production for a June 1997 target release date, which is a break from the usual 3-year gap between films. Schumacher wanted to homage both the broad camp style of the 1960s television series and the work of Dick Sprang. The storyline of Batman & Robin was conceived by Schumacher and Goldsman during pre-production on A Time to Kill. Portions of Mr. Freeze's back-story were based on the Batman: The Animated Series episode ''Heart of Ice'', written by Paul Dini."
      ]
    },
    {
      "cell_type": "markdown",
      "metadata": {
        "id": "Iu5CnuYdqj3_"
      },
      "source": [
        "## Предварительный анализ"
      ]
    },
    {
      "cell_type": "markdown",
      "metadata": {
        "id": "_MTrO6VGJ-Ml"
      },
      "source": [
        "Считывание данных."
      ]
    },
    {
      "cell_type": "code",
      "metadata": {
        "colab": {
          "base_uri": "https://localhost:8080/",
          "height": 206
        },
        "id": "4RNujf59uiyn",
        "outputId": "00f52635-eb33-4aea-8efa-cb3862fc3d6d"
      },
      "source": [
        "import json\n",
        "import pandas as pd\n",
        "\n",
        "with open('train.jsonl', 'r') as json_file:\n",
        "    train_list = list(json_file)\n",
        "\n",
        "with open('dev.jsonl', 'r') as json_file:\n",
        "    dev_list = list(json_file)\n",
        "\n",
        "train_df = pd.DataFrame([json.loads(jline) for jline in train_list])\n",
        "dev_df = pd.DataFrame([json.loads(jline) for jline in dev_list])\n",
        "df = pd.DataFrame([json.loads(jline) for jline in train_list + dev_list])\n",
        "df.head()"
      ],
      "execution_count": 2,
      "outputs": [
        {
          "output_type": "execute_result",
          "data": {
            "text/plain": [
              "                                            question  \\\n",
              "0    do iran and afghanistan speak the same language   \n",
              "1  do good samaritan laws protect those who help ...   \n",
              "2  is windows movie maker part of windows essentials   \n",
              "3  is confectionary sugar the same as powdered sugar   \n",
              "4         is elder scrolls online the same as skyrim   \n",
              "\n",
              "                      title  answer  \\\n",
              "0          Persian language    True   \n",
              "1        Good Samaritan law    True   \n",
              "2       Windows Movie Maker    True   \n",
              "3            Powdered sugar    True   \n",
              "4  The Elder Scrolls Online   False   \n",
              "\n",
              "                                             passage  \n",
              "0  Persian (/ˈpɜːrʒən, -ʃən/), also known by its ...  \n",
              "1  Good Samaritan laws offer legal protection to ...  \n",
              "2  Windows Movie Maker (formerly known as Windows...  \n",
              "3  Powdered sugar, also called confectioners' sug...  \n",
              "4  As with other games in The Elder Scrolls serie...  "
            ],
            "text/html": [
              "\n",
              "  <div id=\"df-df2213de-9b8f-4cbd-98e1-0e806ded1fc0\">\n",
              "    <div class=\"colab-df-container\">\n",
              "      <div>\n",
              "<style scoped>\n",
              "    .dataframe tbody tr th:only-of-type {\n",
              "        vertical-align: middle;\n",
              "    }\n",
              "\n",
              "    .dataframe tbody tr th {\n",
              "        vertical-align: top;\n",
              "    }\n",
              "\n",
              "    .dataframe thead th {\n",
              "        text-align: right;\n",
              "    }\n",
              "</style>\n",
              "<table border=\"1\" class=\"dataframe\">\n",
              "  <thead>\n",
              "    <tr style=\"text-align: right;\">\n",
              "      <th></th>\n",
              "      <th>question</th>\n",
              "      <th>title</th>\n",
              "      <th>answer</th>\n",
              "      <th>passage</th>\n",
              "    </tr>\n",
              "  </thead>\n",
              "  <tbody>\n",
              "    <tr>\n",
              "      <th>0</th>\n",
              "      <td>do iran and afghanistan speak the same language</td>\n",
              "      <td>Persian language</td>\n",
              "      <td>True</td>\n",
              "      <td>Persian (/ˈpɜːrʒən, -ʃən/), also known by its ...</td>\n",
              "    </tr>\n",
              "    <tr>\n",
              "      <th>1</th>\n",
              "      <td>do good samaritan laws protect those who help ...</td>\n",
              "      <td>Good Samaritan law</td>\n",
              "      <td>True</td>\n",
              "      <td>Good Samaritan laws offer legal protection to ...</td>\n",
              "    </tr>\n",
              "    <tr>\n",
              "      <th>2</th>\n",
              "      <td>is windows movie maker part of windows essentials</td>\n",
              "      <td>Windows Movie Maker</td>\n",
              "      <td>True</td>\n",
              "      <td>Windows Movie Maker (formerly known as Windows...</td>\n",
              "    </tr>\n",
              "    <tr>\n",
              "      <th>3</th>\n",
              "      <td>is confectionary sugar the same as powdered sugar</td>\n",
              "      <td>Powdered sugar</td>\n",
              "      <td>True</td>\n",
              "      <td>Powdered sugar, also called confectioners' sug...</td>\n",
              "    </tr>\n",
              "    <tr>\n",
              "      <th>4</th>\n",
              "      <td>is elder scrolls online the same as skyrim</td>\n",
              "      <td>The Elder Scrolls Online</td>\n",
              "      <td>False</td>\n",
              "      <td>As with other games in The Elder Scrolls serie...</td>\n",
              "    </tr>\n",
              "  </tbody>\n",
              "</table>\n",
              "</div>\n",
              "      <button class=\"colab-df-convert\" onclick=\"convertToInteractive('df-df2213de-9b8f-4cbd-98e1-0e806ded1fc0')\"\n",
              "              title=\"Convert this dataframe to an interactive table.\"\n",
              "              style=\"display:none;\">\n",
              "        \n",
              "  <svg xmlns=\"http://www.w3.org/2000/svg\" height=\"24px\"viewBox=\"0 0 24 24\"\n",
              "       width=\"24px\">\n",
              "    <path d=\"M0 0h24v24H0V0z\" fill=\"none\"/>\n",
              "    <path d=\"M18.56 5.44l.94 2.06.94-2.06 2.06-.94-2.06-.94-.94-2.06-.94 2.06-2.06.94zm-11 1L8.5 8.5l.94-2.06 2.06-.94-2.06-.94L8.5 2.5l-.94 2.06-2.06.94zm10 10l.94 2.06.94-2.06 2.06-.94-2.06-.94-.94-2.06-.94 2.06-2.06.94z\"/><path d=\"M17.41 7.96l-1.37-1.37c-.4-.4-.92-.59-1.43-.59-.52 0-1.04.2-1.43.59L10.3 9.45l-7.72 7.72c-.78.78-.78 2.05 0 2.83L4 21.41c.39.39.9.59 1.41.59.51 0 1.02-.2 1.41-.59l7.78-7.78 2.81-2.81c.8-.78.8-2.07 0-2.86zM5.41 20L4 18.59l7.72-7.72 1.47 1.35L5.41 20z\"/>\n",
              "  </svg>\n",
              "      </button>\n",
              "      \n",
              "  <style>\n",
              "    .colab-df-container {\n",
              "      display:flex;\n",
              "      flex-wrap:wrap;\n",
              "      gap: 12px;\n",
              "    }\n",
              "\n",
              "    .colab-df-convert {\n",
              "      background-color: #E8F0FE;\n",
              "      border: none;\n",
              "      border-radius: 50%;\n",
              "      cursor: pointer;\n",
              "      display: none;\n",
              "      fill: #1967D2;\n",
              "      height: 32px;\n",
              "      padding: 0 0 0 0;\n",
              "      width: 32px;\n",
              "    }\n",
              "\n",
              "    .colab-df-convert:hover {\n",
              "      background-color: #E2EBFA;\n",
              "      box-shadow: 0px 1px 2px rgba(60, 64, 67, 0.3), 0px 1px 3px 1px rgba(60, 64, 67, 0.15);\n",
              "      fill: #174EA6;\n",
              "    }\n",
              "\n",
              "    [theme=dark] .colab-df-convert {\n",
              "      background-color: #3B4455;\n",
              "      fill: #D2E3FC;\n",
              "    }\n",
              "\n",
              "    [theme=dark] .colab-df-convert:hover {\n",
              "      background-color: #434B5C;\n",
              "      box-shadow: 0px 1px 3px 1px rgba(0, 0, 0, 0.15);\n",
              "      filter: drop-shadow(0px 1px 2px rgba(0, 0, 0, 0.3));\n",
              "      fill: #FFFFFF;\n",
              "    }\n",
              "  </style>\n",
              "\n",
              "      <script>\n",
              "        const buttonEl =\n",
              "          document.querySelector('#df-df2213de-9b8f-4cbd-98e1-0e806ded1fc0 button.colab-df-convert');\n",
              "        buttonEl.style.display =\n",
              "          google.colab.kernel.accessAllowed ? 'block' : 'none';\n",
              "\n",
              "        async function convertToInteractive(key) {\n",
              "          const element = document.querySelector('#df-df2213de-9b8f-4cbd-98e1-0e806ded1fc0');\n",
              "          const dataTable =\n",
              "            await google.colab.kernel.invokeFunction('convertToInteractive',\n",
              "                                                     [key], {});\n",
              "          if (!dataTable) return;\n",
              "\n",
              "          const docLinkHtml = 'Like what you see? Visit the ' +\n",
              "            '<a target=\"_blank\" href=https://colab.research.google.com/notebooks/data_table.ipynb>data table notebook</a>'\n",
              "            + ' to learn more about interactive tables.';\n",
              "          element.innerHTML = '';\n",
              "          dataTable['output_type'] = 'display_data';\n",
              "          await google.colab.output.renderOutput(dataTable, element);\n",
              "          const docLink = document.createElement('div');\n",
              "          docLink.innerHTML = docLinkHtml;\n",
              "          element.appendChild(docLink);\n",
              "        }\n",
              "      </script>\n",
              "    </div>\n",
              "  </div>\n",
              "  "
            ]
          },
          "metadata": {},
          "execution_count": 2
        }
      ]
    },
    {
      "cell_type": "markdown",
      "metadata": {
        "id": "gZnx3ckvKAcZ"
      },
      "source": [
        "Подготовка фреймворка для препроцессинга."
      ]
    },
    {
      "cell_type": "code",
      "metadata": {
        "colab": {
          "base_uri": "https://localhost:8080/"
        },
        "id": "RWxWQzOTUZGh",
        "outputId": "0dca26c1-4a30-473e-8e7f-fcb5ad4960c5"
      },
      "source": [
        "import string, re, nltk\n",
        "\n",
        "nltk.download('punkt')\n",
        "from nltk.tokenize import word_tokenize\n",
        "\n",
        "nltk.download('stopwords')\n",
        "from nltk.corpus import stopwords\n",
        "stopWords = set(stopwords.words('english'))\n",
        "\n",
        "nltk.download('wordnet')\n",
        "wnl = nltk.WordNetLemmatizer()\n",
        "\n",
        "def preproc_nltk(text):\n",
        "    text = re.sub(f'[{string.punctuation}]', ' ', text)\n",
        "    return ' '.join([wnl.lemmatize(word) for word in word_tokenize(text.lower()) if word not in stopWords])"
      ],
      "execution_count": 3,
      "outputs": [
        {
          "output_type": "stream",
          "name": "stderr",
          "text": [
            "[nltk_data] Downloading package punkt to /root/nltk_data...\n",
            "[nltk_data]   Unzipping tokenizers/punkt.zip.\n",
            "[nltk_data] Downloading package stopwords to /root/nltk_data...\n",
            "[nltk_data]   Unzipping corpora/stopwords.zip.\n",
            "[nltk_data] Downloading package wordnet to /root/nltk_data...\n"
          ]
        }
      ]
    },
    {
      "cell_type": "markdown",
      "metadata": {
        "id": "IDWc-tlFKDaz"
      },
      "source": [
        "Получение текстов после препроцессинга."
      ]
    },
    {
      "cell_type": "code",
      "metadata": {
        "id": "VbFNEO0qV-q7"
      },
      "source": [
        "train_df['nltk_question'] = train_df['question'].apply(preproc_nltk)\n",
        "dev_df['nltk_question'] = train_df['question'].apply(preproc_nltk)\n",
        "df['nltk_question'] = train_df['question'].apply(preproc_nltk)\n",
        "\n",
        "train_df['nltk_passage'] = train_df['passage'].apply(preproc_nltk)\n",
        "dev_df['nltk_passage'] = train_df['passage'].apply(preproc_nltk)\n",
        "df['nltk_passage'] = train_df['passage'].apply(preproc_nltk)\n"
      ],
      "execution_count": 4,
      "outputs": []
    },
    {
      "cell_type": "markdown",
      "metadata": {
        "id": "kxce1c93KH2U"
      },
      "source": [
        "Распределение лейблов почти одинаковое как в train части, так и в dev."
      ]
    },
    {
      "cell_type": "code",
      "metadata": {
        "colab": {
          "base_uri": "https://localhost:8080/",
          "height": 173
        },
        "id": "-paC2V_1w6P7",
        "outputId": "8a6fb8d8-5017-4337-81bf-d558134bd889"
      },
      "source": [
        "display(df.answer.value_counts(normalize=True))\n",
        "display(train_df.answer.value_counts(normalize=True))\n",
        "display(dev_df.answer.value_counts(normalize=True))"
      ],
      "execution_count": 5,
      "outputs": [
        {
          "output_type": "display_data",
          "data": {
            "text/plain": [
              "True     0.622746\n",
              "False    0.377254\n",
              "Name: answer, dtype: float64"
            ]
          },
          "metadata": {}
        },
        {
          "output_type": "display_data",
          "data": {
            "text/plain": [
              "True     0.623104\n",
              "False    0.376896\n",
              "Name: answer, dtype: float64"
            ]
          },
          "metadata": {}
        },
        {
          "output_type": "display_data",
          "data": {
            "text/plain": [
              "True     0.621713\n",
              "False    0.378287\n",
              "Name: answer, dtype: float64"
            ]
          },
          "metadata": {}
        }
      ]
    },
    {
      "cell_type": "markdown",
      "metadata": {
        "id": "jEvTQ7lbKilF"
      },
      "source": [
        "Среднее количество слов в вопросе почти одинаково как до, так и после обработки."
      ]
    },
    {
      "cell_type": "code",
      "metadata": {
        "colab": {
          "base_uri": "https://localhost:8080/"
        },
        "id": "UI03JPFhxKWV",
        "outputId": "ce85a9d7-96f9-4412-a6d5-d869dac6c176"
      },
      "source": [
        "print(round(df.question.str.split().str.len().mean(), 1))\n",
        "print(round(train_df.question.str.split().str.len().mean(), 1))\n",
        "print(round(dev_df.question.str.split().str.len().mean(), 1))"
      ],
      "execution_count": 6,
      "outputs": [
        {
          "output_type": "stream",
          "name": "stdout",
          "text": [
            "8.8\n",
            "8.8\n",
            "8.7\n"
          ]
        }
      ]
    },
    {
      "cell_type": "code",
      "metadata": {
        "colab": {
          "base_uri": "https://localhost:8080/"
        },
        "id": "vBxqwj_raLkL",
        "outputId": "45420b2b-ef1c-4337-e89b-0dba5f4a9c59"
      },
      "source": [
        "print(round(df.nltk_question.str.split().str.len().mean(), 1))\n",
        "print(round(train_df.nltk_question.str.split().str.len().mean(), 1))\n",
        "print(round(dev_df.nltk_question.str.split().str.len().mean(), 1))"
      ],
      "execution_count": 7,
      "outputs": [
        {
          "output_type": "stream",
          "name": "stdout",
          "text": [
            "4.6\n",
            "4.6\n",
            "4.6\n"
          ]
        }
      ]
    },
    {
      "cell_type": "markdown",
      "metadata": {
        "id": "8ZSzVSHAKose"
      },
      "source": [
        "На train части вопросы до обработки длиннее на 1 слово, но после обработки длина почти не отличается."
      ]
    },
    {
      "cell_type": "code",
      "metadata": {
        "colab": {
          "base_uri": "https://localhost:8080/"
        },
        "id": "l-X7XiBOxa3H",
        "outputId": "7a3d5eff-bd7e-40d8-ac35-c9e04c0eee1e"
      },
      "source": [
        "print(round(df.passage.str.split().str.len().mean(), 1))\n",
        "print(round(train_df.passage.str.split().str.len().mean(), 1))\n",
        "print(round(dev_df.passage.str.split().str.len().mean(), 1))"
      ],
      "execution_count": 8,
      "outputs": [
        {
          "output_type": "stream",
          "name": "stdout",
          "text": [
            "92.9\n",
            "93.2\n",
            "92.2\n"
          ]
        }
      ]
    },
    {
      "cell_type": "code",
      "metadata": {
        "colab": {
          "base_uri": "https://localhost:8080/"
        },
        "id": "Fk08ffvEV32q",
        "outputId": "97b3be36-c616-4189-f614-736706de720e"
      },
      "source": [
        "print(round(df.nltk_passage.str.split().str.len().mean(), 1))\n",
        "print(round(train_df.nltk_passage.str.split().str.len().mean(), 1))\n",
        "print(round(dev_df.nltk_passage.str.split().str.len().mean(), 1))"
      ],
      "execution_count": 9,
      "outputs": [
        {
          "output_type": "stream",
          "name": "stdout",
          "text": [
            "56.8\n",
            "56.8\n",
            "56.6\n"
          ]
        }
      ]
    },
    {
      "cell_type": "markdown",
      "metadata": {
        "id": "tmoiAobqx-UB"
      },
      "source": [
        "*Queries that are likely to be yes/no questions are heuristically identified: we found selecting queries where the first word is in a manually constructed set of indicator words and are of sufficient length, to be effective.*\n",
        "\n",
        "*The full set is: {“did”, “do”, “does”, “is”, “are”, “was”, “were”, “have”, “has”, “can”, “could”, “will”, “would”}.*\n",
        "\n",
        "*... use questions that were marked as having a yes/no answer, and pair each question with the selected passage instead of the entire document.*\n"
      ]
    },
    {
      "cell_type": "markdown",
      "metadata": {
        "id": "DFTaIMDdLIbq"
      },
      "source": [
        "Все вопросы начинаются с одного из выбранных маркеров в приведенном списке. Из-за этого у вопросов будет заранее заданная структура, под которую может подстраиваться модель. Вполне возможно, поэтому в тексте будут классические прямые вопросы в формальном стиле, задающие вопрос про конкретный вопрос. Не будет неформальных вопросов со свободном порядком предложения, tag questions, вопросов с отрицанием или фактов, которые нужно подтвердить или опровергнуть.\n",
        "\n",
        "Кроме того, в качестве пассажа бралась та часть текста, в которой содержится ответ на вопрос. То есть, модели будет намного проще определить ключевые моменты текста."
      ]
    },
    {
      "cell_type": "markdown",
      "metadata": {
        "id": "cciqAgBhRooH"
      },
      "source": [
        "Рассмотрим первые слова вопросов. Самые популярные слова - те, что приведены в списке выше и выбраны авторами датасета."
      ]
    },
    {
      "cell_type": "code",
      "metadata": {
        "colab": {
          "base_uri": "https://localhost:8080/"
        },
        "id": "94VQkNiQx7Xk",
        "outputId": "d0e2a5ac-2669-4fe8-d800-ff3f4306db08"
      },
      "source": [
        "df.question.str.split().str[0].value_counts().head(30)"
      ],
      "execution_count": 10,
      "outputs": [
        {
          "output_type": "execute_result",
          "data": {
            "text/plain": [
              "is           5722\n",
              "can          1530\n",
              "does         1325\n",
              "are           944\n",
              "do            907\n",
              "did           595\n",
              "was           439\n",
              "has           426\n",
              "will          249\n",
              "have           95\n",
              "the            91\n",
              "were           42\n",
              "in             35\n",
              "if             17\n",
              "a              16\n",
              "what           11\n",
              "could          11\n",
              "when           10\n",
              "would           6\n",
              "where           5\n",
              "who             5\n",
              "an              4\n",
              "why             3\n",
              "true            3\n",
              "my              3\n",
              "should          2\n",
              "according       2\n",
              "by              2\n",
              "nilgiri         2\n",
              "didn't          2\n",
              "Name: question, dtype: int64"
            ]
          },
          "metadata": {},
          "execution_count": 10
        }
      ]
    },
    {
      "cell_type": "markdown",
      "metadata": {
        "id": "mfE9wzqeTC7Z"
      },
      "source": [
        "Если мы посмотрим на вопросы, которые начинаются с других слов, то мы увидим, что большинство с точностью до перестановки части фразы являются ровно теми же вопросами с нужным первым словом (а так начинаются с указания контекста), некоторые представляют собой усеченные вопросы, которые при добавлении правильного auxiliary verb (глагола из списка) становятся вопросами нужной формы. Хотя на самом деле, эти вопросы больше похожи на факты, которые нужно доказать или опровергнуть. Некоторые вопросы содержат в своем тексте сочетание \"true or false\", что указывает на наличие факта, которому нужно выдать вердикт.\n",
        "\n",
        "Также встретились некоторые вопросы с отрицанием.\n",
        "\n",
        "Кроме того, есть вопросы, которые не подразумевают ответ да/нет, например, \"who does denzel washington play in remember the titans\".\n",
        "\n",
        "Получается, что в датасете встречаются запросы самого различного характера, которые не обязательно соответствуют указанной в статье структуре. Они могут быть релевантными, но плохо сформулированными, могут быть нерелевантными. Такая разноплановость корпуса возможно может приводить модели в замешательство, так как ей будет тяжело вычленить нужную семантику из вопроса, так как она не может догадаться, в какой форме вопрос придет. Это может сильно усложнить процесс обучения и результаты модели. Тем не менее, если обучать ее на \"правильных\" запросах, которые описаны в статье, то модель будет плохо показывать себя на практике, так как на практике вопросы могут быть такими же сумбурными и случайным как в датасете, поэтому их удаление не поможет."
      ]
    },
    {
      "cell_type": "code",
      "metadata": {
        "colab": {
          "base_uri": "https://localhost:8080/"
        },
        "id": "pkUDZwfJzejt",
        "outputId": "129a3413-8c0f-41b7-d842-276e3e5f8a77"
      },
      "source": [
        "df.question[~df.question.str.split().str[0] \\\n",
        "                  .isin([\"did\", \"do\", \"does\", \"is\", \"are\", \"was\", \"were\", \n",
        "                         \"have\", \"has\", \"can\", \"could\", \"will\", \"would\"])].tolist()"
      ],
      "execution_count": 11,
      "outputs": [
        {
          "output_type": "execute_result",
          "data": {
            "text/plain": [
              "['calcium carbide cac2 is the raw material for the production of acetylene',\n",
              " 'the boy in the plastic bubble based on true story',\n",
              " 'science begins with the premise that knowledge should first be acquired through observation',\n",
              " 'in the phantom menace is padme the queen',\n",
              " 'you can tell a lot about a person by how they treat their waiter',\n",
              " 'several cranial nerves innervate structures of the tongue',\n",
              " 'the movie rudy based on a true story',\n",
              " 'the former soviet union broke into separate states',\n",
              " 'paths from the cerebral cortex to the spinal cord are called the corticospinal tracts',\n",
              " 'true or false anaphylaxis generally only affects the skin and eyes',\n",
              " 'when sandy hit nj was it a hurricane',\n",
              " 'during his lifetime an athenian citizen could serve on the council of five hundred',\n",
              " 'the visual cliff is a device for studying',\n",
              " 'the long road home is it a series',\n",
              " 'if a table contains a primary key there can be no duplicate records in a table',\n",
              " 'the main component of stomach acid is sulfuric acid',\n",
              " 'of all the points on the production possibilities curve only one point represents an efficient point',\n",
              " 'cells produce water as a by-product of energy metabolism',\n",
              " 'inflation means specific prices are rising and relative prices are falling',\n",
              " 'the system of law in the united states is based on the english common law',\n",
              " 'india is the first country to reach mars',\n",
              " 'sequence occurs when pattern of notes is repeated',\n",
              " 'my mother and other strangers is it a true story',\n",
              " 'egypt is bordered by the red sea and the mediterranean sea',\n",
              " 'orange is the new black season 2 does alex come back',\n",
              " 'when did you have to have a passport to go to canada',\n",
              " 'in early 19th century new orleans where was real african music heard in the community',\n",
              " 'victoria and abdul is it a real story',\n",
              " 'minnie driver did she sing in phantom of the opera',\n",
              " 'hurricane season starts in spring true or false',\n",
              " 'the other boleyn girl is it based on a true story',\n",
              " 'the international monetary fund was formed to provide for the short-term flow of money',\n",
              " 'in glee season 1 do they win sectionals',\n",
              " 'the truth in lending act regulates interest rates and the terms of loans',\n",
              " 'when does ned stark die in the show',\n",
              " 'the olfactory epithelium lies in a mucous membrane covering the inferior nasal conchae',\n",
              " 'nilgiri himalyan and arabian are types of tahr',\n",
              " 'the third amendment protects citizens from having to quarter troops without consent',\n",
              " 'why does italy have both a prime minister and president',\n",
              " 'pir panjal is a part of trans himalaya',\n",
              " 'cells are the basic unit of life and in all organisms',\n",
              " 'he federal reserve board controls the amount of money available in the economy',\n",
              " 'planetary orbits around stars in binary systems are always unstable',\n",
              " 'according to zoroastrianism one of the gods who presides over your judgement is sroasha',\n",
              " 'dense irregular connective tissue is found in the dermis of the skin',\n",
              " 'the bill of sale is absolute proof of ownership',\n",
              " 'behind enemy lines was it based on a true story',\n",
              " 'the irregular at magic high school are they really siblings',\n",
              " 'cohesion tension theory of water transport in plants',\n",
              " 'the vampire diaries does damon and elena get together',\n",
              " 'king of queens do doug and carrie get a divorce',\n",
              " 'surfactant is released to reduce surface tension in the alveoli',\n",
              " 'originally presidential candidates were selected by party caucuses in congress',\n",
              " 'the largest cargo air freighter in the world is made by boeing',\n",
              " 'in the film adrift did they all die',\n",
              " 'res ipsa loquitur means the thing speaks for itself and is related to causation',\n",
              " 'in mississippi can you drink with your parents',\n",
              " 'the kingdom of vijayanagar was found by two brothers',\n",
              " 'the speed limit on some interstate highways is roughly 135 km/h',\n",
              " 'shootout at lokhandwala is it a real story',\n",
              " 'when you call rummy do you pick up the whole pile',\n",
              " 'the shawshank redemption was it a true story',\n",
              " 'state laws do not have to be approved by the federal government before they become effective',\n",
              " 'historical cost is always a relevant measure of an asset',\n",
              " 'the area under the entire probability density function equals 1',\n",
              " 'a valediction forbidding mourning is the speaker about to die',\n",
              " 'a cappella indicates a choral work performed with accompaniment',\n",
              " 'most television shows that reach 50 episodes minimum go into syndication and go into re-runs',\n",
              " 'an above the line deduction refers to a deduction for agi',\n",
              " 'as part of the agricultural adjustment act farmers were paid subsidies',\n",
              " 'citizen kane did not do well at the box office although it was praised by critics',\n",
              " 'jesuits are recognized as order to the pope',\n",
              " 'nfl rules can the ground cause an incomplete pass',\n",
              " 'the persian empire attacked greece by both land and sea',\n",
              " 'if you get subbed out in soccer can you come back in',\n",
              " 'dialup is the slowest type of the internet connection',\n",
              " 'the money used in jordan is called the dinar',\n",
              " 'port vale only team not named after a place',\n",
              " 'by the end of the fourth century christianity was the official religion of the roman empire',\n",
              " 'pteridophytes can be referred to as vascular cryptogams comment',\n",
              " 'changes in the gene pool can occur due to various mechanisms',\n",
              " 'in blue lagoon are they brother and sister',\n",
              " 'oracle bones were used by the chinese to tell what happened in the past',\n",
              " 'game of thrones season 8 is the last season',\n",
              " 'the movie gangs of new york is it a true story',\n",
              " 'in wikipedia it is possible to edit the text of an article in html.\\u200b',\n",
              " 'the actors in the courtroom work group typically cooperate with one another',\n",
              " 'if no energy were added to the gas during the expansion could the pressure remain constant',\n",
              " 'the pancreas carries out endocrine and exocrine functions',\n",
              " 'royal caribbean largest ship harmony of the seas',\n",
              " 'a madrigal is a renaissance secular composition for four or five voices',\n",
              " 'staphylococcus is the only causative agent of conjunctivitis',\n",
              " 'the internal revenue code is part of federal statutory law. true false',\n",
              " 'president is the head of government in india',\n",
              " 'hydonephrosis is caused by decreased blood flow to the kidney',\n",
              " 'when do andy and erin get back together',\n",
              " 'in the movie 47 meters down does kate die',\n",
              " 'available raw materials are one of the limiting factors regulating carrying capacity',\n",
              " 'indian railways forms spv to execute mumbai-ahmedabad bullet train project',\n",
              " 'the climate of western europe is a predominantly a marine climate',\n",
              " 'the american revolution british parliament passed stamp act',\n",
              " 'the vapor of an azeotrope has the same composition as the unboiled mixture',\n",
              " 'what is the significance of independence day in the philippines',\n",
              " 'ok google has the eagles ever won a superbowl',\n",
              " 'the climax is the point of in a story',\n",
              " 'if you are born in brazil are you a citizen',\n",
              " \"you're the one that i want reunion\",\n",
              " 'in general the ocean floor is younger than the rocks on the continents',\n",
              " 'http uses a request/response style of communication',\n",
              " 'saturday night takeaway is it the last series',\n",
              " 'the warren court ruled that state legislative districts must be equal in population',\n",
              " 'the center of gravity in human movement is always static',\n",
              " \"one tree hill episode brooke finds out she's pregnant\",\n",
              " 'in the mortal instruments are clary and jace related',\n",
              " 'who does denzel washington play in remember the titans',\n",
              " 'the folk opera porgy and bess takes place in chicago',\n",
              " 'when a firewall filters traffic the firewall drops the traffic',\n",
              " 'intelenet global services pvt ltd - a serco company',\n",
              " 'curium-242 was synthesized by bombarding an isotope with alpha particles',\n",
              " \"the sidereal day is determined by the earth's rotation with respect to the stars\",\n",
              " 'my father is a canadian citizen can i become one',\n",
              " 'oedipus rex and oedipus the king the same story',\n",
              " 'the ratio of the model cars dimensions to the actual cars dimensions is 1 56',\n",
              " 'what season of quantico is on tv now',\n",
              " 'city of nw italy situated near the mont blanc tunnel',\n",
              " '7 days to die cross platform pc and xbox',\n",
              " 'java creates code just before it is fully compiled to machine code',\n",
              " 'glass blowing is a technique that dates from roman times',\n",
              " 'it is legal in most states to bet on football games',\n",
              " 'get rich or die tryin based on true story',\n",
              " 'kodak was once the largest supplier of photographic film',\n",
              " 'the term ontological comes from the greek and means having to do with the science of being',\n",
              " 'franklin leonard the creator of the black list',\n",
              " 'synthesizers can usually be played by means of a keyboard',\n",
              " 'b) are consumers in australia protected from misleading information',\n",
              " 'tnt is an example of a high explosive',\n",
              " 'man on fire is it based on a true story',\n",
              " 'mri and mrsi are the same exact thing',\n",
              " 'menopause is considered the cessation or end of ovulation',\n",
              " 'if a function is not one to one does it have an inverse',\n",
              " 'uno rules do you have to say uno out',\n",
              " \"mortal instruments city of bones is jace clary's brother\",\n",
              " 'mozilla firefox is a competitor of the internet explorer',\n",
              " 'the first time ever i saw your face aretha franklin',\n",
              " 'the sale of real estate is covered by the common law of contracts',\n",
              " \"didn't ellen and jo die in supernatural\",\n",
              " 'the battle of saratoga 1777 took place near the hudson river',\n",
              " 'the iconic precious gemstone of colombia is the emerald',\n",
              " 'the number of valence electrons in an atom of an element is equal to the group number',\n",
              " 'the peach is known as a species of prunus',\n",
              " 'who framed roger rabbit is it a disney movie',\n",
              " 'the chicago picasso was controversial because of its great cost to the city',\n",
              " \"in the last song does ronnie's dad die\",\n",
              " 'three billboards outside ebbing missouri is a real story',\n",
              " 'the feedback loop is part of the linear model of communication',\n",
              " 'in private practice does addison have a baby',\n",
              " 'the energy from nuclear fusion is produced by the conversion of mass to energy',\n",
              " 'if you are born outside the us can you be president',\n",
              " 'lps is found in the capsule of gram-negative bacteria',\n",
              " 'where are you going where have you been based on serial killer',\n",
              " 'a solar system has four earth-size terrestrial planets',\n",
              " 'the office does michael end up with holly',\n",
              " 'bank of england is mother of all central banks',\n",
              " 'stakeholder engagement includes a number of critical activities',\n",
              " 'true or false. you can ride an icebreaker to the north pole',\n",
              " 'if you are 17 are you a minor',\n",
              " 'foal immunodeficiency syndrome in the fell and dales pony',\n",
              " 'isotope refers to the electrical charge of the electron',\n",
              " 'a standard voltage for homes in the united states is 110 v',\n",
              " 'sabrina the teenage witch does harvey come back',\n",
              " 'if a + bi is a complex zero of a polynomial with real coefficients then so is its a − bi',\n",
              " 'the four chemical bases that make up dna are adenine thymine guanine and cystosine',\n",
              " 'the burj khalifa in dubai is the world tallest building',\n",
              " 'should you defrost a frost free fridge freezer',\n",
              " 'the bible says honor thy mother and father',\n",
              " 'the organization that today is known as the bank of america did start out in america',\n",
              " 'electroplating is done on jobs to resist corrosion',\n",
              " 'calcium carbonate and calcium phosphate are deposited around the cell',\n",
              " 'rudimental waiting all night video is it real',\n",
              " 'there are senators and representatives in the us congress',\n",
              " 'the person accused of a crime is called the plaintiff',\n",
              " 'pakistan will host the 2018 asian cricket council (acc)',\n",
              " 'costa rica is south of nicaragua true or false',\n",
              " 'season 6 once upon a time last season',\n",
              " 'the first commandment is this love the lord',\n",
              " 'james and oliver phelps are you twins in real life',\n",
              " 'the darpanet or arpanet hardware is still in place today',\n",
              " 'kansas city missouri kansas city kansas same city',\n",
              " 'the boat that rocked is it a true story',\n",
              " 'a government is a sovereign member of the world community',\n",
              " 'in friends do ross and rachel end up together',\n",
              " 'fletcher henderson began his musical career with black swan records',\n",
              " 'apsara and nataraj are owned by same company',\n",
              " 'xbox 360 games can you play on xbox one',\n",
              " 'harry potter forbidden journey does it go upside down',\n",
              " 'the domain name system (dns) converts domain names to ip addresses',\n",
              " 'in vampire diaries do elena and damon date',\n",
              " 'when did the lexus rx body style change',\n",
              " 'the exclusionary rule prohibits the prosecutor from using illegally obtained evidence during a trial',\n",
              " 'the irregular at magic high school are tatsuya and miyuki related',\n",
              " 'a solid is a state of matter that has a shape and volume',\n",
              " 'any million dollar winners on who wants to be a millionaire',\n",
              " 'red dead redemption undead nightmare does it include original game',\n",
              " 'except for\\u200b opossums it is hard to find marsupials in the western hemisphere',\n",
              " 'if you are born in puerto rico are you an american citizen',\n",
              " 'in the us public health services are found only at the state and federal level',\n",
              " 'economic rent is a payment received in excess of marginal cost. true false',\n",
              " 'the nolan chart is a two axis political',\n",
              " 'pelvic girdle is part of the appendicular skeleton',\n",
              " 'quantum physics tells us that nothing that is observed is unaffected by the observer',\n",
              " 'in meet the fockers is jorge greg son',\n",
              " 'the highest point of the appalachian mountains is located at mt. mitchell in massachusetts',\n",
              " 'institute of medicine report to err is human',\n",
              " 'international organization is the product of the bretton woods conference',\n",
              " 'when have the brewers been in the playoffs',\n",
              " 'in chess can a knight jump over two pieces',\n",
              " 'the gametophyte for seed plants is completely independent of the sporophyte stage',\n",
              " 'jumanji welcome to the jungle is it a sequel',\n",
              " 'the un general assembly includes representatives from all member nations',\n",
              " 'good boy or good girl morality is found in the conventional level of morality',\n",
              " 'the first amendment to the constitution protects citizens against cruel and unusual punishment',\n",
              " 'in the office do pam and jim get married',\n",
              " 'a dangerous method is it a true story',\n",
              " 'the abbasid dynasty comes to power after the umayyad army is defeated at the battle of the zab',\n",
              " 'copper carbonate on heating gives a black residue of copper oxide',\n",
              " 'hollywood remained the one voice of protest during the red scare',\n",
              " \"in india woman once burned at husband's pyre\",\n",
              " 'who did john wayne play in the alamo',\n",
              " 'south carolina one of the original 13 colonies',\n",
              " 'where does the mahoning river start and finish',\n",
              " 'a positron is the antiparticle of the electron',\n",
              " 'new york city and manhattan the same thing',\n",
              " 'the amazon rainforest is the largest rainforest in the world',\n",
              " 'what book of the old testament is considered to have the greatest poetry',\n",
              " 'total expenditure in the us is equal to consumption expenditure plus investment',\n",
              " 'where there two trees in the garden of eden',\n",
              " 'if a polygon has equal sides does it have equal angles',\n",
              " 'death in paradise do camille and humphrey get together',\n",
              " 'if you pull a nail out does it grow back',\n",
              " 'how long has the great pyramid of giza been around',\n",
              " \"in sq3r the 3 r's are in order review read recite\",\n",
              " 'what day is the first day of the week',\n",
              " 'the helmand province of afghanistan is famous for cultivation',\n",
              " 'the electronic media in the united states are primarily owned and operated by the federal government',\n",
              " 'cool runnings based off of a true story',\n",
              " 'why is my country tis of thee the same as god save the queen',\n",
              " 'the longest word in the english language is pneumonoultramicroscopicsilicovolcanoconiosis',\n",
              " \"the target hr zone is the range between 60 - 80 of an individual's maximum hr\",\n",
              " 'in the vampire diaries do damon and elena ever get together',\n",
              " 'mississippi was the first state to secede from the union',\n",
              " 'when driving on a national road is it permitted to drive on the hard shoulder',\n",
              " 'in a countercurrent exchange system the fluids in two tubes flow in opposite directions',\n",
              " 'st vincent and the grenadines ambassador to the united states',\n",
              " 'in the nfl does the clock stop when you go out of bounds',\n",
              " 'in most cases does als affect the brain',\n",
              " 'article 1 of the constitution describes the powers of the president',\n",
              " 'salto ángel is the tallest waterfall in the world',\n",
              " 'warrantless searches and seizures can be lawful when police are in hot pursuit of a subject',\n",
              " 'ed sheeran wrote a song for justin bieber',\n",
              " 'backcountry movie is based on a true story',\n",
              " 'the ʺfruits of the poisonous treeʺ doctrine applies only to arrests and not searches',\n",
              " \"homer's iliad and odyssey were an account of the persian wars\",\n",
              " 'if a function is continuous then it is differentiable at that point',\n",
              " \"van gogh's the starry night is from the impressionist movement\",\n",
              " 'why was there no sequel to the last airbender',\n",
              " 'dawson creek do joey and dawson end up together',\n",
              " 'the us supreme court is the only court established by constitutional mandate',\n",
              " 'look what you made me do - single taylor swift',\n",
              " 'actus reus means the guilty act and is one element the prosecution must prove in a criminal case',\n",
              " 'the presiding officer of the house is the speaker of the house constitution',\n",
              " 'the president of india can proclaim national emergency',\n",
              " 'a cutoff meander can become an oxbow lake',\n",
              " 'should wine bottles be stored at an angle',\n",
              " \"that 70's show did eric and donna get married\",\n",
              " 'in the northern hemisphere the day is always shorter at higher latitudes than at lower latitudes',\n",
              " 'english is now the lingua franca of global business',\n",
              " 'fargo tv show really based on true story',\n",
              " 'earth summit in rio de janeiro in 1992',\n",
              " 'what is optoutprescreen com and is it legit',\n",
              " 'if you have a phd is your title dr',\n",
              " 'what is the revenant based on a true story',\n",
              " 'my mom was born in canada can i become a citizen',\n",
              " 'youtube is an american video sharing website headquartered in san bruno california',\n",
              " 'olympic games was badminton introduce as a medal sport',\n",
              " 'karachi is the largest city in the world',\n",
              " 'what number is national geographic channel on sky',\n",
              " 'et was played by a kid with no legs',\n",
              " 'stand by me movie based on a true story',\n",
              " 'the hypothalamus regulates the release of hormones from the pituitary gland',\n",
              " 'the primary purpose of css is to format the display of a web page',\n",
              " 'star trek voyager do they ever get home',\n",
              " 'netball can you shoot from outside the circle',\n",
              " 'in the movie no escape do they survive',\n",
              " 'brady and nicole days of our lives married',\n",
              " 'alpha dog movie is it a true story',\n",
              " 'the martian does he die at the end',\n",
              " 'in peer to peer network each computer runs both client and server software',\n",
              " 'michael owen world player of the year 2001',\n",
              " 'an induced magnetic field in a wire opposed the change in the external magnetic field',\n",
              " 'corporate governance is the system that directs and controls business corporations',\n",
              " 'a font is a set of characters of a certain design',\n",
              " 'the white queen is it a true story',\n",
              " '99 of all is found inside the cells of the body',\n",
              " 'the movie the rookie is it a true story',\n",
              " 'if travelling at the speed of light would it take 1 million years to reach the andromeda galaxy',\n",
              " 'scrubs do elliot and jd end up together',\n",
              " 'in england the voltage of residential electrical outlets is 230v',\n",
              " 'onflict is defined as interpersonal opposition based on individual dislike or disagreement',\n",
              " 'diplomatic immunity for consular officers is not absolute quizlet',\n",
              " 'nasik is situated on the bank of river',\n",
              " 'legal to break out of prison in germany',\n",
              " 'cyclin d1 is a nuclear protein required for cell cycle progression in g1',\n",
              " 'beauty and the beast does the beast die',\n",
              " 'glucose is a primary fuel source for muscles and other cells',\n",
              " 'nilgiri himalayan and arabian are types of animals',\n",
              " 'true or false the oregon country was claimed by three different countries in the early 1800s',\n",
              " 'gap and old navy owned by same company',\n",
              " 'cristiano ronaldo has he won a world cup',\n",
              " 'jab harry met sejal a copy of when harry met sally',\n",
              " 'great food truck race do they get to keep the car',\n",
              " 'where was american horror story season 1 filmed',\n",
              " 'directed verdict is a verdict decided by the jury without advice from the judge',\n",
              " 'in cooprative banking the borrowers or members are banks',\n",
              " 'malcolm in the middle malcolm is a genius',\n",
              " 'delphi group decision making is used to develop consensus among a group of experts',\n",
              " 'interphase is a phase of mitosis true or false',\n",
              " 'where do jamie and claire live in america',\n",
              " 'the primary colors of pigment are cyan yellow and magenta true or false',\n",
              " 'according to social control theory crime is a result of weak or broken social bond',\n",
              " 'what is the movie shawshank redemption based on a true story',\n",
              " \"isn't puerto rico part of the us\",\n",
              " 'the fair credit reporting act (fcra) was a landmark piece of legislation for several reasons',\n",
              " 'beri beri is caused by lack of vitamin',\n",
              " 'in the game of chess can a queen move like a knight',\n",
              " 'most genetic disorders are covered by single genes inherited in mendelian fashion',\n",
              " 'parks and rec do andy and april stay together',\n",
              " 'first world third world is there a second world',\n",
              " 'the red violin is it a true story',\n",
              " 'each state must have a republican form of government',\n",
              " 'if you are born in the uk are you automatically british',\n",
              " 'in the bible is there an unforgivable sin',\n",
              " 'when does sara come back from the dead',\n",
              " \"grey's anatomy musical episode did they really sing\",\n",
              " 'in the movie the book of eli is he blind',\n",
              " 'god save the queen same tune as my country tis of thee',\n",
              " 'the movie bernie based on a true story',\n",
              " 'by the mid-1980s fox had emerged as a viable fourth network',\n",
              " 'home and away does roo keep the baby',\n",
              " 'who is the guy that plays mayhem on the commercials',\n",
              " 'who is egypt playing in the world cup',\n",
              " \"a man's home is his castle amendment\",\n",
              " 'if events a and b are mutually exclusive are they also collectively exhaustive',\n",
              " 'mosque comes from the arabic word masjid meaning',\n",
              " \"amazon's data warehousing service is called redshift\",\n",
              " 'phytoplankton are heterotrophs which depend on autotrophs for nutrition',\n",
              " 'the french flag is referred to as the blank because of its three colors',\n",
              " 'an anion is any atom or group of atoms with a positive charge',\n",
              " 'whiskey tango foxtrot movie based on true story',\n",
              " 'an application is software that allows you to perform a specific task true or false',\n",
              " 'what is the first amendment freedom of religion',\n",
              " 'then came the last days of may true story',\n",
              " 'roswell do max and liz end up together',\n",
              " 'original wizard of oz was it in color',\n",
              " 'michelangelo painted the ceiling of the sistine chapel',\n",
              " 'futures contracts are bought and sold in organized markets such as the chicago board of trade',\n",
              " 'a triangle with one obtuse angle must have two acute angles',\n",
              " 'the walking dead do they ever find sophia',\n",
              " 'antivirus software is considered a form of application software',\n",
              " 'with regard to the pressure gradient force air will always move from low to high pressure',\n",
              " 'the earliest form of state police agency to emerge in the united states was the texas rangers',\n",
              " 'in uno can you win on a wild card',\n",
              " 'the currency of all eu countries is the euro',\n",
              " 'the fermentation of sugar to alcohol can take place only if living yeast cells are present',\n",
              " 'commonly known as hives are itchy wheals caused by an allergic reaction',\n",
              " 'you play xbox 360 games on xbox one',\n",
              " '1945 b-29 superfortress bombers begin to drop supplies into allied prisoner of war camps in china',\n",
              " \"okinawa world's largest churaumi aquarium in japan\",\n",
              " 'the presence of vestigial structures is explained by the common descent hypothesis. true false',\n",
              " 'total revenue minus total cost equals total profit',\n",
              " 'in the movie radio flyer does bobby die',\n",
              " 'a delta region has been formed at the mouth of the river ganga',\n",
              " 'equlibrium is established in a reversible chemical reaction when the reactants and product are equal',\n",
              " 'in texas is it legal to carry a handgun in your car',\n",
              " 'italy is an example of a unitary government',\n",
              " 'a morpheme is the smallest unit of meaning found in a word. true false',\n",
              " 'the capital of brazil is rio de janeiro',\n",
              " 'sevendust all i see is war has it leaked',\n",
              " 'hbl was the first bank of pakistan true or false',\n",
              " 'footnote 4 of united states v. carolene products co. identifies areas where',\n",
              " 'what is the movie after batman vs robin',\n",
              " 'diabetes mellitus is a disease associated with the inadequate secretion or action of adh',\n",
              " 'bermuda is an island in the caribbean sea',\n",
              " 'oceans are a global sink for carbon dioxide',\n",
              " 'the fbi has jurisdiction over all federal and state laws',\n",
              " 'a deposition is oral testimony given by a party or witness during the trial',\n",
              " 'parallelogram is a quadrilateral in which opposite sides are parallel',\n",
              " 'ok google is puerto rico part of america',\n",
              " 'the heart of the sea is it a true story',\n",
              " 'endemic species can be found in multiple areas of the world',\n",
              " 'gene expression may be regulated by altering chromatin structure',\n",
              " \"we're jay and silent bob in degrassi\",\n",
              " 'if you own an island are there laws',\n",
              " 'what relationship was there between improvements in agriculture and the industrialisation of britain',\n",
              " 'the second continental congress ran the government during the revolutionary war',\n",
              " 'downton abbey will there be a season 7',\n",
              " \"didn't coldwater creek go out of business\"]"
            ]
          },
          "metadata": {},
          "execution_count": 11
        }
      ]
    },
    {
      "cell_type": "markdown",
      "metadata": {
        "id": "nRTuUReAqj4D"
      },
      "source": [
        "## Подходы 1-2. Константа и fasttext"
      ]
    },
    {
      "cell_type": "code",
      "metadata": {
        "id": "88o5fk5bTJVg"
      },
      "source": [
        "from sklearn.metrics import accuracy_score"
      ],
      "execution_count": 12,
      "outputs": []
    },
    {
      "cell_type": "code",
      "metadata": {
        "id": "POAOmVB0RT-n"
      },
      "source": [
        "val_df = train_df.sample(frac=0.2, random_state=10)\n",
        "train_df = train_df[~train_df.index.isin(val_df.index)]"
      ],
      "execution_count": 28,
      "outputs": []
    },
    {
      "cell_type": "code",
      "metadata": {
        "colab": {
          "base_uri": "https://localhost:8080/"
        },
        "id": "lbxVLCbCRgm_",
        "outputId": "10193964-b75a-4af9-a209-834cd6acced5"
      },
      "source": [
        "y_pred = [train_df.answer.value_counts().index[0]] * len(dev_df)\n",
        "\n",
        "print(round(accuracy_score(y_pred, dev_df.answer.values) * 100, 2))"
      ],
      "execution_count": null,
      "outputs": [
        {
          "output_type": "stream",
          "text": [
            "62.17\n"
          ],
          "name": "stdout"
        }
      ]
    },
    {
      "cell_type": "markdown",
      "metadata": {
        "id": "TMTQOS1XTOGY"
      },
      "source": [
        "fasttext"
      ]
    },
    {
      "cell_type": "code",
      "metadata": {
        "id": "iMXMeFWGTQPa"
      },
      "source": [
        "# import gensim\n",
        "# import gensim.downloader as api\n",
        "\n",
        "# fasttext = api.load(\"fasttext-wiki-news-subwords-300\")"
      ],
      "execution_count": null,
      "outputs": []
    },
    {
      "cell_type": "code",
      "metadata": {
        "colab": {
          "base_uri": "https://localhost:8080/"
        },
        "id": "Enfb7vVEjX74",
        "outputId": "db631be3-2923-4209-b593-9c587467cc93"
      },
      "source": [
        "!pip install fasttext\n",
        "\n",
        "import fasttext"
      ],
      "execution_count": null,
      "outputs": [
        {
          "output_type": "stream",
          "text": [
            "Collecting fasttext\n",
            "\u001b[?25l  Downloading https://files.pythonhosted.org/packages/f8/85/e2b368ab6d3528827b147fdb814f8189acc981a4bc2f99ab894650e05c40/fasttext-0.9.2.tar.gz (68kB)\n",
            "\r\u001b[K     |████▊                           | 10kB 18.6MB/s eta 0:00:01\r\u001b[K     |█████████▌                      | 20kB 23.3MB/s eta 0:00:01\r\u001b[K     |██████████████▎                 | 30kB 17.3MB/s eta 0:00:01\r\u001b[K     |███████████████████             | 40kB 15.2MB/s eta 0:00:01\r\u001b[K     |███████████████████████▉        | 51kB 8.5MB/s eta 0:00:01\r\u001b[K     |████████████████████████████▋   | 61kB 8.5MB/s eta 0:00:01\r\u001b[K     |████████████████████████████████| 71kB 5.4MB/s \n",
            "\u001b[?25hRequirement already satisfied: pybind11>=2.2 in /usr/local/lib/python3.7/dist-packages (from fasttext) (2.6.2)\n",
            "Requirement already satisfied: setuptools>=0.7.0 in /usr/local/lib/python3.7/dist-packages (from fasttext) (57.0.0)\n",
            "Requirement already satisfied: numpy in /usr/local/lib/python3.7/dist-packages (from fasttext) (1.19.5)\n",
            "Building wheels for collected packages: fasttext\n",
            "  Building wheel for fasttext (setup.py) ... \u001b[?25l\u001b[?25hdone\n",
            "  Created wheel for fasttext: filename=fasttext-0.9.2-cp37-cp37m-linux_x86_64.whl size=3096663 sha256=4438969f5fe99a5117c3f6f0e874f50a89892d64c494e55c01c7a6491c4be12b\n",
            "  Stored in directory: /root/.cache/pip/wheels/98/ba/7f/b154944a1cf5a8cee91c154b75231136cc3a3321ab0e30f592\n",
            "Successfully built fasttext\n",
            "Installing collected packages: fasttext\n",
            "Successfully installed fasttext-0.9.2\n"
          ],
          "name": "stdout"
        }
      ]
    },
    {
      "cell_type": "code",
      "metadata": {
        "id": "Z9DwGkcKlHam"
      },
      "source": [
        "train_df['concat_question_passage'] = train_df.question + ' ' + train_df.passage\n",
        "val_df['concat_question_passage'] = val_df.question + ' ' + val_df.passage\n",
        "dev_df['concat_question_passage'] = dev_df.question + ' ' + dev_df.passage"
      ],
      "execution_count": null,
      "outputs": []
    },
    {
      "cell_type": "code",
      "metadata": {
        "id": "t0LbncvqnM0r"
      },
      "source": [
        "train_df['fasttext_label'] = '__label__' + train_df.answer.astype(str)\n",
        "val_df['fasttext_label'] = '__label__' + val_df.answer.astype(str)\n",
        "dev_df['fasttext_label'] = '__label__' + dev_df.answer.astype(str)"
      ],
      "execution_count": null,
      "outputs": []
    },
    {
      "cell_type": "code",
      "metadata": {
        "id": "hK-NtlVRngsw"
      },
      "source": [
        "train_df[['fasttext_label', 'concat_question_passage']] \\\n",
        "          .to_csv('fasttext_train.txt', index=False, sep=' ', header=False)\n",
        "val_df[['fasttext_label', 'concat_question_passage']] \\\n",
        "          .to_csv('fasttext_val.txt', index=False, sep=' ', header=False)\n",
        "dev_df[['fasttext_label', 'concat_question_passage']] \\\n",
        "          .to_csv('fasttext_dev.txt', index=False, sep=' ', header=False)"
      ],
      "execution_count": null,
      "outputs": []
    },
    {
      "cell_type": "markdown",
      "metadata": {
        "id": "oNU-t5q1vuDR"
      },
      "source": [
        "Поиграюсь с параметрами fasttext."
      ]
    },
    {
      "cell_type": "code",
      "metadata": {
        "colab": {
          "base_uri": "https://localhost:8080/"
        },
        "id": "fA_mSWCUoXXs",
        "outputId": "feb4f2d4-3201-400b-e2a4-bbd8cbe68ef6"
      },
      "source": [
        "fasttext_model = fasttext.train_supervised('fasttext_train.txt',\n",
        "                                  epoch = 10, wordNgrams = 3, dim=100,\n",
        "                                  autotuneValidationFile='fasttext_val.txt')\n",
        "\n",
        "y_pred = fasttext_model.predict(dev_df['concat_question_passage'].tolist())\n",
        "bool_dict = {'True': True, 'False': False}\n",
        "\n",
        "y_pred = [bool_dict[pred[0].split('__')[-1]] for pred in y_pred[0]]\n",
        "print(round(accuracy_score(y_pred, dev_df.answer.values) * 100, 2))"
      ],
      "execution_count": null,
      "outputs": [
        {
          "output_type": "stream",
          "text": [
            "67.83\n"
          ],
          "name": "stdout"
        }
      ]
    },
    {
      "cell_type": "code",
      "metadata": {
        "colab": {
          "base_uri": "https://localhost:8080/"
        },
        "id": "SBkUVr_uwa7R",
        "outputId": "e4814d82-5777-4ff6-ad35-31505b7784f4"
      },
      "source": [
        "fasttext_model = fasttext.train_supervised('fasttext_train.txt',\n",
        "                                  epoch = 10, wordNgrams = 3, dim=50,\n",
        "                                  autotuneValidationFile='fasttext_val.txt')\n",
        "\n",
        "y_pred = fasttext_model.predict(dev_df['concat_question_passage'].tolist())\n",
        "bool_dict = {'True': True, 'False': False}\n",
        "\n",
        "y_pred = [bool_dict[pred[0].split('__')[-1]] for pred in y_pred[0]]\n",
        "print(round(accuracy_score(y_pred, dev_df.answer.values) * 100, 2))"
      ],
      "execution_count": null,
      "outputs": [
        {
          "output_type": "stream",
          "text": [
            "68.29\n"
          ],
          "name": "stdout"
        }
      ]
    },
    {
      "cell_type": "code",
      "metadata": {
        "colab": {
          "base_uri": "https://localhost:8080/"
        },
        "id": "lT8SfIkH0WSJ",
        "outputId": "d3b4637f-ff1f-4a8c-a735-2caa44a96316"
      },
      "source": [
        "fasttext_model = fasttext.train_supervised('fasttext_train.txt',\n",
        "                                  epoch = 10, wordNgrams = 5, dim=100,\n",
        "                                  autotuneValidationFile='fasttext_val.txt')\n",
        "\n",
        "y_pred = fasttext_model.predict(dev_df['concat_question_passage'].tolist())\n",
        "bool_dict = {'True': True, 'False': False}\n",
        "\n",
        "y_pred = [bool_dict[pred[0].split('__')[-1]] for pred in y_pred[0]]\n",
        "print(round(accuracy_score(y_pred, dev_df.answer.values) * 100, 2))"
      ],
      "execution_count": null,
      "outputs": [
        {
          "output_type": "stream",
          "text": [
            "68.47\n"
          ],
          "name": "stdout"
        }
      ]
    },
    {
      "cell_type": "code",
      "metadata": {
        "colab": {
          "base_uri": "https://localhost:8080/"
        },
        "id": "iyLihH8B2R3q",
        "outputId": "ca4870fd-40d0-4534-a945-8924d24f9e1d"
      },
      "source": [
        "fasttext_model = fasttext.train_supervised('fasttext_train.txt',\n",
        "                                  epoch = 20, wordNgrams = 5, dim=100,\n",
        "                                  autotuneValidationFile='fasttext_val.txt')\n",
        "\n",
        "y_pred = fasttext_model.predict(dev_df['concat_question_passage'].tolist())\n",
        "bool_dict = {'True': True, 'False': False}\n",
        "\n",
        "y_pred = [bool_dict[pred[0].split('__')[-1]] for pred in y_pred[0]]\n",
        "print(round(accuracy_score(y_pred, dev_df.answer.values) * 100, 2))"
      ],
      "execution_count": null,
      "outputs": [
        {
          "output_type": "stream",
          "text": [
            "67.95\n"
          ],
          "name": "stdout"
        }
      ]
    },
    {
      "cell_type": "code",
      "metadata": {
        "colab": {
          "base_uri": "https://localhost:8080/"
        },
        "id": "TzVkGH0ZjFnC",
        "outputId": "952083eb-b902-4638-ce1c-542e9aab79bb"
      },
      "source": [
        "fasttext_model = fasttext.train_supervised('fasttext_train.txt', lr=0.7,\n",
        "                                  epoch = 10, wordNgrams = 5, dim=100,\n",
        "                                  autotuneValidationFile='fasttext_val.txt')\n",
        "\n",
        "y_pred = fasttext_model.predict(dev_df['concat_question_passage'].tolist())\n",
        "bool_dict = {'True': True, 'False': False}\n",
        "\n",
        "y_pred = [bool_dict[pred[0].split('__')[-1]] for pred in y_pred[0]]\n",
        "print(round(accuracy_score(y_pred, dev_df.answer.values) * 100, 2))"
      ],
      "execution_count": null,
      "outputs": [
        {
          "output_type": "stream",
          "text": [
            "68.38\n"
          ],
          "name": "stdout"
        }
      ]
    },
    {
      "cell_type": "markdown",
      "metadata": {
        "id": "sXNMe0Fjv1qC"
      },
      "source": [
        "Лучшие результаты при большем learning rate, меньшем размере эмбеддинга и большем числе эпох. Модель показывает результат примерно 68-68.5%, что всего на 6% лучше константы."
      ]
    },
    {
      "cell_type": "markdown",
      "metadata": {
        "id": "Wb7PODwofMvc"
      },
      "source": [
        "FastText справляется плохо, так как он не различает вопрос и пассаж, поэтому не всегда может понимать, что нужно искать связь между словами в вопросе и в пассаже.Модель воспринимает все как один текст, когда вопрос и пассаж стоило бы оценивать отдельно, чтобы выделять их отдельные особенности. Кроме того, так как он смотрит на морфемы, то он может терять мог верхнеуровневой абстрактной информации, которая нужна для нахождения нужного контекста в вопросе."
      ]
    },
    {
      "cell_type": "markdown",
      "metadata": {
        "id": "Fg84O0bfqj4G"
      },
      "source": [
        "## Часть 3. Используем эмбеддинги предложений (2 балла)\n",
        "1. Постройте BERT эмбеддинги вопроса и абзаца. Обучите логистическую регрессию на конкатенированных эмбеддингах вопроса и абзаца и оцените accuracy этого решения. \n",
        "\n",
        "[bonus] Используйте другие модели эмбеддингов, доступные, например, в библиотеке 🤗 Transformers. Какая модель эмбеддингов даст лучшие результаты?\n",
        "\n",
        "[bonus] Предложите метод аугментации данных и продемонстрируйте его эффективность. "
      ]
    },
    {
      "cell_type": "code",
      "metadata": {
        "id": "9rVRvVugdNnM",
        "colab": {
          "base_uri": "https://localhost:8080/"
        },
        "outputId": "f8f9eb3f-1403-4445-fc33-61f10688d4b3"
      },
      "source": [
        "import torch\n",
        "!pip install transformers\n",
        "from transformers import BertTokenizer, BertModel, \\\n",
        "                         DistilBertTokenizer, DistilBertModel, \\\n",
        "                         BertForQuestionAnswering, \\\n",
        "                         RobertaTokenizer, RobertaModel,\\\n",
        "                         LongformerTokenizer, LongformerModel\n",
        "from sklearn.linear_model import LogisticRegression\n",
        "import numpy as np\n",
        "import gc\n",
        "import tqdm\n",
        "\n",
        "import warnings\n",
        "warnings.filterwarnings(\"ignore\")\n",
        "\n",
        "import logging\n",
        "logging.disable(logging.WARNING)"
      ],
      "execution_count": 13,
      "outputs": [
        {
          "output_type": "stream",
          "name": "stdout",
          "text": [
            "Looking in indexes: https://pypi.org/simple, https://us-python.pkg.dev/colab-wheels/public/simple/\n",
            "Collecting transformers\n",
            "  Downloading transformers-4.28.1-py3-none-any.whl (7.0 MB)\n",
            "\u001b[2K     \u001b[90m━━━━━━━━━━━━━━━━━━━━━━━━━━━━━━━━━━━━━━━━\u001b[0m \u001b[32m7.0/7.0 MB\u001b[0m \u001b[31m87.5 MB/s\u001b[0m eta \u001b[36m0:00:00\u001b[0m\n",
            "\u001b[?25hRequirement already satisfied: requests in /usr/local/lib/python3.9/dist-packages (from transformers) (2.27.1)\n",
            "Requirement already satisfied: regex!=2019.12.17 in /usr/local/lib/python3.9/dist-packages (from transformers) (2022.10.31)\n",
            "Requirement already satisfied: tqdm>=4.27 in /usr/local/lib/python3.9/dist-packages (from transformers) (4.65.0)\n",
            "Requirement already satisfied: numpy>=1.17 in /usr/local/lib/python3.9/dist-packages (from transformers) (1.22.4)\n",
            "Requirement already satisfied: packaging>=20.0 in /usr/local/lib/python3.9/dist-packages (from transformers) (23.0)\n",
            "Collecting tokenizers!=0.11.3,<0.14,>=0.11.1\n",
            "  Downloading tokenizers-0.13.3-cp39-cp39-manylinux_2_17_x86_64.manylinux2014_x86_64.whl (7.8 MB)\n",
            "\u001b[2K     \u001b[90m━━━━━━━━━━━━━━━━━━━━━━━━━━━━━━━━━━━━━━━━\u001b[0m \u001b[32m7.8/7.8 MB\u001b[0m \u001b[31m101.2 MB/s\u001b[0m eta \u001b[36m0:00:00\u001b[0m\n",
            "\u001b[?25hCollecting huggingface-hub<1.0,>=0.11.0\n",
            "  Downloading huggingface_hub-0.13.4-py3-none-any.whl (200 kB)\n",
            "\u001b[2K     \u001b[90m━━━━━━━━━━━━━━━━━━━━━━━━━━━━━━━━━━━━━━\u001b[0m \u001b[32m200.1/200.1 kB\u001b[0m \u001b[31m25.0 MB/s\u001b[0m eta \u001b[36m0:00:00\u001b[0m\n",
            "\u001b[?25hRequirement already satisfied: pyyaml>=5.1 in /usr/local/lib/python3.9/dist-packages (from transformers) (6.0)\n",
            "Requirement already satisfied: filelock in /usr/local/lib/python3.9/dist-packages (from transformers) (3.11.0)\n",
            "Requirement already satisfied: typing-extensions>=3.7.4.3 in /usr/local/lib/python3.9/dist-packages (from huggingface-hub<1.0,>=0.11.0->transformers) (4.5.0)\n",
            "Requirement already satisfied: certifi>=2017.4.17 in /usr/local/lib/python3.9/dist-packages (from requests->transformers) (2022.12.7)\n",
            "Requirement already satisfied: idna<4,>=2.5 in /usr/local/lib/python3.9/dist-packages (from requests->transformers) (3.4)\n",
            "Requirement already satisfied: urllib3<1.27,>=1.21.1 in /usr/local/lib/python3.9/dist-packages (from requests->transformers) (1.26.15)\n",
            "Requirement already satisfied: charset-normalizer~=2.0.0 in /usr/local/lib/python3.9/dist-packages (from requests->transformers) (2.0.12)\n",
            "Installing collected packages: tokenizers, huggingface-hub, transformers\n",
            "Successfully installed huggingface-hub-0.13.4 tokenizers-0.13.3 transformers-4.28.1\n"
          ]
        }
      ]
    },
    {
      "cell_type": "code",
      "metadata": {
        "id": "GdqI_W5ZtAFL"
      },
      "source": [
        "import tqdm\n",
        "from IPython.display import clear_output\n",
        "def get_emb(text_series, tokenizer, model, batch_size=32,\n",
        "            truncation='longest_first',\n",
        "            padding='max_length',\n",
        "            max_length=512):\n",
        "\n",
        "  text_series_padded = [tokenizer.encode(x,\n",
        "                      add_special_tokens=True,\n",
        "                      padding=padding,\n",
        "                      truncation=truncation,\n",
        "                      max_length=max_length) for x in text_series]\n",
        "  \n",
        "  text_series_padded = np.array(text_series_padded, dtype=np.int64)\n",
        "  attention_mask = np.where(text_series_padded != 0, 1, 0)\n",
        "\n",
        "  model.eval()\n",
        "\n",
        "  device = torch.device('cuda' if torch.cuda.is_available() else 'cpu')\n",
        "  model = model.to(device)\n",
        "\n",
        "  output = []\n",
        "\n",
        "  for idx in tqdm.tqdm(range(0, len(text_series_padded), batch_size)):\n",
        "\n",
        "    batch = torch.tensor(text_series_padded[idx:idx + batch_size]).to(device)\n",
        "    part_mask = torch.tensor(attention_mask[idx:idx + batch_size]).to(device)\n",
        "\n",
        "    with torch.no_grad():\n",
        "        release = model(batch, attention_mask=part_mask)\n",
        "        output.append(release.last_hidden_state[:, 0, :].cpu())\n",
        "    \n",
        "    del release, batch, part_mask\n",
        "    torch.cuda.empty_cache()\n",
        "\n",
        "  return torch.cat(output, dim=0)"
      ],
      "execution_count": 14,
      "outputs": []
    },
    {
      "cell_type": "code",
      "metadata": {
        "id": "FR7iCrN_geol"
      },
      "source": [
        "def get_accuracy(pretrained_weights, tokenizer, model, nltk=True,\n",
        "                 truncation='longest_first',\n",
        "                 padding='max_length',\n",
        "                 max_length=512):\n",
        "\n",
        "    tokenizer = tokenizer.from_pretrained(pretrained_weights)\n",
        "    model = model.from_pretrained(pretrained_weights)\n",
        "\n",
        "    if nltk:\n",
        "    \n",
        "        train_question_emb = get_emb(train_df.nltk_question, tokenizer, model, \n",
        "                                     batch_size=64)\n",
        "        train_passage_emb = get_emb(train_df.nltk_passage, tokenizer, model, \n",
        "                                    batch_size=32, truncation=truncation,\n",
        "                                     padding=padding, max_length=max_length)\n",
        "        \n",
        "    else:\n",
        "\n",
        "        train_question_emb = get_emb(train_df.question, tokenizer, model, \n",
        "                                     batch_size=64)\n",
        "        train_passage_emb = get_emb(train_df.passage, tokenizer, model, \n",
        "                                    batch_size=32, truncation=truncation,\n",
        "                                     padding=padding, max_length=max_length)\n",
        "        \n",
        "    train_total_emb = torch.cat([train_question_emb, \n",
        "                                 train_passage_emb], dim=1).cpu().numpy()\n",
        "\n",
        "    logreg = LogisticRegression()\n",
        "    logreg.fit(train_total_emb, train_df.answer)\n",
        "\n",
        "    del train_question_emb, train_passage_emb, train_total_emb\n",
        "    gc.collect()\n",
        "\n",
        "    if nltk:\n",
        "\n",
        "        dev_question_emb = get_emb(dev_df.nltk_question, tokenizer, model,\n",
        "                                   batch_size=64)\n",
        "        dev_passage_emb = get_emb(dev_df.nltk_passage, tokenizer, model,\n",
        "                                  batch_size=32, truncation=truncation,\n",
        "                                     padding=padding, max_length=max_length)\n",
        "\n",
        "    else:\n",
        "\n",
        "        dev_question_emb = get_emb(dev_df.question, tokenizer, model,\n",
        "                                   batch_size=64)\n",
        "        dev_passage_emb = get_emb(dev_df.passage, tokenizer, model,\n",
        "                                  batch_size=32, truncation=truncation,\n",
        "                                     padding=padding, max_length=max_length)\n",
        "    \n",
        "    dev_total_emb = torch.cat([dev_question_emb, \n",
        "                               dev_passage_emb], dim=1).cpu().numpy()\n",
        "\n",
        "    y_pred = logreg.predict(dev_total_emb)\n",
        "    ans = round(accuracy_score(y_pred, dev_df.answer.values) * 100, 2)\n",
        "\n",
        "    del dev_question_emb, dev_passage_emb, dev_total_emb\n",
        "    gc.collect()\n",
        "\n",
        "    clear_output()\n",
        "\n",
        "    return ans"
      ],
      "execution_count": 15,
      "outputs": []
    },
    {
      "cell_type": "markdown",
      "metadata": {
        "id": "uN_Fgll3jZiZ"
      },
      "source": [
        "Сначала я попробую применять DistilBert, так как он небольшой, быстрый и почти настолько же эффективный как обычный Bert. Я посмотрю на результат, для необработанных и обработанных текстов."
      ]
    },
    {
      "cell_type": "code",
      "metadata": {
        "colab": {
          "base_uri": "https://localhost:8080/"
        },
        "id": "vStKykCcQ8uD",
        "outputId": "e970c850-f796-4e7b-84f5-785e71358093"
      },
      "source": [
        "get_accuracy('distilbert-base-uncased', DistilBertTokenizer, DistilBertModel)"
      ],
      "execution_count": null,
      "outputs": [
        {
          "output_type": "execute_result",
          "data": {
            "text/plain": [
              "54.13"
            ]
          },
          "metadata": {
            "tags": []
          },
          "execution_count": 152
        }
      ]
    },
    {
      "cell_type": "code",
      "metadata": {
        "colab": {
          "base_uri": "https://localhost:8080/"
        },
        "id": "qQqLmFI1eSrK",
        "outputId": "7d1a5a37-3b7f-4c97-aff8-655df7024724"
      },
      "source": [
        "get_accuracy('distilbert-base-uncased', DistilBertTokenizer, DistilBertModel,\n",
        "             nltk=False)"
      ],
      "execution_count": null,
      "outputs": [
        {
          "output_type": "execute_result",
          "data": {
            "text/plain": [
              "65.54"
            ]
          },
          "metadata": {
            "tags": []
          },
          "execution_count": 38
        }
      ]
    },
    {
      "cell_type": "markdown",
      "metadata": {
        "id": "fBF8fuMtjpZk"
      },
      "source": [
        "Видно, что DistilBert на необработанных текстах значительно лучше (на 11%) показывает себя, чем на обработанных. Буду считать, что на обработанных текстах результаты лучше. Тем не менее, он не догоняет fasttext по результатам, проигрывая 2-3%, но лучше константной модели.\n",
        "\n",
        "Дальше я посмотрю на обычный Bert."
      ]
    },
    {
      "cell_type": "code",
      "metadata": {
        "colab": {
          "base_uri": "https://localhost:8080/"
        },
        "id": "JJerQgwcNdW-",
        "outputId": "11f86648-6aa6-4549-9282-b4a430ab3604"
      },
      "source": [
        "get_accuracy('bert-base-uncased', BertTokenizer, BertModel,\n",
        "             nltk=True)"
      ],
      "execution_count": null,
      "outputs": [
        {
          "output_type": "execute_result",
          "data": {
            "text/plain": [
              "54.5"
            ]
          },
          "metadata": {
            "tags": []
          },
          "execution_count": 151
        }
      ]
    },
    {
      "cell_type": "code",
      "metadata": {
        "colab": {
          "base_uri": "https://localhost:8080/"
        },
        "id": "HWIRgvaD5pOd",
        "outputId": "7aa4878f-cd67-4d81-9d82-61fa8b32d607"
      },
      "source": [
        "get_accuracy('bert-base-uncased', BertTokenizer, BertModel,\n",
        "             nltk=False)"
      ],
      "execution_count": null,
      "outputs": [
        {
          "output_type": "execute_result",
          "data": {
            "text/plain": [
              "64.01"
            ]
          },
          "metadata": {
            "tags": []
          },
          "execution_count": 32
        }
      ]
    },
    {
      "cell_type": "markdown",
      "metadata": {
        "id": "fhr5u1MKkvyD"
      },
      "source": [
        "Несмотря на чуть-чуть лучший результат для обработанных текстов, показатель для необработанных на целых 1.5% уступает DistilBert. Буду считать, что DistilBert лучше, и использовать его дальше.\n",
        "\n",
        "Ниже я попробовал другой способ truncation при энкодинге для необработанных текстов, так как у них длина последовательности иногда превышает 512, но он показал такой же результат, что и дефолтный способ, поэтому не буду ничего менять."
      ]
    },
    {
      "cell_type": "code",
      "metadata": {
        "colab": {
          "base_uri": "https://localhost:8080/"
        },
        "id": "S1NtZvf-4dZR",
        "outputId": "10aa1dea-b95e-47cc-9bdb-06d5942956c4"
      },
      "source": [
        "get_accuracy('distilbert-base-uncased', DistilBertTokenizer, DistilBertModel,\n",
        "             nltk=False, truncation='only_first')"
      ],
      "execution_count": null,
      "outputs": [
        {
          "output_type": "execute_result",
          "data": {
            "text/plain": [
              "65.54"
            ]
          },
          "metadata": {
            "tags": []
          },
          "execution_count": 40
        }
      ]
    },
    {
      "cell_type": "markdown",
      "metadata": {
        "id": "f_kKgm8KlhY4"
      },
      "source": [
        "Далее я попробовал другие модели из библиотеки Transformers. Сначала я взял Roberta."
      ]
    },
    {
      "cell_type": "code",
      "metadata": {
        "id": "rps09G-Ozllb",
        "colab": {
          "base_uri": "https://localhost:8080/"
        },
        "outputId": "c8a23488-a083-4b80-ce4e-0ab7088632f8"
      },
      "source": [
        "get_accuracy('roberta-base', RobertaTokenizer, RobertaModel)"
      ],
      "execution_count": null,
      "outputs": [
        {
          "output_type": "execute_result",
          "data": {
            "text/plain": [
              "57.43"
            ]
          },
          "metadata": {
            "tags": []
          },
          "execution_count": 30
        }
      ]
    },
    {
      "cell_type": "code",
      "metadata": {
        "colab": {
          "base_uri": "https://localhost:8080/"
        },
        "id": "1mXfw_84qPFm",
        "outputId": "62577de4-59e1-4b52-b64f-37c4c17cc71c"
      },
      "source": [
        "get_accuracy('roberta-base', RobertaTokenizer, RobertaModel,\n",
        "             nltk=False)"
      ],
      "execution_count": null,
      "outputs": [
        {
          "output_type": "execute_result",
          "data": {
            "text/plain": [
              "61.47"
            ]
          },
          "metadata": {
            "tags": []
          },
          "execution_count": 18
        }
      ]
    },
    {
      "cell_type": "markdown",
      "metadata": {
        "id": "tTxUbEJ4lob9"
      },
      "source": [
        "На обработанных данных она показывает самые лучшие показатели из предыдущих моделей, но все равно проигрывает даже константе. А на необработанных она скорее ближе к константе, чем даже к fasttext, в отличие от предыдущих Bert'ов. Явно не очень хорошая модель."
      ]
    },
    {
      "cell_type": "markdown",
      "metadata": {
        "id": "vSF-g1LKl_NM"
      },
      "source": [
        "Далее я попробовал Longformer на необработанных данных, так как он позволяет обрабатывать более длинные последовательности. Я установил длину в 700, так как на большую не хватало памяти."
      ]
    },
    {
      "cell_type": "code",
      "metadata": {
        "id": "ddqU-oAgH5Xa",
        "colab": {
          "base_uri": "https://localhost:8080/"
        },
        "outputId": "77e72031-8cc3-4020-ef83-d8017312ba6f"
      },
      "source": [
        "get_accuracy('allenai/longformer-base-4096', LongformerTokenizer, LongformerModel,\n",
        "             nltk=False, max_length=700)"
      ],
      "execution_count": null,
      "outputs": [
        {
          "output_type": "execute_result",
          "data": {
            "text/plain": [
              "62.17"
            ]
          },
          "metadata": {
            "tags": []
          },
          "execution_count": 11
        }
      ]
    },
    {
      "cell_type": "markdown",
      "metadata": {
        "id": "CHf01LjemLQT"
      },
      "source": [
        "Лонгформер показал такой же результат как константная модель, хотя я ожидал, что он покажет лучшие результаты, так как сможет учитывать большие объемы текста. Тем не менее, большее количество информации лишь ухудшило качество модели. Возможно, из-за того, что в пассажах много лишнего текста, который отвлекает."
      ]
    },
    {
      "cell_type": "markdown",
      "metadata": {
        "id": "o7zT7Z38nAuA"
      },
      "source": [
        "Кроме того, я попробовал Bart от Facebook."
      ]
    },
    {
      "cell_type": "code",
      "metadata": {
        "id": "tHLKAGxcF-P9"
      },
      "source": [
        "from transformers import BartTokenizer, BartModel"
      ],
      "execution_count": null,
      "outputs": []
    },
    {
      "cell_type": "code",
      "metadata": {
        "colab": {
          "base_uri": "https://localhost:8080/",
          "height": 1000,
          "referenced_widgets": [
            "d293dee22b0447ae908953700d0e0d90",
            "8d86fb11ea16426fb2c7b2226253844c",
            "ea7f40bffdd64e0996ee16300636b40a",
            "5603b28c82634331921fd4064281d855",
            "ec47814ca71340eb97690b0d11ae032c",
            "8ba1849d8c674747be2a7441cf963f3a",
            "a766369a1a5d424cba7fec35416a1db8",
            "e0ea2f0922574599814b97c073e1fed3",
            "28ae8b47d1b9438eb467b6084f01036c",
            "0582b3e4528142cdb09f60ded2e04db7",
            "38d6b2df2310444c9469219086be13ed",
            "0669582b551348b4806120480b340183",
            "f8fbc887a54140ba81f9ada389bbfb61",
            "8a52a8e3a117418cbb4b9970ed044d37",
            "0a4e510c3fff47e3b27282974a19add5",
            "2abe38054a3b43708acd4755d100208e",
            "da8c19d1aaa74715b823e1667235b0d1",
            "9b620a0ba8b04b9a8f9e45964e3e8a00",
            "84619e47d9da46edb0738caa5fe65f28",
            "a2e8f2d8beb540b79c48c14f256b573d",
            "8a707019fdac4ff6be96433cc8ef1299",
            "c99fdd1dcd80405e8282487a04c0eaa8",
            "10dae954380e43c882edb6f2aa16d6a7",
            "d19eb1af767f4c0eba4460cb2a14eb57",
            "6949afa9dbda4ddd9a43329ee6e16857",
            "217771becd0740c4bcfc5b9adf0c6c04",
            "4834b71a7004435b93d94353441b518d",
            "3a630bbd2c144eb5a82f511654f270bb",
            "a9a257884d164d66afdf8017f7e7cc9c",
            "9a8fd1caa155450db0890e85427aa320",
            "b57f07f3a3a0462aa8ca73fcec310e22",
            "5e15bc51ac214803997b94bde8c508d1",
            "5f40a882a9d84cc38be1a7bdad8fc728",
            "6ba56e0c22434c20ab7788d8a5763b6a",
            "d2e993cb054e4f8f8f9d14003c3d5d6a",
            "74658b2a87df416ba48ca19349da9992",
            "9efd0ded66da4f6fac130113319f9c9f",
            "32b3872bfb1943bcbc83263180017169",
            "342371a46c5d41979e9e81800a99d321",
            "e259687088ae4f0181d1c440abe6fb13"
          ]
        },
        "id": "3r_ctV4hGKRB",
        "outputId": "edda1a17-dc73-423b-bf95-2cad9b5c4175"
      },
      "source": [
        "get_accuracy('facebook/bart-base', BartTokenizer, BartModel)"
      ],
      "execution_count": null,
      "outputs": [
        {
          "output_type": "execute_result",
          "data": {
            "text/plain": [
              "58.9"
            ]
          },
          "metadata": {
            "tags": []
          },
          "execution_count": 72
        }
      ]
    },
    {
      "cell_type": "code",
      "metadata": {
        "colab": {
          "base_uri": "https://localhost:8080/"
        },
        "id": "I8TjDyHaGiHr",
        "outputId": "37098258-dece-4f97-86b4-cf64f232e44d"
      },
      "source": [
        "get_accuracy('facebook/bart-base', BartTokenizer, BartModel,\n",
        "             nltk=False)"
      ],
      "execution_count": null,
      "outputs": [
        {
          "output_type": "execute_result",
          "data": {
            "text/plain": [
              "63.09"
            ]
          },
          "metadata": {
            "tags": []
          },
          "execution_count": 73
        }
      ]
    },
    {
      "cell_type": "markdown",
      "metadata": {
        "id": "e3CHzcGSnMG5"
      },
      "source": [
        "Модель показала на необработанных текстах результаты лучше, чем другие модели из transformers, но все равно результат хуже константы. На необработанных текстах результат чуть лучше константы, но слабее даже обычного Bert. Так что модель явно не справляется."
      ]
    },
    {
      "cell_type": "markdown",
      "metadata": {
        "id": "7qGoEaLhndmf"
      },
      "source": [
        "По итогу в такой постановке задачи DistilBert на необработанных данных - самый предпочтительный вариант, хотя он уступает решению с fasttext."
      ]
    },
    {
      "cell_type": "markdown",
      "metadata": {
        "id": "KUA5eGU0nnoi"
      },
      "source": [
        "Так как вопросы в датасете сумбурны, а их структура часто не отвечает какой-то постановке, то я предположу, что вопросы могут быть случайными по синтаксису, и модель надо готовить к этому. Поэтому я сделаю аугментацию, в которой буду делать shuffle слов в вопросе, чтобы модель не уклонялась в сторону той или иной структуры и искала нужный смысл в самом вопросе."
      ]
    },
    {
      "cell_type": "markdown",
      "metadata": {
        "id": "0KIRUROcoAs6"
      },
      "source": [
        "Для каждого вопроса я сделаю 3 дополнительные перестановки."
      ]
    },
    {
      "cell_type": "code",
      "metadata": {
        "id": "RpNNA2oWrUXI"
      },
      "source": [
        "import numpy as np\n",
        "import tqdm\n",
        "def get_emb_shuffle(text_series, tokenizer, model, batch_size=32,\n",
        "            truncation='longest_first',\n",
        "            padding='max_length',\n",
        "            max_length=512):\n",
        "  \n",
        "  text_series_padded = [tokenizer.encode(x,\n",
        "                        add_special_tokens=False) for x in text_series]\n",
        "\n",
        "  for _ in range(2):\n",
        "\n",
        "      text_series_shuffled = [list(np.random.permutation(x))\n",
        "                              for x in text_series_padded]\n",
        "\n",
        "      text_series_padded += text_series_shuffled\n",
        "\n",
        "\n",
        "  text_series_padded = [tokenizer.encode(tokenizer.decode(x),\n",
        "                        add_special_tokens=False,\n",
        "                        padding=padding,\n",
        "                        truncation=truncation,\n",
        "                        max_length=max_length) for x in text_series_padded]\n",
        "  \n",
        "  text_series_padded = np.array(text_series_padded, dtype=np.int64)\n",
        "  attention_mask = np.where(text_series_padded != 0, 1, 0)\n",
        "\n",
        "  model.eval()\n",
        "\n",
        "  device = torch.device('cuda' if torch.cuda.is_available() else 'cpu')\n",
        "  model = model.to(device)\n",
        "\n",
        "  output = []\n",
        "\n",
        "  print('start')\n",
        "\n",
        "  for idx in tqdm.tqdm(range(0, len(text_series_padded), batch_size)):\n",
        "\n",
        "    batch = torch.tensor(text_series_padded[idx:idx + batch_size]).to(device)\n",
        "    part_mask = torch.tensor(attention_mask[idx:idx + batch_size]).to(device)\n",
        "\n",
        "    with torch.no_grad():\n",
        "        release = model(batch, attention_mask=part_mask)\n",
        "        output.append(release.last_hidden_state[:, 0, :].cpu())\n",
        "    \n",
        "    del release, batch, part_mask\n",
        "    torch.cuda.empty_cache()\n",
        "\n",
        "  return torch.cat(output, dim=0)"
      ],
      "execution_count": 16,
      "outputs": []
    },
    {
      "cell_type": "code",
      "metadata": {
        "id": "0GnjWrECxUbK"
      },
      "source": [
        "from IPython.display import clear_output\n",
        "\n",
        "def get_emb(text_series, tokenizer, model, batch_size=32,\n",
        "            truncation='longest_first',\n",
        "            padding='max_length',\n",
        "            max_length=512):\n",
        "\n",
        "  text_series_padded = [tokenizer.encode(x,\n",
        "                      add_special_tokens=True,\n",
        "                      padding=padding,\n",
        "                      truncation=truncation,\n",
        "                      max_length=max_length) for x in text_series]\n",
        "\n",
        "  \n",
        "  text_series_padded = np.array(text_series_padded, dtype=np.int64)\n",
        "  attention_mask = np.where(text_series_padded != 0, 1, 0)\n",
        "\n",
        "  model.eval()\n",
        "\n",
        "  device = torch.device('cuda' if torch.cuda.is_available() else 'cpu')\n",
        "  model = model.to(device)\n",
        "\n",
        "  output = []\n",
        "\n",
        "  for idx in tqdm.tqdm(range(0, len(text_series_padded), batch_size)):\n",
        "\n",
        "    batch = torch.tensor(text_series_padded[idx:idx + batch_size]).to(device)\n",
        "    part_mask = torch.tensor(attention_mask[idx:idx + batch_size]).to(device)\n",
        "\n",
        "    with torch.no_grad():\n",
        "        release = model(batch, attention_mask=part_mask)\n",
        "        output.append(release.last_hidden_state[:, 0, :].cpu())\n",
        "    \n",
        "    del release, batch, part_mask\n",
        "    torch.cuda.empty_cache()\n",
        "\n",
        "  return torch.cat(output, dim=0).repeat(4, 1)"
      ],
      "execution_count": 17,
      "outputs": []
    },
    {
      "cell_type": "code",
      "metadata": {
        "id": "TjIXQJd4w0_h"
      },
      "source": [
        "def get_accuracy(pretrained_weights, tokenizer, model, nltk=True,\n",
        "                 truncation='longest_first',\n",
        "                 padding='max_length',\n",
        "                 max_length=512):\n",
        "\n",
        "    tokenizer = tokenizer.from_pretrained(pretrained_weights)\n",
        "    model = model.from_pretrained(pretrained_weights)\n",
        "\n",
        "    if nltk:\n",
        "    \n",
        "        train_question_emb = get_emb_shuffle(train_df.nltk_question, tokenizer, model, \n",
        "                                     batch_size=64)\n",
        "        train_passage_emb = get_emb(train_df.nltk_passage, tokenizer, model, \n",
        "                                    batch_size=32, truncation=truncation,\n",
        "                                     padding=padding, max_length=max_length)\n",
        "        \n",
        "    else:\n",
        "\n",
        "        train_question_emb = get_emb_shuffle(train_df.question, tokenizer, model, \n",
        "                                     batch_size=64)\n",
        "        train_passage_emb = get_emb(train_df.passage, tokenizer, model, \n",
        "                                    batch_size=32, truncation=truncation,\n",
        "                                     padding=padding, max_length=max_length)\n",
        "        \n",
        "    train_total_emb = torch.cat([train_question_emb, \n",
        "                                 train_passage_emb], dim=1).cpu().numpy()\n",
        "\n",
        "    logreg = LogisticRegression()\n",
        "    logreg.fit(train_total_emb, train_df.answer.tolist() * 4)\n",
        "\n",
        "    del train_question_emb, train_passage_emb, train_total_emb\n",
        "    gc.collect()\n",
        "\n",
        "    if nltk:\n",
        "\n",
        "        dev_question_emb = get_emb_shuffle(dev_df.nltk_question, tokenizer, model,\n",
        "                                   batch_size=64)\n",
        "        dev_passage_emb = get_emb(dev_df.nltk_passage, tokenizer, model,\n",
        "                                  batch_size=32, truncation=truncation,\n",
        "                                     padding=padding, max_length=max_length)\n",
        "\n",
        "    else:\n",
        "\n",
        "        dev_question_emb = get_emb_shuffle(dev_df.question, tokenizer, model,\n",
        "                                   batch_size=64)\n",
        "        dev_passage_emb = get_emb(dev_df.passage, tokenizer, model,\n",
        "                                  batch_size=32, truncation=truncation,\n",
        "                                     padding=padding, max_length=max_length)\n",
        "    \n",
        "    dev_total_emb = torch.cat([dev_question_emb, \n",
        "                               dev_passage_emb], dim=1).cpu().numpy()\n",
        "\n",
        "    y_pred = logreg.predict(dev_total_emb)\n",
        "    ans = round(accuracy_score(y_pred, dev_df.answer.tolist() * 4) * 100, 2)\n",
        "\n",
        "    del dev_question_emb, dev_passage_emb, dev_total_emb\n",
        "    gc.collect()\n",
        "\n",
        "    clear_output()\n",
        "\n",
        "    return ans"
      ],
      "execution_count": 18,
      "outputs": []
    },
    {
      "cell_type": "markdown",
      "metadata": {
        "id": "soPSBD-loEzI"
      },
      "source": [
        "Использовать буду DistilBert, так как он лучше всего себя показал раньше."
      ]
    },
    {
      "cell_type": "code",
      "metadata": {
        "colab": {
          "base_uri": "https://localhost:8080/"
        },
        "id": "WLiXzyeF_3RZ",
        "outputId": "8fac302f-34e5-40c1-9ede-92c268cba2f8"
      },
      "source": [
        "get_accuracy('distilbert-base-uncased', DistilBertTokenizer, DistilBertModel,\n",
        "             nltk=True)"
      ],
      "execution_count": null,
      "outputs": [
        {
          "output_type": "execute_result",
          "data": {
            "text/plain": [
              "55.04"
            ]
          },
          "metadata": {
            "tags": []
          },
          "execution_count": 66
        }
      ]
    },
    {
      "cell_type": "code",
      "metadata": {
        "colab": {
          "base_uri": "https://localhost:8080/"
        },
        "id": "T4es45umtzZK",
        "outputId": "7c744341-56a3-407a-bed2-a69ecd66c27e"
      },
      "source": [
        "get_accuracy('distilbert-base-uncased', DistilBertTokenizer, DistilBertModel,\n",
        "             nltk=False)"
      ],
      "execution_count": null,
      "outputs": [
        {
          "output_type": "execute_result",
          "data": {
            "text/plain": [
              "64.23"
            ]
          },
          "metadata": {
            "tags": []
          },
          "execution_count": 65
        }
      ]
    },
    {
      "cell_type": "markdown",
      "metadata": {
        "id": "qCT9f8aNoJZO"
      },
      "source": [
        "Результаты этой модели лучше Bert'а. На обработанных данных модель лучше обычного DistilBert, но на обработанных данных такие модели очень плохи сами по себе, а на необработанных чуть хуже, чем DistilBert. Это говорит, что такая аугментация не принесла пользы."
      ]
    },
    {
      "cell_type": "markdown",
      "metadata": {
        "id": "M80qabv9ofbc"
      },
      "source": [
        "Дальше я попробую поработать с начальными словами и добавить немного шума. Вопросы в датасете не обязательно начинаются с тех слов, которые указывают авторы. Поэтому я в одном случае от них избавлюсь. Во втором случае я добавлю незначимые фразы типа \"true of false\" или \"ok google\", которые используются в начале запроса, но не несут информации. В третьем случае я добавлю к началу вопроса случайное слово из различных вопросительных местоимений типа \"когда\" или \"где\", которые могут вводить модель в заблуждение, если бы она привыкала к какой-нибудь стандартной структуре вопроса \"да или нет\". Таким обазом, я опять получаю 4 вариации вопроса, включая исходную.\n",
        "\n",
        "Я буду опять использовать DistilBert по тем же причинам."
      ]
    },
    {
      "cell_type": "code",
      "metadata": {
        "id": "eCmdP9o2PVgI"
      },
      "source": [
        "import random\n",
        "def get_emb_shuffle(text_series, tokenizer, model, batch_size=32,\n",
        "            truncation='longest_first',\n",
        "            padding='max_length',\n",
        "            max_length=512):\n",
        "  \n",
        "  start_words = [\"did\", \"do\", \"does\", \"is\", \"are\", \"was\", \"were\", \n",
        "                         \"have\", \"has\", \"can\", \"could\", \"will\", \"would\"]\n",
        "  bad_words = ['if', 'what', 'where', 'when', 'why', 'really', 'how']\n",
        "  \n",
        "  text_series = text_series.tolist()\n",
        "  text_series_denoised = [' '.join(x.split()[1:])\n",
        "                        if x.split()[0] in start_words\n",
        "                        else x\n",
        "                        for x in text_series]\n",
        "  text_series_added = ['ok google ' + x + ' true or false'\n",
        "                        if 'ok google' not in x and 'true or false' not in x\n",
        "                        else ('ok google ' + x\n",
        "                              if 'ok google' not in x\n",
        "                              else ('true or false ' + x\n",
        "                                    if 'true or false' not in x\n",
        "                                    else x))\n",
        "                        for x in text_series]\n",
        "\n",
        "  text_series_quested = [random.choice(bad_words) + ' ' + x\n",
        "                         for x in text_series_denoised]\n",
        "\n",
        "  text_series += text_series_denoised + text_series_added + text_series_quested\n",
        "\n",
        "  text_series_padded = [tokenizer.encode(x,\n",
        "                      add_special_tokens=True,\n",
        "                      padding=padding,\n",
        "                      truncation=truncation,\n",
        "                      max_length=max_length) for x in text_series]\n",
        "\n",
        "  \n",
        "  text_series_padded = np.array(text_series_padded, dtype=np.int64)\n",
        "  attention_mask = np.where(text_series_padded != 0, 1, 0)\n",
        "\n",
        "  model.eval()\n",
        "\n",
        "  device = torch.device('cuda' if torch.cuda.is_available() else 'cpu')\n",
        "  model = model.to(device)\n",
        "\n",
        "  output = []\n",
        "\n",
        "  for idx in tqdm.tqdm(range(0, len(text_series_padded), batch_size)):\n",
        "\n",
        "    batch = torch.tensor(text_series_padded[idx:idx + batch_size]).to(device)\n",
        "    part_mask = torch.tensor(attention_mask[idx:idx + batch_size]).to(device)\n",
        "\n",
        "    with torch.no_grad():\n",
        "        release = model(batch, attention_mask=part_mask)\n",
        "        output.append(release.last_hidden_state[:, 0, :].cpu())\n",
        "    \n",
        "    del release, batch, part_mask\n",
        "    torch.cuda.empty_cache()\n",
        "\n",
        "  return torch.cat(output, dim=0)"
      ],
      "execution_count": 19,
      "outputs": []
    },
    {
      "cell_type": "code",
      "metadata": {
        "colab": {
          "base_uri": "https://localhost:8080/"
        },
        "id": "-MF1vwJYVqX1",
        "outputId": "85e62651-34c3-46e3-b207-a0957d6bbc72"
      },
      "source": [
        "get_accuracy('distilbert-base-uncased', DistilBertTokenizer, DistilBertModel,\n",
        "             nltk=True)"
      ],
      "execution_count": null,
      "outputs": [
        {
          "output_type": "execute_result",
          "data": {
            "text/plain": [
              "54.51"
            ]
          },
          "metadata": {
            "tags": []
          },
          "execution_count": 78
        }
      ]
    },
    {
      "cell_type": "code",
      "metadata": {
        "colab": {
          "base_uri": "https://localhost:8080/"
        },
        "id": "R_qPC8edVswN",
        "outputId": "b36682b4-4843-48d6-dfde-284cdb5b6ccb"
      },
      "source": [
        "get_accuracy('distilbert-base-uncased', DistilBertTokenizer, DistilBertModel,\n",
        "             nltk=False)"
      ],
      "execution_count": null,
      "outputs": [
        {
          "output_type": "execute_result",
          "data": {
            "text/plain": [
              "65.56"
            ]
          },
          "metadata": {
            "tags": []
          },
          "execution_count": 79
        }
      ]
    },
    {
      "cell_type": "markdown",
      "metadata": {
        "id": "luV8uESwphtS"
      },
      "source": [
        "Эта модель почти не отличается от модели с DistilBert без аугментаций, поэтому пользы от нее нет.\n",
        "\n",
        "Значит, использование рассмотренных моделей и аугментаций не помогает, и мы к ним не будем возвращаться."
      ]
    },
    {
      "cell_type": "markdown",
      "metadata": {
        "id": "LqwOK5ukKOpa"
      },
      "source": [
        "## Подход 4. BERT на конкатенации векторов вопроса и предложения"
      ]
    },
    {
      "cell_type": "markdown",
      "metadata": {
        "id": "x_TT1Zi6p-Wb"
      },
      "source": [
        "Я возьму обычный Bert, добавлю к нему головы, потом на выходе сделаю линейный слой, который будет выдавать один логит, который будет отвечать за ответ на вопрос."
      ]
    },
    {
      "cell_type": "code",
      "metadata": {
        "id": "Vh2NpUQVhr2O"
      },
      "source": [
        "import torch.nn as nn"
      ],
      "execution_count": 20,
      "outputs": []
    },
    {
      "cell_type": "code",
      "metadata": {
        "id": "ilfh77DGhpL8"
      },
      "source": [
        "class Identity(nn.Module):\n",
        "    def __init__(self):\n",
        "        super(Identity, self).__init__()\n",
        "        \n",
        "    def forward(self, x):\n",
        "        return x"
      ],
      "execution_count": 21,
      "outputs": []
    },
    {
      "cell_type": "code",
      "metadata": {
        "id": "VJcLz0c-iUQK"
      },
      "source": [
        "from transformers.models.distilbert.modeling_distilbert import Transformer\n",
        "from transformers import BertConfig, DistilBertConfig"
      ],
      "execution_count": 22,
      "outputs": []
    },
    {
      "cell_type": "code",
      "metadata": {
        "id": "CVJOY6JRwLj1"
      },
      "source": [
        "from torch.utils.data import Dataset\n",
        "class CustomDataset(Dataset):\n",
        "    def __init__(self, df, tokenizer, truncation='longest_first'):\n",
        "\n",
        "        self.X = torch.tensor([tokenizer.encode(question + ' [SEP] ' + passage,\n",
        "                              add_special_tokens=True,\n",
        "                              padding='max_length',\n",
        "                              truncation=truncation,\n",
        "                              max_length=512)\n",
        "                              for question, passage in zip(df.question.values,\n",
        "                                                          df.passage.values)],\n",
        "                              dtype=torch.int64)\n",
        "\n",
        "        self.y = torch.tensor(df.answer.values, dtype=torch.float32)\n",
        "\n",
        "        return\n",
        "\n",
        "    def __len__(self):\n",
        "        return len(self.X)\n",
        "\n",
        "    def __getitem__(self, idx):\n",
        "        \n",
        "        return self.X[idx], self.y[idx]"
      ],
      "execution_count": 23,
      "outputs": []
    },
    {
      "cell_type": "code",
      "metadata": {
        "id": "vzuKyRWPkWmh"
      },
      "source": [
        "class QuestAnsweringDistilBERT(nn.Module):\n",
        "\n",
        "  def __init__(self, bert, config, freeze_type, n_layers=2,\n",
        "               hidden_dim=3072, dim=768):\n",
        "    \n",
        "        super(QuestAnsweringDistilBERT, self).__init__()\n",
        "               \n",
        "        self.bert = bert\n",
        "        self.config = config\n",
        "        self.config.n_layers = n_layers\n",
        "        self.config.hidden_dim = hidden_dim\n",
        "        self.config.dim = dim\n",
        "\n",
        "        self.heads = Transformer(self.config)\n",
        "        self.dense = nn.Linear(self.config.dim * self.config.max_position_embeddings,\n",
        "                               1)\n",
        "\n",
        "        if freeze_type == 'all':\n",
        "\n",
        "          for param in self.bert.parameters():\n",
        "            param.requires_grad = False\n",
        "\n",
        "        elif freeze_type in ('emb', 'part'):\n",
        "          \n",
        "          for param in self.bert.embeddings.parameters():\n",
        "            param.requires_grad = False\n",
        "\n",
        "  def forward(self, x):\n",
        "\n",
        "        part_mask = torch.where(x != 0, 1, 0)\n",
        "\n",
        "        x = self.bert(x, attention_mask=part_mask).last_hidden_state\n",
        "        \n",
        "        head_mask = torch.ones((self.config.n_layers,))\n",
        "        x = self.heads(x, attn_mask=part_mask, head_mask=head_mask)[0]\n",
        "        x = self.dense(x.flatten(start_dim=1))\n",
        "        return x.flatten()"
      ],
      "execution_count": 24,
      "outputs": []
    },
    {
      "cell_type": "code",
      "metadata": {
        "id": "4RkUP2xn3qlh"
      },
      "source": [
        "import numpy as np\n",
        "import torch.optim as optim\n",
        "import torch.utils.data as data_utils\n",
        "import gc\n",
        "\n",
        "def accuracy(y_pred, y_true):\n",
        "  y_pred = y_pred.cpu().numpy()\n",
        "  y_true = y_true.cpu().numpy()\n",
        "\n",
        "  return (y_true == y_pred).mean()\n",
        "\n",
        "class Model_Pipe:\n",
        "    def __init__(self, train_dataset, valid_dataset, test_dataset,\n",
        "                 model, hyperparams, freeze_type, name):\n",
        "      \n",
        "        self.device = torch.device('cuda' if torch.cuda.is_available() else 'cpu')\n",
        "      \n",
        "        self.step = 0\n",
        "        self.name = name\n",
        "        self.hyperparams = hyperparams\n",
        "\n",
        "        self.train_dataset = train_dataset\n",
        "        self.train_loader = data_utils.DataLoader(dataset=self.train_dataset,\n",
        "                                                  batch_size=self.hyperparams['batch_size'],\n",
        "                                                  shuffle=True)\n",
        "        self.valid_dataset = valid_dataset\n",
        "        self.valid_loader = data_utils.DataLoader(dataset=self.valid_dataset,\n",
        "                                                  batch_size=self.hyperparams['batch_size'],\n",
        "                                                  shuffle=True)\n",
        "        \n",
        "        self.test_dataset = test_dataset\n",
        "        self.test_loader = data_utils.DataLoader(dataset=self.test_dataset,\n",
        "                                                  batch_size=self.hyperparams['batch_size'],\n",
        "                                                  shuffle=True)\n",
        "\n",
        "        self.hyperparams\n",
        "                       \n",
        "        self.network = model.to(self.device)\n",
        "\n",
        "        self.loss = nn.BCEWithLogitsLoss()\n",
        "        self.optimizer = optim.Adam(self.network.parameters(),\n",
        "                                    lr=self.hyperparams['lr'])\n",
        "        self.accuracy = accuracy\n",
        "\n",
        "        self.freeze_type = freeze_type\n",
        "\n",
        "        return\n",
        "\n",
        "    def run_train(self, clip=2):\n",
        "\n",
        "        train_loss = []\n",
        "        train_acc = []\n",
        "        val_loss = []\n",
        "        val_acc = []\n",
        "\n",
        "        best_val_loss = np.inf\n",
        "        epoch_wo_imporve = 0\n",
        "\n",
        "        for epoch in range(self.hyperparams['epochs']):\n",
        "\n",
        "            if self.freeze_type == 'part' and epoch >= 3:\n",
        "\n",
        "               for param in self.network.bert.parameters():\n",
        "                  param.requires_grad = True\n",
        "            \n",
        "            self.network.train()\n",
        "\n",
        "            for features, label in self.train_loader:\n",
        "\n",
        "                features = features.to(self.device)\n",
        "                label = label.to(self.device)\n",
        "              \n",
        "                # Reset gradients\n",
        "                self.optimizer.zero_grad()\n",
        "                \n",
        "                output = self.network(features)\n",
        "                # Calculate error and backpropagate\n",
        "                loss = self.loss(output, label)\n",
        "\n",
        "                output = (torch.sigmoid(output) > 0.5).double()\n",
        "                label = label.double()\n",
        "\n",
        "                loss.backward()\n",
        "\n",
        "                torch.nn.utils.clip_grad_norm_(self.network.heads.parameters(),\n",
        "                                               max_norm=clip)\n",
        "\n",
        "                acc = self.accuracy(output, label)\n",
        "\n",
        "                train_loss.append(loss.item())\n",
        "                train_acc.append(acc)\n",
        "\n",
        "                # Update weights with gradients\n",
        "                self.optimizer.step()\n",
        "\n",
        "                del output, features, label\n",
        "                gc.collect()\n",
        "                torch.cuda.empty_cache()\n",
        "                \n",
        "                self.step += 1\n",
        "\n",
        "                if self.step % 50 == 0:\n",
        "                    print('EPOCH %d STEP %d : train_loss: %f train_acc: %f' %\n",
        "                          (epoch, self.step, loss.item(), acc))\n",
        "            \n",
        "            # Run validation\n",
        "            self.network.eval()\n",
        "            \n",
        "            y_true = torch.Tensor().to(self.device)\n",
        "            y_pred = torch.Tensor().to(self.device)\n",
        "\n",
        "            current_loss = []\n",
        "\n",
        "            for features, label in self.valid_loader:\n",
        "\n",
        "                features = features.to(self.device)\n",
        "                label = label.to(self.device)\n",
        "\n",
        "                output = self.network(features)\n",
        "\n",
        "                loss = self.loss(output, label)\n",
        "\n",
        "                output = (torch.sigmoid(output) > 0.5).double()\n",
        "                label = label.double()\n",
        "\n",
        "                current_loss.append(loss.item())\n",
        "                \n",
        "                y_true = torch.cat([y_true, label.flatten()])\n",
        "                y_pred = torch.cat([y_pred, output.flatten()])\n",
        "\n",
        "                del output, features, label\n",
        "                gc.collect()\n",
        "                torch.cuda.empty_cache()\n",
        "                                \n",
        "            acc = self.accuracy(y_pred, y_true)\n",
        "            val_acc.append(acc)\n",
        "            current_loss = np.mean(current_loss)\n",
        "            val_loss.append(np.mean(current_loss))\n",
        "\n",
        "            print('EPOCH %d : valid_acc: %f' % (epoch, acc))\n",
        "\n",
        "            if current_loss < best_val_loss:\n",
        "              best_val_loss = current_loss\n",
        "              torch.save(self.network.state_dict(),\n",
        "                         self.name + '_best-val-model.pt')\n",
        "              epoch_wo_imporve = 0\n",
        "            else:\n",
        "              epoch_wo_imporve += 1\n",
        "\n",
        "            if epoch_wo_imporve == 4:\n",
        "              return train_loss, train_acc, val_loss, val_acc\n",
        "      \n",
        "        return train_loss, train_acc, val_loss, val_acc\n",
        "\n",
        "\n",
        "    def test(self):\n",
        "\n",
        "        self.network.load_state_dict(torch.load('/content/' + \\\n",
        "                                                self.name + '_best-val-model.pt'))\n",
        "\n",
        "        self.network.eval()\n",
        "        \n",
        "        y_true = torch.Tensor().to(self.device)\n",
        "        y_pred = torch.Tensor().to(self.device)\n",
        "\n",
        "        for features, label in self.test_loader:\n",
        "\n",
        "            features = features.to(self.device)\n",
        "            label = label.to(self.device)\n",
        "\n",
        "            output = self.network(features)\n",
        "\n",
        "            output = (torch.sigmoid(output) > 0.5).double()\n",
        "            label = label.double()\n",
        "            \n",
        "            y_true = torch.cat([y_true, label.flatten()])\n",
        "            y_pred = torch.cat([y_pred, output.flatten()])\n",
        "                            \n",
        "        acc = self.accuracy(y_pred, y_true)\n",
        "\n",
        "        return acc\n",
        "\n"
      ],
      "execution_count": 25,
      "outputs": []
    },
    {
      "cell_type": "code",
      "metadata": {
        "id": "oKPdomJNVvgE"
      },
      "source": [
        "import matplotlib.pyplot as plt\n",
        "%matplotlib inline\n",
        "\n",
        "def draw(history):\n",
        "  \n",
        "  fig, ax = plt.subplots(nrows=2, ncols=2, figsize=(12, 10))\n",
        "\n",
        "  ax[0, 0].plot(history[0])\n",
        "  ax[0, 0].set_xlabel('Batch')\n",
        "  ax[0, 0].set_title('Train loss')\n",
        "\n",
        "  ax[0, 1].plot(history[2])\n",
        "  ax[0, 1].set_xlabel('Batch')\n",
        "  ax[0, 1].set_title('Valid loss')\n",
        "\n",
        "  ax[1, 0].plot(history[1])\n",
        "  ax[1, 0].set_xlabel('Batch')\n",
        "  ax[1, 0].set_title('Train Acc')\n",
        "\n",
        "  ax[1, 1].plot(history[3])\n",
        "  ax[1, 1].set_xlabel('Batch')\n",
        "  ax[1, 1].set_title('Valid Acc')\n",
        "\n",
        "  plt.show()"
      ],
      "execution_count": 26,
      "outputs": []
    },
    {
      "cell_type": "code",
      "metadata": {
        "id": "LeJYuKTdzUOC"
      },
      "source": [
        "tokenizer = DistilBertTokenizer.from_pretrained('distilbert-base-uncased')\n",
        "train_dataset = CustomDataset(train_df, tokenizer)\n",
        "valid_dataset = CustomDataset(val_df, tokenizer)\n",
        "dev_dataset = CustomDataset(dev_df, tokenizer)"
      ],
      "execution_count": 29,
      "outputs": []
    },
    {
      "cell_type": "code",
      "metadata": {
        "id": "uTvCJyPH_ZMH"
      },
      "source": [
        "bert = DistilBertModel.from_pretrained('distilbert-base-uncased')\n",
        "config = DistilBertConfig()\n",
        "hyperparams = {'lr': 1e-4, 'batch_size': 32, 'epochs': 10}"
      ],
      "execution_count": null,
      "outputs": []
    },
    {
      "cell_type": "code",
      "metadata": {
        "id": "q5OIE4qtzYEv"
      },
      "source": [
        "freeze_type = 'all'\n",
        "model = QuestAnsweringDistilBERT(bert, config, freeze_type, n_layers=1,\n",
        "                                 hidden_dim=384, dim=768)"
      ],
      "execution_count": null,
      "outputs": []
    },
    {
      "cell_type": "markdown",
      "metadata": {
        "id": "ShukZqpxqDEi"
      },
      "source": [
        "Я беру DistilBert, так как он показал себя лучше других в прошлый раз.\n",
        "\n",
        "У меня получилось сделать больше 1 головы, так как не хватает памяти в GPU. Сначала я пробую скрытый слой новой головы в 384 и замораживаю весь Bert до нее."
      ]
    },
    {
      "cell_type": "code",
      "metadata": {
        "colab": {
          "base_uri": "https://localhost:8080/"
        },
        "id": "VAC6QF_x3pev",
        "outputId": "ffba3394-3d4d-4f62-a30f-0de477c134e7"
      },
      "source": [
        "model_pipe = Model_Pipe(train_dataset, valid_dataset, dev_dataset,\n",
        "                        model, hyperparams, freeze_type,\n",
        "                        'all_frozen_1_head_hid_384_distilbert')\n",
        "history = model_pipe.run_train()"
      ],
      "execution_count": null,
      "outputs": [
        {
          "output_type": "stream",
          "text": [
            "EPOCH 0 STEP 50 : train_loss: 1.051215 train_acc: 0.562500\n",
            "EPOCH 0 STEP 100 : train_loss: 0.795125 train_acc: 0.687500\n",
            "EPOCH 0 STEP 150 : train_loss: 1.009802 train_acc: 0.375000\n",
            "EPOCH 0 STEP 200 : train_loss: 1.313707 train_acc: 0.375000\n",
            "EPOCH 0 : valid_acc: 0.586207\n",
            "EPOCH 1 STEP 250 : train_loss: 0.618781 train_acc: 0.656250\n",
            "EPOCH 1 STEP 300 : train_loss: 0.690353 train_acc: 0.656250\n",
            "EPOCH 1 STEP 350 : train_loss: 0.381942 train_acc: 0.843750\n",
            "EPOCH 1 STEP 400 : train_loss: 0.532529 train_acc: 0.750000\n",
            "EPOCH 1 STEP 450 : train_loss: 0.374603 train_acc: 0.812500\n",
            "EPOCH 1 : valid_acc: 0.615915\n",
            "EPOCH 2 STEP 500 : train_loss: 0.220432 train_acc: 0.937500\n",
            "EPOCH 2 STEP 550 : train_loss: 0.309449 train_acc: 0.843750\n",
            "EPOCH 2 STEP 600 : train_loss: 0.182342 train_acc: 1.000000\n",
            "EPOCH 2 STEP 650 : train_loss: 0.236661 train_acc: 0.906250\n",
            "EPOCH 2 STEP 700 : train_loss: 0.348495 train_acc: 0.875000\n",
            "EPOCH 2 : valid_acc: 0.602653\n",
            "EPOCH 3 STEP 750 : train_loss: 0.120081 train_acc: 0.968750\n",
            "EPOCH 3 STEP 800 : train_loss: 0.142412 train_acc: 0.937500\n",
            "EPOCH 3 STEP 850 : train_loss: 0.160843 train_acc: 1.000000\n",
            "EPOCH 3 STEP 900 : train_loss: 0.408485 train_acc: 0.781250\n",
            "EPOCH 3 : valid_acc: 0.609549\n",
            "EPOCH 4 STEP 950 : train_loss: 0.100940 train_acc: 0.968750\n",
            "EPOCH 4 STEP 1000 : train_loss: 0.073122 train_acc: 1.000000\n",
            "EPOCH 4 STEP 1050 : train_loss: 0.138952 train_acc: 0.968750\n",
            "EPOCH 4 STEP 1100 : train_loss: 0.398709 train_acc: 0.843750\n",
            "EPOCH 4 STEP 1150 : train_loss: 0.265042 train_acc: 0.937500\n",
            "EPOCH 4 : valid_acc: 0.626525\n"
          ],
          "name": "stdout"
        }
      ]
    },
    {
      "cell_type": "code",
      "metadata": {
        "colab": {
          "base_uri": "https://localhost:8080/",
          "height": 638
        },
        "id": "UKe0uoy2W-kE",
        "outputId": "47693ae7-f7d5-43b3-feb5-7baf5d60672a"
      },
      "source": [
        "print(round(model_pipe.test(), 2))\n",
        "draw(history)"
      ],
      "execution_count": null,
      "outputs": [
        {
          "output_type": "stream",
          "text": [
            "0.6\n"
          ],
          "name": "stdout"
        },
        {
          "output_type": "display_data",
          "data": {
            "image/png": "[encoded data removed]",
            "text/plain": [
              "<Figure size 864x720 with 4 Axes>"
            ]
          },
          "metadata": {
            "tags": [],
            "needs_background": "light"
          }
        }
      ]
    },
    {
      "cell_type": "markdown",
      "metadata": {
        "id": "YV-Te15nqXaK"
      },
      "source": [
        "Модель явно переобучается, так как при отличных результатах на трейне у нее  нет улучшений на валидации. На тесте она показывает результаты хуже, чем константа."
      ]
    },
    {
      "cell_type": "markdown",
      "metadata": {
        "id": "kQdCZR54qhb2"
      },
      "source": [
        "Увеличу размер скрытого слоя до 768."
      ]
    },
    {
      "cell_type": "code",
      "metadata": {
        "colab": {
          "base_uri": "https://localhost:8080/"
        },
        "id": "PevTzNsdrYpc",
        "outputId": "1b2e1be6-6d16-4652-d03f-59a4d464dde3"
      },
      "source": [
        "freeze_type = 'all'\n",
        "model = QuestAnsweringDistilBERT(bert, config, freeze_type, n_layers=1,\n",
        "                                 hidden_dim=768, dim=768)\n",
        "model_pipe = Model_Pipe(train_dataset, valid_dataset, dev_dataset,\n",
        "                        model, hyperparams, freeze_type,\n",
        "                        'all_frozen_1_head_hid_768_distilbert')\n",
        "history = model_pipe.run_train()"
      ],
      "execution_count": null,
      "outputs": [
        {
          "output_type": "stream",
          "text": [
            "EPOCH 0 STEP 50 : train_loss: 0.981272 train_acc: 0.500000\n",
            "EPOCH 0 STEP 100 : train_loss: 1.439878 train_acc: 0.593750\n",
            "EPOCH 0 STEP 150 : train_loss: 0.962488 train_acc: 0.562500\n",
            "EPOCH 0 STEP 200 : train_loss: 0.958604 train_acc: 0.468750\n",
            "EPOCH 0 : valid_acc: 0.641910\n",
            "EPOCH 1 STEP 250 : train_loss: 0.395958 train_acc: 0.812500\n",
            "EPOCH 1 STEP 300 : train_loss: 0.435004 train_acc: 0.812500\n",
            "EPOCH 1 STEP 350 : train_loss: 0.556021 train_acc: 0.750000\n",
            "EPOCH 1 STEP 400 : train_loss: 0.527333 train_acc: 0.718750\n",
            "EPOCH 1 STEP 450 : train_loss: 0.453423 train_acc: 0.718750\n",
            "EPOCH 1 : valid_acc: 0.594164\n",
            "EPOCH 2 STEP 500 : train_loss: 0.241298 train_acc: 0.906250\n",
            "EPOCH 2 STEP 550 : train_loss: 0.253658 train_acc: 0.843750\n",
            "EPOCH 2 STEP 600 : train_loss: 0.222544 train_acc: 0.906250\n",
            "EPOCH 2 STEP 650 : train_loss: 0.211816 train_acc: 0.937500\n",
            "EPOCH 2 STEP 700 : train_loss: 0.285425 train_acc: 0.875000\n",
            "EPOCH 2 : valid_acc: 0.631830\n",
            "EPOCH 3 STEP 750 : train_loss: 0.172936 train_acc: 0.968750\n",
            "EPOCH 3 STEP 800 : train_loss: 0.139697 train_acc: 0.937500\n",
            "EPOCH 3 STEP 850 : train_loss: 0.214944 train_acc: 0.937500\n",
            "EPOCH 3 STEP 900 : train_loss: 0.222597 train_acc: 0.906250\n",
            "EPOCH 3 : valid_acc: 0.615915\n",
            "EPOCH 4 STEP 950 : train_loss: 0.083524 train_acc: 0.968750\n",
            "EPOCH 4 STEP 1000 : train_loss: 0.086105 train_acc: 0.968750\n",
            "EPOCH 4 STEP 1050 : train_loss: 0.127060 train_acc: 0.937500\n",
            "EPOCH 4 STEP 1100 : train_loss: 0.347963 train_acc: 0.937500\n",
            "EPOCH 4 STEP 1150 : train_loss: 0.364575 train_acc: 0.812500\n",
            "EPOCH 4 : valid_acc: 0.643501\n",
            "EPOCH 5 STEP 1200 : train_loss: 0.060906 train_acc: 1.000000\n",
            "EPOCH 5 STEP 1250 : train_loss: 0.090876 train_acc: 0.968750\n",
            "EPOCH 5 STEP 1300 : train_loss: 0.107241 train_acc: 0.968750\n",
            "EPOCH 5 STEP 1350 : train_loss: 0.030666 train_acc: 1.000000\n",
            "EPOCH 5 STEP 1400 : train_loss: 0.043029 train_acc: 1.000000\n",
            "EPOCH 5 : valid_acc: 0.607958\n"
          ],
          "name": "stdout"
        }
      ]
    },
    {
      "cell_type": "code",
      "metadata": {
        "colab": {
          "base_uri": "https://localhost:8080/",
          "height": 638
        },
        "id": "lO3Zq1y9wbhW",
        "outputId": "53167d05-7f9f-4aef-eccc-1290c5cee2e7"
      },
      "source": [
        "print(round(model_pipe.test(), 2))\n",
        "draw(history)"
      ],
      "execution_count": null,
      "outputs": [
        {
          "output_type": "stream",
          "text": [
            "0.6\n"
          ],
          "name": "stdout"
        },
        {
          "output_type": "display_data",
          "data": {
            "image/png": "[encoded data removed]",
            "text/plain": [
              "<Figure size 864x720 with 4 Axes>"
            ]
          },
          "metadata": {
            "tags": [],
            "needs_background": "light"
          }
        }
      ]
    },
    {
      "cell_type": "markdown",
      "metadata": {
        "id": "ZVLOqNU3qkiB"
      },
      "source": [
        "Это не принесло дивидендов, так как у модели такие же проблемы, она показывает такой же плохой результат, но более тяжелая. Не будем трогать эту модификацию."
      ]
    },
    {
      "cell_type": "markdown",
      "metadata": {
        "id": "rLdaUUAOqvT2"
      },
      "source": [
        "Теперь посмотрю 2 головы со скрытыми слоями в 384."
      ]
    },
    {
      "cell_type": "code",
      "metadata": {
        "colab": {
          "base_uri": "https://localhost:8080/"
        },
        "id": "HfbjMgdTwxcm",
        "outputId": "61a795b5-d667-4e36-fcbd-fec5ff399ce9"
      },
      "source": [
        "freeze_type = 'all'\n",
        "model = QuestAnsweringDistilBERT(bert, config, freeze_type, n_layers=2,\n",
        "                                 hidden_dim=384, dim=768)\n",
        "model_pipe = Model_Pipe(train_dataset, valid_dataset, dev_dataset,\n",
        "                        model, hyperparams, freeze_type,\n",
        "                        'all_frozen_2_heads_hid_384_distilbert')\n",
        "history = model_pipe.run_train()"
      ],
      "execution_count": null,
      "outputs": [
        {
          "output_type": "stream",
          "text": [
            "EPOCH 0 STEP 50 : train_loss: 1.097728 train_acc: 0.656250\n",
            "EPOCH 0 STEP 100 : train_loss: 0.756838 train_acc: 0.593750\n",
            "EPOCH 0 STEP 150 : train_loss: 0.957619 train_acc: 0.625000\n",
            "EPOCH 0 STEP 200 : train_loss: 1.666946 train_acc: 0.562500\n",
            "EPOCH 0 : valid_acc: 0.540053\n",
            "EPOCH 1 STEP 250 : train_loss: 0.609427 train_acc: 0.625000\n",
            "EPOCH 1 STEP 300 : train_loss: 0.595713 train_acc: 0.656250\n",
            "EPOCH 1 STEP 350 : train_loss: 0.525122 train_acc: 0.750000\n",
            "EPOCH 1 STEP 400 : train_loss: 0.527835 train_acc: 0.687500\n",
            "EPOCH 1 STEP 450 : train_loss: 0.735043 train_acc: 0.562500\n",
            "EPOCH 1 : valid_acc: 0.590451\n",
            "EPOCH 2 STEP 500 : train_loss: 0.400389 train_acc: 0.781250\n",
            "EPOCH 2 STEP 550 : train_loss: 0.387237 train_acc: 0.875000\n",
            "EPOCH 2 STEP 600 : train_loss: 0.518060 train_acc: 0.718750\n",
            "EPOCH 2 STEP 650 : train_loss: 0.523069 train_acc: 0.718750\n",
            "EPOCH 2 STEP 700 : train_loss: 0.388670 train_acc: 0.843750\n",
            "EPOCH 2 : valid_acc: 0.604775\n",
            "EPOCH 3 STEP 750 : train_loss: 0.165939 train_acc: 0.937500\n",
            "EPOCH 3 STEP 800 : train_loss: 0.211972 train_acc: 0.937500\n",
            "EPOCH 3 STEP 850 : train_loss: 0.776644 train_acc: 0.718750\n",
            "EPOCH 3 STEP 900 : train_loss: 0.239442 train_acc: 0.843750\n",
            "EPOCH 3 : valid_acc: 0.647745\n",
            "EPOCH 4 STEP 950 : train_loss: 0.315995 train_acc: 0.875000\n",
            "EPOCH 4 STEP 1000 : train_loss: 0.276562 train_acc: 0.937500\n",
            "EPOCH 4 STEP 1050 : train_loss: 0.222603 train_acc: 0.875000\n",
            "EPOCH 4 STEP 1100 : train_loss: 0.110635 train_acc: 0.968750\n",
            "EPOCH 4 STEP 1150 : train_loss: 0.152620 train_acc: 0.875000\n",
            "EPOCH 4 : valid_acc: 0.621751\n"
          ],
          "name": "stdout"
        }
      ]
    },
    {
      "cell_type": "code",
      "metadata": {
        "colab": {
          "base_uri": "https://localhost:8080/",
          "height": 638
        },
        "id": "ya1R2vcU17xb",
        "outputId": "b606d6fd-3c0b-422d-a22e-f142aad8f08b"
      },
      "source": [
        "print(round(model_pipe.test(), 2))\n",
        "draw(history)"
      ],
      "execution_count": null,
      "outputs": [
        {
          "output_type": "stream",
          "text": [
            "0.52\n"
          ],
          "name": "stdout"
        },
        {
          "output_type": "display_data",
          "data": {
            "image/png": "[encoded data removed]",
            "text/plain": [
              "<Figure size 864x720 with 4 Axes>"
            ]
          },
          "metadata": {
            "tags": [],
            "needs_background": "light"
          }
        }
      ]
    },
    {
      "cell_type": "markdown",
      "metadata": {
        "id": "y2OWaGL4q1gA"
      },
      "source": [
        "Ситуация такая же, как у предыдущих сеток, но результат на тесте еще хуже. Почти как случайный классификатор. Явно 2 головы только все усложнили. Вернемся к 1 голове."
      ]
    },
    {
      "cell_type": "markdown",
      "metadata": {
        "id": "7LNs6gn8rBDR"
      },
      "source": [
        "Сейчас я разморожу все параметры до эмбеддингов."
      ]
    },
    {
      "cell_type": "code",
      "metadata": {
        "colab": {
          "base_uri": "https://localhost:8080/"
        },
        "id": "aQuuKmTZ2gkm",
        "outputId": "877c08e4-d292-449c-c9e7-03bdf6891ea3"
      },
      "source": [
        "freeze_type = 'emb'\n",
        "model = QuestAnsweringDistilBERT(bert, config, freeze_type, n_layers=1,\n",
        "                                 hidden_dim=384, dim=768)\n",
        "model_pipe = Model_Pipe(train_dataset, valid_dataset, dev_dataset,\n",
        "                        model, hyperparams, freeze_type,\n",
        "                        'emb_frozen_1_head_hid_384_distilbert')\n",
        "history = model_pipe.run_train()"
      ],
      "execution_count": null,
      "outputs": [
        {
          "output_type": "stream",
          "text": [
            "EPOCH 0 STEP 50 : train_loss: 1.108683 train_acc: 0.468750\n",
            "EPOCH 0 STEP 100 : train_loss: 1.085799 train_acc: 0.625000\n",
            "EPOCH 0 STEP 150 : train_loss: 1.225793 train_acc: 0.687500\n",
            "EPOCH 0 STEP 200 : train_loss: 0.955040 train_acc: 0.468750\n",
            "EPOCH 0 : valid_acc: 0.611671\n",
            "EPOCH 1 STEP 250 : train_loss: 0.522683 train_acc: 0.687500\n",
            "EPOCH 1 STEP 300 : train_loss: 0.642390 train_acc: 0.687500\n",
            "EPOCH 1 STEP 350 : train_loss: 0.303550 train_acc: 0.875000\n",
            "EPOCH 1 STEP 400 : train_loss: 0.411218 train_acc: 0.781250\n",
            "EPOCH 1 STEP 450 : train_loss: 0.453421 train_acc: 0.781250\n",
            "EPOCH 1 : valid_acc: 0.605305\n",
            "EPOCH 2 STEP 500 : train_loss: 0.294248 train_acc: 0.906250\n",
            "EPOCH 2 STEP 550 : train_loss: 0.352501 train_acc: 0.812500\n",
            "EPOCH 2 STEP 600 : train_loss: 0.153269 train_acc: 0.937500\n",
            "EPOCH 2 STEP 650 : train_loss: 0.313300 train_acc: 0.843750\n",
            "EPOCH 2 STEP 700 : train_loss: 0.416330 train_acc: 0.843750\n",
            "EPOCH 2 : valid_acc: 0.621220\n",
            "EPOCH 3 STEP 750 : train_loss: 0.133080 train_acc: 0.968750\n",
            "EPOCH 3 STEP 800 : train_loss: 0.357692 train_acc: 0.937500\n",
            "EPOCH 3 STEP 850 : train_loss: 0.211708 train_acc: 0.937500\n",
            "EPOCH 3 STEP 900 : train_loss: 0.257586 train_acc: 0.906250\n",
            "EPOCH 3 : valid_acc: 0.596817\n",
            "EPOCH 4 STEP 950 : train_loss: 0.084127 train_acc: 0.968750\n",
            "EPOCH 4 STEP 1000 : train_loss: 0.135882 train_acc: 0.937500\n",
            "EPOCH 4 STEP 1050 : train_loss: 0.092315 train_acc: 0.968750\n",
            "EPOCH 4 STEP 1100 : train_loss: 0.081924 train_acc: 1.000000\n",
            "EPOCH 4 STEP 1150 : train_loss: 0.167844 train_acc: 0.875000\n",
            "EPOCH 4 : valid_acc: 0.635544\n"
          ],
          "name": "stdout"
        }
      ]
    },
    {
      "cell_type": "code",
      "metadata": {
        "colab": {
          "base_uri": "https://localhost:8080/",
          "height": 638
        },
        "id": "UKlgvpKH7G3X",
        "outputId": "0581ac64-d0f2-49af-c035-ccadf777789e"
      },
      "source": [
        "print(round(model_pipe.test(), 2))\n",
        "draw(history)"
      ],
      "execution_count": null,
      "outputs": [
        {
          "output_type": "stream",
          "text": [
            "0.62\n"
          ],
          "name": "stdout"
        },
        {
          "output_type": "display_data",
          "data": {
            "image/png": "[encoded data removed]",
            "text/plain": [
              "<Figure size 864x720 with 4 Axes>"
            ]
          },
          "metadata": {
            "tags": [],
            "needs_background": "light"
          }
        }
      ]
    },
    {
      "cell_type": "markdown",
      "metadata": {
        "id": "jPRiawd6rEvh"
      },
      "source": [
        "Модель улучшила результат хотя бы до константного, но сохраняет все предыдущие проблемы. Тем не менее, выберу такую модификацию как приоритет."
      ]
    },
    {
      "cell_type": "markdown",
      "metadata": {
        "id": "iBcBUXN7rOME"
      },
      "source": [
        "Далее буду размораживать bert-transformer часть только с 3 эпохи обучения."
      ]
    },
    {
      "cell_type": "code",
      "metadata": {
        "colab": {
          "base_uri": "https://localhost:8080/"
        },
        "id": "Rg-sx1M78O5C",
        "outputId": "c3f1f6a8-9ca9-4860-ea7c-b319d8356c0d"
      },
      "source": [
        "hyperparams = {'lr': 1e-4, 'batch_size': 16, 'epochs': 10}\n",
        "freeze_type = 'part'\n",
        "model = QuestAnsweringDistilBERT(bert, config, freeze_type, n_layers=1,\n",
        "                                 hidden_dim=384, dim=768)\n",
        "model_pipe = Model_Pipe(train_dataset, valid_dataset, dev_dataset,\n",
        "                        model, hyperparams, freeze_type,\n",
        "                        'part_frozen_1_head_hid_384_distilbert')\n",
        "history = model_pipe.run_train()"
      ],
      "execution_count": 32,
      "outputs": [
        {
          "output_type": "stream",
          "name": "stdout",
          "text": [
            "EPOCH 0 STEP 50 : train_loss: 0.574130 train_acc: 0.687500\n",
            "EPOCH 0 STEP 100 : train_loss: 1.073448 train_acc: 0.437500\n",
            "EPOCH 0 STEP 150 : train_loss: 0.688657 train_acc: 0.687500\n",
            "EPOCH 0 STEP 200 : train_loss: 0.462834 train_acc: 0.750000\n",
            "EPOCH 0 STEP 250 : train_loss: 0.705688 train_acc: 0.562500\n",
            "EPOCH 0 STEP 300 : train_loss: 0.911721 train_acc: 0.437500\n",
            "EPOCH 0 STEP 350 : train_loss: 0.578358 train_acc: 0.687500\n",
            "EPOCH 0 STEP 400 : train_loss: 0.683591 train_acc: 0.687500\n",
            "EPOCH 0 STEP 450 : train_loss: 0.587295 train_acc: 0.687500\n",
            "EPOCH 0 : valid_acc: 0.653581\n",
            "EPOCH 1 STEP 500 : train_loss: 0.425247 train_acc: 0.750000\n",
            "EPOCH 1 STEP 550 : train_loss: 0.543844 train_acc: 0.687500\n",
            "EPOCH 1 STEP 600 : train_loss: 0.246859 train_acc: 0.937500\n",
            "EPOCH 1 STEP 650 : train_loss: 0.401209 train_acc: 0.875000\n",
            "EPOCH 1 STEP 700 : train_loss: 0.751246 train_acc: 0.625000\n",
            "EPOCH 1 STEP 750 : train_loss: 0.566308 train_acc: 0.812500\n",
            "EPOCH 1 STEP 800 : train_loss: 0.462571 train_acc: 0.750000\n",
            "EPOCH 1 STEP 850 : train_loss: 0.561311 train_acc: 0.750000\n",
            "EPOCH 1 STEP 900 : train_loss: 0.381252 train_acc: 0.687500\n",
            "EPOCH 1 : valid_acc: 0.675862\n",
            "EPOCH 2 STEP 950 : train_loss: 0.541091 train_acc: 0.750000\n",
            "EPOCH 2 STEP 1000 : train_loss: 0.147302 train_acc: 0.937500\n",
            "EPOCH 2 STEP 1050 : train_loss: 0.564521 train_acc: 0.937500\n",
            "EPOCH 2 STEP 1100 : train_loss: 0.118445 train_acc: 0.937500\n",
            "EPOCH 2 STEP 1150 : train_loss: 0.312918 train_acc: 0.875000\n",
            "EPOCH 2 STEP 1200 : train_loss: 0.518380 train_acc: 0.875000\n",
            "EPOCH 2 STEP 1250 : train_loss: 0.158147 train_acc: 0.937500\n",
            "EPOCH 2 STEP 1300 : train_loss: 0.187363 train_acc: 0.937500\n",
            "EPOCH 2 STEP 1350 : train_loss: 0.103118 train_acc: 1.000000\n",
            "EPOCH 2 STEP 1400 : train_loss: 0.147933 train_acc: 1.000000\n",
            "EPOCH 2 : valid_acc: 0.673210\n",
            "EPOCH 3 STEP 1450 : train_loss: 0.110113 train_acc: 0.937500\n",
            "EPOCH 3 STEP 1500 : train_loss: 0.922769 train_acc: 0.937500\n",
            "EPOCH 3 STEP 1550 : train_loss: 0.053630 train_acc: 1.000000\n",
            "EPOCH 3 STEP 1600 : train_loss: 0.053639 train_acc: 1.000000\n",
            "EPOCH 3 STEP 1650 : train_loss: 0.024236 train_acc: 1.000000\n",
            "EPOCH 3 STEP 1700 : train_loss: 0.036338 train_acc: 1.000000\n",
            "EPOCH 3 STEP 1750 : train_loss: 0.365327 train_acc: 0.875000\n",
            "EPOCH 3 STEP 1800 : train_loss: 0.319732 train_acc: 0.875000\n",
            "EPOCH 3 STEP 1850 : train_loss: 0.198303 train_acc: 0.937500\n",
            "EPOCH 3 : valid_acc: 0.619629\n",
            "EPOCH 4 STEP 1900 : train_loss: 0.451678 train_acc: 0.875000\n",
            "EPOCH 4 STEP 1950 : train_loss: 0.082233 train_acc: 0.937500\n",
            "EPOCH 4 STEP 2000 : train_loss: 0.013382 train_acc: 1.000000\n",
            "EPOCH 4 STEP 2050 : train_loss: 0.022009 train_acc: 1.000000\n",
            "EPOCH 4 STEP 2100 : train_loss: 0.021482 train_acc: 1.000000\n",
            "EPOCH 4 STEP 2150 : train_loss: 0.024048 train_acc: 1.000000\n",
            "EPOCH 4 STEP 2200 : train_loss: 0.007465 train_acc: 1.000000\n",
            "EPOCH 4 STEP 2250 : train_loss: 0.049047 train_acc: 1.000000\n",
            "EPOCH 4 STEP 2300 : train_loss: 0.032323 train_acc: 1.000000\n",
            "EPOCH 4 STEP 2350 : train_loss: 0.108461 train_acc: 0.937500\n",
            "EPOCH 4 : valid_acc: 0.649867\n"
          ]
        }
      ]
    },
    {
      "cell_type": "code",
      "source": [
        "from google.colab import files\n",
        "files.download('/content/part_frozen_1_head_hid_384_distilbert_best-val-model.pt') "
      ],
      "metadata": {
        "colab": {
          "base_uri": "https://localhost:8080/",
          "height": 17
        },
        "id": "QdSMhnA8cvux",
        "outputId": "cc192a4b-6435-4276-f387-16608d3f7a4e"
      },
      "execution_count": 33,
      "outputs": [
        {
          "output_type": "display_data",
          "data": {
            "text/plain": [
              "<IPython.core.display.Javascript object>"
            ],
            "application/javascript": [
              "\n",
              "    async function download(id, filename, size) {\n",
              "      if (!google.colab.kernel.accessAllowed) {\n",
              "        return;\n",
              "      }\n",
              "      const div = document.createElement('div');\n",
              "      const label = document.createElement('label');\n",
              "      label.textContent = `Downloading \"${filename}\": `;\n",
              "      div.appendChild(label);\n",
              "      const progress = document.createElement('progress');\n",
              "      progress.max = size;\n",
              "      div.appendChild(progress);\n",
              "      document.body.appendChild(div);\n",
              "\n",
              "      const buffers = [];\n",
              "      let downloaded = 0;\n",
              "\n",
              "      const channel = await google.colab.kernel.comms.open(id);\n",
              "      // Send a message to notify the kernel that we're ready.\n",
              "      channel.send({})\n",
              "\n",
              "      for await (const message of channel.messages) {\n",
              "        // Send a message to notify the kernel that we're ready.\n",
              "        channel.send({})\n",
              "        if (message.buffers) {\n",
              "          for (const buffer of message.buffers) {\n",
              "            buffers.push(buffer);\n",
              "            downloaded += buffer.byteLength;\n",
              "            progress.value = downloaded;\n",
              "          }\n",
              "        }\n",
              "      }\n",
              "      const blob = new Blob(buffers, {type: 'application/binary'});\n",
              "      const a = document.createElement('a');\n",
              "      a.href = window.URL.createObjectURL(blob);\n",
              "      a.download = filename;\n",
              "      div.appendChild(a);\n",
              "      a.click();\n",
              "      div.remove();\n",
              "    }\n",
              "  "
            ]
          },
          "metadata": {}
        },
        {
          "output_type": "display_data",
          "data": {
            "text/plain": [
              "<IPython.core.display.Javascript object>"
            ],
            "application/javascript": [
              "download(\"download_ffce9ad5-9a4e-4252-bf1b-3859814d732f\", \"part_frozen_1_head_hid_384_distilbert_best-val-model.pt\", 278900717)"
            ]
          },
          "metadata": {}
        }
      ]
    },
    {
      "cell_type": "code",
      "metadata": {
        "id": "vDOWYaeE8SN2",
        "colab": {
          "base_uri": "https://localhost:8080/",
          "height": 638
        },
        "outputId": "f51778ea-69ef-4560-a02c-b19f91df0158"
      },
      "source": [
        "print(round(model_pipe.test(), 2))\n",
        "draw(history)"
      ],
      "execution_count": null,
      "outputs": [
        {
          "output_type": "stream",
          "text": [
            "0.67\n"
          ],
          "name": "stdout"
        },
        {
          "output_type": "display_data",
          "data": {
            "image/png": "[encoded data removed]",
            "text/plain": [
              "<Figure size 864x720 with 4 Axes>"
            ]
          },
          "metadata": {
            "tags": [],
            "needs_background": "light"
          }
        }
      ]
    },
    {
      "cell_type": "markdown",
      "metadata": {
        "id": "323i5os2rVTc"
      },
      "source": [
        "Такая модель уже показывает результаты наравне с fasttext, хотя у нее все такие же проблемы. Но эта модель лучше всех моделей в этом пункте на данный момент. Выберу ее. "
      ]
    },
    {
      "cell_type": "markdown",
      "metadata": {
        "id": "UBqBX5bIrq-N"
      },
      "source": [
        "Теперь попробую разморозить вообще все слои."
      ]
    },
    {
      "cell_type": "code",
      "metadata": {
        "colab": {
          "base_uri": "https://localhost:8080/"
        },
        "id": "OETk687Dch1v",
        "outputId": "b3f11eed-0b4a-4d88-d2e0-0969f49c5a17"
      },
      "source": [
        "hyperparams = {'lr': 1e-4, 'batch_size': 16, 'epochs': 10}\n",
        "freeze_type = 'none'\n",
        "model = QuestAnsweringDistilBERT(bert, config, freeze_type, n_layers=1,\n",
        "                                 hidden_dim=384, dim=768)\n",
        "model_pipe = Model_Pipe(train_dataset, valid_dataset, dev_dataset,\n",
        "                        model, hyperparams, freeze_type,\n",
        "                        'none_frozen_1_head_hid_384_distilbert')\n",
        "history = model_pipe.run_train()"
      ],
      "execution_count": null,
      "outputs": [
        {
          "output_type": "stream",
          "text": [
            "EPOCH 0 STEP 50 : train_loss: 0.860260 train_acc: 0.562500\n",
            "EPOCH 0 STEP 100 : train_loss: 0.824882 train_acc: 0.750000\n",
            "EPOCH 0 STEP 150 : train_loss: 0.734411 train_acc: 0.750000\n",
            "EPOCH 0 STEP 200 : train_loss: 1.129322 train_acc: 0.375000\n",
            "EPOCH 0 STEP 250 : train_loss: 0.633680 train_acc: 0.687500\n",
            "EPOCH 0 STEP 300 : train_loss: 0.943243 train_acc: 0.375000\n",
            "EPOCH 0 STEP 350 : train_loss: 0.662918 train_acc: 0.687500\n",
            "EPOCH 0 STEP 400 : train_loss: 0.746828 train_acc: 0.562500\n",
            "EPOCH 0 STEP 450 : train_loss: 0.525621 train_acc: 0.812500\n",
            "EPOCH 0 : valid_acc: 0.653581\n",
            "EPOCH 1 STEP 500 : train_loss: 0.553997 train_acc: 0.750000\n",
            "EPOCH 1 STEP 550 : train_loss: 0.401165 train_acc: 0.750000\n",
            "EPOCH 1 STEP 600 : train_loss: 0.811650 train_acc: 0.687500\n",
            "EPOCH 1 STEP 650 : train_loss: 0.652895 train_acc: 0.687500\n",
            "EPOCH 1 STEP 700 : train_loss: 0.449267 train_acc: 0.812500\n",
            "EPOCH 1 STEP 750 : train_loss: 0.270606 train_acc: 0.937500\n",
            "EPOCH 1 STEP 800 : train_loss: 0.377012 train_acc: 0.812500\n",
            "EPOCH 1 STEP 850 : train_loss: 0.449606 train_acc: 0.812500\n",
            "EPOCH 1 STEP 900 : train_loss: 1.066748 train_acc: 0.687500\n",
            "EPOCH 1 : valid_acc: 0.632361\n",
            "EPOCH 2 STEP 950 : train_loss: 0.558515 train_acc: 0.750000\n",
            "EPOCH 2 STEP 1000 : train_loss: 0.093313 train_acc: 0.937500\n",
            "EPOCH 2 STEP 1050 : train_loss: 0.090265 train_acc: 0.937500\n",
            "EPOCH 2 STEP 1100 : train_loss: 0.226300 train_acc: 0.937500\n",
            "EPOCH 2 STEP 1150 : train_loss: 0.074805 train_acc: 1.000000\n",
            "EPOCH 2 STEP 1200 : train_loss: 0.140892 train_acc: 0.937500\n",
            "EPOCH 2 STEP 1250 : train_loss: 0.178321 train_acc: 0.937500\n",
            "EPOCH 2 STEP 1300 : train_loss: 0.561637 train_acc: 0.875000\n",
            "EPOCH 2 STEP 1350 : train_loss: 0.102586 train_acc: 1.000000\n",
            "EPOCH 2 STEP 1400 : train_loss: 0.084242 train_acc: 1.000000\n",
            "EPOCH 2 : valid_acc: 0.678515\n",
            "EPOCH 3 STEP 1450 : train_loss: 0.019599 train_acc: 1.000000\n",
            "EPOCH 3 STEP 1500 : train_loss: 0.055898 train_acc: 1.000000\n",
            "EPOCH 3 STEP 1550 : train_loss: 0.120609 train_acc: 0.937500\n",
            "EPOCH 3 STEP 1600 : train_loss: 0.141759 train_acc: 0.937500\n",
            "EPOCH 3 STEP 1650 : train_loss: 0.034777 train_acc: 1.000000\n",
            "EPOCH 3 STEP 1700 : train_loss: 0.051966 train_acc: 0.937500\n",
            "EPOCH 3 STEP 1750 : train_loss: 0.067176 train_acc: 1.000000\n",
            "EPOCH 3 STEP 1800 : train_loss: 0.260994 train_acc: 0.875000\n",
            "EPOCH 3 STEP 1850 : train_loss: 0.201706 train_acc: 0.812500\n",
            "EPOCH 3 : valid_acc: 0.651459\n",
            "EPOCH 4 STEP 1900 : train_loss: 0.018756 train_acc: 1.000000\n",
            "EPOCH 4 STEP 1950 : train_loss: 0.021410 train_acc: 1.000000\n",
            "EPOCH 4 STEP 2000 : train_loss: 0.020931 train_acc: 1.000000\n",
            "EPOCH 4 STEP 2050 : train_loss: 0.040316 train_acc: 1.000000\n",
            "EPOCH 4 STEP 2100 : train_loss: 0.039110 train_acc: 1.000000\n",
            "EPOCH 4 STEP 2150 : train_loss: 0.045870 train_acc: 1.000000\n",
            "EPOCH 4 STEP 2200 : train_loss: 0.017550 train_acc: 1.000000\n",
            "EPOCH 4 STEP 2250 : train_loss: 0.013727 train_acc: 1.000000\n",
            "EPOCH 4 STEP 2300 : train_loss: 0.592832 train_acc: 0.937500\n",
            "EPOCH 4 STEP 2350 : train_loss: 0.015226 train_acc: 1.000000\n",
            "EPOCH 4 : valid_acc: 0.655703\n"
          ],
          "name": "stdout"
        }
      ]
    },
    {
      "cell_type": "code",
      "metadata": {
        "colab": {
          "base_uri": "https://localhost:8080/",
          "height": 638
        },
        "id": "bP9wcSZQcnBB",
        "outputId": "83723c37-bc0a-4072-a53d-6b9e8090be66"
      },
      "source": [
        "print(round(model_pipe.test(), 2))\n",
        "draw(history)"
      ],
      "execution_count": null,
      "outputs": [
        {
          "output_type": "stream",
          "text": [
            "0.66\n"
          ],
          "name": "stdout"
        },
        {
          "output_type": "display_data",
          "data": {
            "image/png": "[encoded data removed]",
            "text/plain": [
              "<Figure size 864x720 with 4 Axes>"
            ]
          },
          "metadata": {
            "tags": [],
            "needs_background": "light"
          }
        }
      ]
    },
    {
      "cell_type": "markdown",
      "metadata": {
        "id": "sFTQzhJUrusc"
      },
      "source": [
        "Это не улучшило предыдущий показатель, хотя модель не сильно отстает от лучшей модели в этом направлении, а также от моделей на fasttext. Тем не менее, она сложнее, чем предыдущая и в ней больше обучаемых параметров, поэтому не буду ее выбирать.\n",
        "\n",
        "Сейчас попробую использовать Roberta."
      ]
    },
    {
      "cell_type": "code",
      "metadata": {
        "id": "tpS9cG1rn2JA"
      },
      "source": [
        "from transformers import RobertaTokenizer, RobertaModel, RobertaConfig\n",
        "tokenizer = RobertaTokenizer.from_pretrained('roberta-base')\n",
        "bert = RobertaModel.from_pretrained('roberta-base')"
      ],
      "execution_count": null,
      "outputs": []
    },
    {
      "cell_type": "code",
      "metadata": {
        "id": "PkAUUu7ioJpi"
      },
      "source": [
        "train_dataset = CustomDataset(train_df, tokenizer)\n",
        "valid_dataset = CustomDataset(val_df, tokenizer)\n",
        "dev_dataset = CustomDataset(dev_df, tokenizer)"
      ],
      "execution_count": null,
      "outputs": []
    },
    {
      "cell_type": "markdown",
      "metadata": {
        "id": "1kMcWo_lr-Bd"
      },
      "source": [
        "Обучу на лучших параметрах для DistilBert."
      ]
    },
    {
      "cell_type": "code",
      "metadata": {
        "colab": {
          "base_uri": "https://localhost:8080/"
        },
        "id": "20dMfyhioJxd",
        "outputId": "7c72a740-3f73-4451-ba84-a43eb3491674"
      },
      "source": [
        "hyperparams = {'lr': 1e-4, 'batch_size': 8, 'epochs': 10}\n",
        "freeze_type = 'part'\n",
        "model = QuestAnsweringDistilBERT(bert, config, freeze_type, n_layers=1,\n",
        "                                 hidden_dim=384, dim=768)\n",
        "model_pipe = Model_Pipe(train_dataset, valid_dataset, dev_dataset,\n",
        "                        model, hyperparams, freeze_type,\n",
        "                        'part_frozen_1_head_hid_384_roberta')\n",
        "history = model_pipe.run_train()"
      ],
      "execution_count": null,
      "outputs": [
        {
          "output_type": "stream",
          "text": [
            "EPOCH 0 STEP 50 : train_loss: 0.660467 train_acc: 0.625000\n",
            "EPOCH 0 STEP 100 : train_loss: 1.655990 train_acc: 0.250000\n",
            "EPOCH 0 STEP 150 : train_loss: 0.689651 train_acc: 0.625000\n",
            "EPOCH 0 STEP 200 : train_loss: 0.670205 train_acc: 0.625000\n",
            "EPOCH 0 STEP 250 : train_loss: 0.549037 train_acc: 0.875000\n",
            "EPOCH 0 STEP 300 : train_loss: 0.696107 train_acc: 0.625000\n",
            "EPOCH 0 STEP 350 : train_loss: 0.709085 train_acc: 0.625000\n",
            "EPOCH 0 STEP 400 : train_loss: 0.900913 train_acc: 0.625000\n",
            "EPOCH 0 STEP 450 : train_loss: 0.990798 train_acc: 0.625000\n",
            "EPOCH 0 STEP 500 : train_loss: 0.786503 train_acc: 0.500000\n",
            "EPOCH 0 STEP 550 : train_loss: 0.543452 train_acc: 0.750000\n",
            "EPOCH 0 STEP 600 : train_loss: 0.726578 train_acc: 0.375000\n",
            "EPOCH 0 STEP 650 : train_loss: 0.536103 train_acc: 0.750000\n",
            "EPOCH 0 STEP 700 : train_loss: 0.918845 train_acc: 0.500000\n",
            "EPOCH 0 STEP 750 : train_loss: 0.907917 train_acc: 0.625000\n",
            "EPOCH 0 STEP 800 : train_loss: 1.544864 train_acc: 0.375000\n",
            "EPOCH 0 STEP 850 : train_loss: 0.721433 train_acc: 0.500000\n",
            "EPOCH 0 STEP 900 : train_loss: 0.747755 train_acc: 0.375000\n",
            "EPOCH 0 : valid_acc: 0.375066\n",
            "EPOCH 1 STEP 950 : train_loss: 0.708568 train_acc: 0.375000\n",
            "EPOCH 1 STEP 1000 : train_loss: 1.440875 train_acc: 0.375000\n",
            "EPOCH 1 STEP 1050 : train_loss: 0.680952 train_acc: 0.625000\n",
            "EPOCH 1 STEP 1100 : train_loss: 0.992753 train_acc: 0.500000\n",
            "EPOCH 1 STEP 1150 : train_loss: 1.199174 train_acc: 0.375000\n",
            "EPOCH 1 STEP 1200 : train_loss: 0.557902 train_acc: 0.750000\n",
            "EPOCH 1 STEP 1250 : train_loss: 0.534242 train_acc: 0.750000\n",
            "EPOCH 1 STEP 1300 : train_loss: 0.593111 train_acc: 0.750000\n",
            "EPOCH 1 STEP 1350 : train_loss: 0.494604 train_acc: 0.875000\n",
            "EPOCH 1 STEP 1400 : train_loss: 0.685142 train_acc: 0.500000\n",
            "EPOCH 1 STEP 1450 : train_loss: 0.687078 train_acc: 0.250000\n",
            "EPOCH 1 STEP 1500 : train_loss: 0.538483 train_acc: 0.875000\n",
            "EPOCH 1 STEP 1550 : train_loss: 0.954989 train_acc: 0.500000\n",
            "EPOCH 1 STEP 1600 : train_loss: 0.788256 train_acc: 0.250000\n",
            "EPOCH 1 STEP 1650 : train_loss: 0.685122 train_acc: 0.625000\n",
            "EPOCH 1 STEP 1700 : train_loss: 0.644822 train_acc: 0.625000\n",
            "EPOCH 1 STEP 1750 : train_loss: 0.716069 train_acc: 0.625000\n",
            "EPOCH 1 STEP 1800 : train_loss: 0.641283 train_acc: 0.750000\n",
            "EPOCH 1 STEP 1850 : train_loss: 0.700279 train_acc: 0.500000\n",
            "EPOCH 1 : valid_acc: 0.624934\n",
            "EPOCH 2 STEP 1900 : train_loss: 0.692911 train_acc: 0.625000\n",
            "EPOCH 2 STEP 1950 : train_loss: 0.616104 train_acc: 0.750000\n",
            "EPOCH 2 STEP 2000 : train_loss: 1.021367 train_acc: 0.250000\n",
            "EPOCH 2 STEP 2050 : train_loss: 0.943092 train_acc: 0.125000\n",
            "EPOCH 2 STEP 2100 : train_loss: 0.908138 train_acc: 0.500000\n",
            "EPOCH 2 STEP 2150 : train_loss: 0.763672 train_acc: 0.375000\n",
            "EPOCH 2 STEP 2200 : train_loss: 0.771151 train_acc: 0.625000\n",
            "EPOCH 2 STEP 2250 : train_loss: 1.016342 train_acc: 0.500000\n",
            "EPOCH 2 STEP 2300 : train_loss: 1.045011 train_acc: 0.500000\n",
            "EPOCH 2 STEP 2350 : train_loss: 0.727562 train_acc: 0.375000\n",
            "EPOCH 2 STEP 2400 : train_loss: 0.923629 train_acc: 0.625000\n",
            "EPOCH 2 STEP 2450 : train_loss: 0.767586 train_acc: 0.250000\n",
            "EPOCH 2 STEP 2500 : train_loss: 0.664829 train_acc: 0.625000\n",
            "EPOCH 2 STEP 2550 : train_loss: 0.713836 train_acc: 0.625000\n",
            "EPOCH 2 STEP 2600 : train_loss: 0.721771 train_acc: 0.625000\n",
            "EPOCH 2 STEP 2650 : train_loss: 0.677405 train_acc: 0.625000\n",
            "EPOCH 2 STEP 2700 : train_loss: 0.930266 train_acc: 0.125000\n",
            "EPOCH 2 STEP 2750 : train_loss: 0.565872 train_acc: 0.750000\n",
            "EPOCH 2 STEP 2800 : train_loss: 0.730336 train_acc: 0.625000\n",
            "EPOCH 2 : valid_acc: 0.624934\n",
            "EPOCH 3 STEP 2850 : train_loss: 0.526265 train_acc: 0.875000\n",
            "EPOCH 3 STEP 2900 : train_loss: 0.562084 train_acc: 0.750000\n",
            "EPOCH 3 STEP 2950 : train_loss: 0.650163 train_acc: 0.500000\n",
            "EPOCH 3 STEP 3000 : train_loss: 0.632554 train_acc: 0.500000\n",
            "EPOCH 3 STEP 3050 : train_loss: 0.962206 train_acc: 0.500000\n",
            "EPOCH 3 STEP 3100 : train_loss: 0.977681 train_acc: 0.500000\n",
            "EPOCH 3 STEP 3150 : train_loss: 0.559139 train_acc: 0.750000\n",
            "EPOCH 3 STEP 3200 : train_loss: 0.835323 train_acc: 0.500000\n",
            "EPOCH 3 STEP 3250 : train_loss: 0.751635 train_acc: 0.375000\n",
            "EPOCH 3 STEP 3300 : train_loss: 0.672346 train_acc: 0.625000\n",
            "EPOCH 3 STEP 3350 : train_loss: 0.642381 train_acc: 0.625000\n",
            "EPOCH 3 STEP 3400 : train_loss: 0.604641 train_acc: 0.750000\n",
            "EPOCH 3 STEP 3450 : train_loss: 1.057019 train_acc: 0.375000\n",
            "EPOCH 3 STEP 3500 : train_loss: 0.600616 train_acc: 0.875000\n",
            "EPOCH 3 STEP 3550 : train_loss: 0.745105 train_acc: 0.125000\n",
            "EPOCH 3 STEP 3600 : train_loss: 0.707776 train_acc: 0.625000\n",
            "EPOCH 3 STEP 3650 : train_loss: 0.857904 train_acc: 0.250000\n",
            "EPOCH 3 STEP 3700 : train_loss: 0.601080 train_acc: 0.750000\n",
            "EPOCH 3 STEP 3750 : train_loss: 0.717800 train_acc: 0.375000\n",
            "EPOCH 3 : valid_acc: 0.624934\n",
            "EPOCH 4 STEP 3800 : train_loss: 0.871913 train_acc: 0.500000\n",
            "EPOCH 4 STEP 3850 : train_loss: 0.516574 train_acc: 0.875000\n",
            "EPOCH 4 STEP 3900 : train_loss: 0.708111 train_acc: 0.500000\n",
            "EPOCH 4 STEP 3950 : train_loss: 0.724842 train_acc: 0.500000\n",
            "EPOCH 4 STEP 4000 : train_loss: 0.705327 train_acc: 0.375000\n",
            "EPOCH 4 STEP 4050 : train_loss: 1.040008 train_acc: 0.625000\n",
            "EPOCH 4 STEP 4100 : train_loss: 0.554900 train_acc: 0.750000\n",
            "EPOCH 4 STEP 4150 : train_loss: 0.768824 train_acc: 0.500000\n",
            "EPOCH 4 STEP 4200 : train_loss: 0.659774 train_acc: 0.750000\n",
            "EPOCH 4 STEP 4250 : train_loss: 0.515457 train_acc: 0.750000\n",
            "EPOCH 4 STEP 4300 : train_loss: 0.705473 train_acc: 0.625000\n",
            "EPOCH 4 STEP 4350 : train_loss: 0.702114 train_acc: 0.625000\n",
            "EPOCH 4 STEP 4400 : train_loss: 0.728744 train_acc: 0.500000\n",
            "EPOCH 4 STEP 4450 : train_loss: 0.712636 train_acc: 0.500000\n",
            "EPOCH 4 STEP 4500 : train_loss: 0.711458 train_acc: 0.500000\n",
            "EPOCH 4 STEP 4550 : train_loss: 0.784708 train_acc: 0.625000\n",
            "EPOCH 4 STEP 4600 : train_loss: 0.912988 train_acc: 0.500000\n",
            "EPOCH 4 STEP 4650 : train_loss: 0.870315 train_acc: 0.375000\n",
            "EPOCH 4 STEP 4700 : train_loss: 0.684150 train_acc: 0.500000\n",
            "EPOCH 4 : valid_acc: 0.624934\n",
            "EPOCH 5 STEP 4750 : train_loss: 0.553748 train_acc: 0.750000\n",
            "EPOCH 5 STEP 4800 : train_loss: 0.797997 train_acc: 0.625000\n",
            "EPOCH 5 STEP 4850 : train_loss: 0.591405 train_acc: 0.750000\n",
            "EPOCH 5 STEP 4900 : train_loss: 0.553302 train_acc: 0.750000\n",
            "EPOCH 5 STEP 4950 : train_loss: 0.676405 train_acc: 0.750000\n",
            "EPOCH 5 STEP 5000 : train_loss: 0.709894 train_acc: 0.500000\n",
            "EPOCH 5 STEP 5050 : train_loss: 1.181756 train_acc: 0.500000\n",
            "EPOCH 5 STEP 5100 : train_loss: 1.004464 train_acc: 0.375000\n",
            "EPOCH 5 STEP 5150 : train_loss: 0.715901 train_acc: 0.375000\n",
            "EPOCH 5 STEP 5200 : train_loss: 0.726536 train_acc: 0.625000\n",
            "EPOCH 5 STEP 5250 : train_loss: 0.606924 train_acc: 0.750000\n",
            "EPOCH 5 STEP 5300 : train_loss: 0.721372 train_acc: 0.500000\n",
            "EPOCH 5 STEP 5350 : train_loss: 0.555652 train_acc: 0.750000\n",
            "EPOCH 5 STEP 5400 : train_loss: 0.772115 train_acc: 0.500000\n",
            "EPOCH 5 STEP 5450 : train_loss: 0.584646 train_acc: 0.750000\n",
            "EPOCH 5 STEP 5500 : train_loss: 1.198997 train_acc: 0.500000\n",
            "EPOCH 5 STEP 5550 : train_loss: 0.640614 train_acc: 0.625000\n",
            "EPOCH 5 STEP 5600 : train_loss: 0.712919 train_acc: 0.500000\n",
            "EPOCH 5 STEP 5650 : train_loss: 0.739392 train_acc: 0.250000\n",
            "EPOCH 5 : valid_acc: 0.624934\n",
            "EPOCH 6 STEP 5700 : train_loss: 0.618305 train_acc: 0.750000\n",
            "EPOCH 6 STEP 5750 : train_loss: 0.926526 train_acc: 0.375000\n",
            "EPOCH 6 STEP 5800 : train_loss: 0.757908 train_acc: 0.500000\n",
            "EPOCH 6 STEP 5850 : train_loss: 0.654576 train_acc: 0.625000\n",
            "EPOCH 6 STEP 5900 : train_loss: 0.728800 train_acc: 0.625000\n",
            "EPOCH 6 STEP 5950 : train_loss: 0.983431 train_acc: 0.500000\n",
            "EPOCH 6 STEP 6000 : train_loss: 0.703925 train_acc: 0.500000\n",
            "EPOCH 6 STEP 6050 : train_loss: 0.724683 train_acc: 0.500000\n",
            "EPOCH 6 STEP 6100 : train_loss: 0.547157 train_acc: 0.750000\n",
            "EPOCH 6 STEP 6150 : train_loss: 0.731700 train_acc: 0.500000\n",
            "EPOCH 6 STEP 6200 : train_loss: 0.645893 train_acc: 0.750000\n",
            "EPOCH 6 STEP 6250 : train_loss: 0.706397 train_acc: 0.625000\n",
            "EPOCH 6 STEP 6300 : train_loss: 0.857769 train_acc: 0.500000\n",
            "EPOCH 6 STEP 6350 : train_loss: 0.830827 train_acc: 0.500000\n",
            "EPOCH 6 STEP 6400 : train_loss: 0.587826 train_acc: 0.750000\n",
            "EPOCH 6 STEP 6450 : train_loss: 0.641098 train_acc: 0.625000\n",
            "EPOCH 6 STEP 6500 : train_loss: 0.641380 train_acc: 0.750000\n",
            "EPOCH 6 STEP 6550 : train_loss: 0.761478 train_acc: 0.500000\n",
            "EPOCH 6 STEP 6600 : train_loss: 0.775230 train_acc: 0.625000\n",
            "EPOCH 6 : valid_acc: 0.624934\n",
            "EPOCH 7 STEP 6650 : train_loss: 0.721067 train_acc: 0.500000\n",
            "EPOCH 7 STEP 6700 : train_loss: 0.573627 train_acc: 0.750000\n",
            "EPOCH 7 STEP 6750 : train_loss: 0.732048 train_acc: 0.500000\n",
            "EPOCH 7 STEP 6800 : train_loss: 0.809768 train_acc: 0.500000\n",
            "EPOCH 7 STEP 6850 : train_loss: 0.819448 train_acc: 0.500000\n",
            "EPOCH 7 STEP 6900 : train_loss: 0.732322 train_acc: 0.375000\n",
            "EPOCH 7 STEP 6950 : train_loss: 0.697050 train_acc: 0.500000\n",
            "EPOCH 7 STEP 7000 : train_loss: 0.879536 train_acc: 0.375000\n",
            "EPOCH 7 STEP 7050 : train_loss: 0.665425 train_acc: 0.625000\n",
            "EPOCH 7 STEP 7100 : train_loss: 0.640944 train_acc: 0.750000\n",
            "EPOCH 7 STEP 7150 : train_loss: 0.723617 train_acc: 0.250000\n",
            "EPOCH 7 STEP 7200 : train_loss: 0.673574 train_acc: 0.625000\n",
            "EPOCH 7 STEP 7250 : train_loss: 0.743692 train_acc: 0.625000\n",
            "EPOCH 7 STEP 7300 : train_loss: 1.130171 train_acc: 0.500000\n",
            "EPOCH 7 STEP 7350 : train_loss: 0.714915 train_acc: 0.500000\n",
            "EPOCH 7 STEP 7400 : train_loss: 0.428601 train_acc: 0.875000\n",
            "EPOCH 7 STEP 7450 : train_loss: 0.676769 train_acc: 0.500000\n",
            "EPOCH 7 STEP 7500 : train_loss: 0.739570 train_acc: 0.625000\n",
            "EPOCH 7 : valid_acc: 0.624934\n",
            "EPOCH 8 STEP 7550 : train_loss: 0.683159 train_acc: 0.625000\n",
            "EPOCH 8 STEP 7600 : train_loss: 0.753763 train_acc: 0.625000\n",
            "EPOCH 8 STEP 7650 : train_loss: 0.657019 train_acc: 0.750000\n",
            "EPOCH 8 STEP 7700 : train_loss: 0.509900 train_acc: 0.875000\n",
            "EPOCH 8 STEP 7750 : train_loss: 0.687292 train_acc: 0.500000\n",
            "EPOCH 8 STEP 7800 : train_loss: 0.222955 train_acc: 1.000000\n",
            "EPOCH 8 STEP 7850 : train_loss: 0.685939 train_acc: 0.500000\n",
            "EPOCH 8 STEP 7900 : train_loss: 0.932642 train_acc: 0.375000\n",
            "EPOCH 8 STEP 7950 : train_loss: 0.706270 train_acc: 0.625000\n",
            "EPOCH 8 STEP 8000 : train_loss: 0.646177 train_acc: 0.625000\n",
            "EPOCH 8 STEP 8050 : train_loss: 0.731750 train_acc: 0.375000\n",
            "EPOCH 8 STEP 8100 : train_loss: 0.414863 train_acc: 0.875000\n",
            "EPOCH 8 STEP 8150 : train_loss: 0.687035 train_acc: 0.625000\n",
            "EPOCH 8 STEP 8200 : train_loss: 0.583388 train_acc: 0.750000\n",
            "EPOCH 8 STEP 8250 : train_loss: 0.683554 train_acc: 0.500000\n",
            "EPOCH 8 STEP 8300 : train_loss: 0.726536 train_acc: 0.375000\n",
            "EPOCH 8 STEP 8350 : train_loss: 0.741620 train_acc: 0.375000\n",
            "EPOCH 8 STEP 8400 : train_loss: 0.950808 train_acc: 0.375000\n",
            "EPOCH 8 STEP 8450 : train_loss: 0.781823 train_acc: 0.500000\n",
            "EPOCH 8 : valid_acc: 0.624934\n",
            "EPOCH 9 STEP 8500 : train_loss: 0.696822 train_acc: 0.625000\n",
            "EPOCH 9 STEP 8550 : train_loss: 0.699571 train_acc: 0.625000\n",
            "EPOCH 9 STEP 8600 : train_loss: 0.879222 train_acc: 0.250000\n",
            "EPOCH 9 STEP 8650 : train_loss: 0.725027 train_acc: 0.500000\n",
            "EPOCH 9 STEP 8700 : train_loss: 0.564275 train_acc: 0.750000\n",
            "EPOCH 9 STEP 8750 : train_loss: 0.557814 train_acc: 0.750000\n",
            "EPOCH 9 STEP 8800 : train_loss: 0.683269 train_acc: 0.750000\n",
            "EPOCH 9 STEP 8850 : train_loss: 0.578117 train_acc: 0.750000\n",
            "EPOCH 9 STEP 8900 : train_loss: 0.892149 train_acc: 0.500000\n",
            "EPOCH 9 STEP 8950 : train_loss: 0.674819 train_acc: 0.625000\n",
            "EPOCH 9 STEP 9000 : train_loss: 0.898820 train_acc: 0.125000\n",
            "EPOCH 9 STEP 9050 : train_loss: 0.857549 train_acc: 0.250000\n",
            "EPOCH 9 STEP 9100 : train_loss: 0.650284 train_acc: 0.625000\n",
            "EPOCH 9 STEP 9150 : train_loss: 0.653353 train_acc: 0.625000\n",
            "EPOCH 9 STEP 9200 : train_loss: 0.843178 train_acc: 0.500000\n",
            "EPOCH 9 STEP 9250 : train_loss: 1.024506 train_acc: 0.375000\n",
            "EPOCH 9 STEP 9300 : train_loss: 0.638682 train_acc: 0.625000\n",
            "EPOCH 9 STEP 9350 : train_loss: 1.198470 train_acc: 0.375000\n",
            "EPOCH 9 STEP 9400 : train_loss: 0.778776 train_acc: 0.500000\n",
            "EPOCH 9 : valid_acc: 0.375066\n"
          ],
          "name": "stdout"
        }
      ]
    },
    {
      "cell_type": "code",
      "metadata": {
        "colab": {
          "base_uri": "https://localhost:8080/",
          "height": 638
        },
        "id": "yL7EtnIFPRF9",
        "outputId": "11ec594e-1dea-436e-d1f4-255ba960089d"
      },
      "source": [
        "print(round(model_pipe.test(), 2))\n",
        "draw(history)"
      ],
      "execution_count": null,
      "outputs": [
        {
          "output_type": "stream",
          "text": [
            "0.62\n"
          ],
          "name": "stdout"
        },
        {
          "output_type": "display_data",
          "data": {
            "image/png": "[encoded data removed]",
            "text/plain": [
              "<Figure size 864x720 with 4 Axes>"
            ]
          },
          "metadata": {
            "tags": [],
            "needs_background": "light"
          }
        }
      ]
    },
    {
      "cell_type": "markdown",
      "metadata": {
        "id": "jDD85hxrsHGu"
      },
      "source": [
        "Я использовал маленький размер батча, так как больший размер приводил к переполнению памяти. Это могло повлиять на качество обучения, которое, возможно, проявляется в нестабильном accuracy на трейне и отсутствию уменьшения в лоссе. На валидации лосс падал, но на точности модели это не сказывалось в лучшую сторону. Результат примерно как константный, что говорит, что модель ничему не научилась. Здесь Roberta явно проиграла DistilBert."
      ]
    },
    {
      "cell_type": "code",
      "metadata": {
        "id": "rG9h1F0H2GyF"
      },
      "source": [],
      "execution_count": null,
      "outputs": []
    }
  ]
}